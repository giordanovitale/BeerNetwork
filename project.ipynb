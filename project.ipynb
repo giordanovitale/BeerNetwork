{
 "cells": [
  {
   "cell_type": "markdown",
   "metadata": {},
   "source": [
    "# 0 - import"
   ]
  },
  {
   "cell_type": "code",
   "execution_count": 2,
   "metadata": {},
   "outputs": [],
   "source": [
    "import pandas as pd\n",
    "import numpy as np\n",
    "import matplotlib.pyplot as plt\n",
    "import datetime\n",
    "import seaborn as sns\n",
    "import networkx as nx\n",
    "import itertools\n",
    "import community\n",
    "\n",
    "\n",
    "from community import community_louvain as louvain\n",
    "from networkx.algorithms import bipartite\n",
    "from networkx.algorithms.link_prediction import jaccard_coefficient\n",
    "from networkx.algorithms.community.quality import modularity\n",
    "from sklearn.model_selection import train_test_split\n",
    "from collections import defaultdict"
   ]
  },
  {
   "cell_type": "code",
   "execution_count": 3,
   "metadata": {},
   "outputs": [
    {
     "data": {
      "text/html": [
       "<div>\n",
       "<style scoped>\n",
       "    .dataframe tbody tr th:only-of-type {\n",
       "        vertical-align: middle;\n",
       "    }\n",
       "\n",
       "    .dataframe tbody tr th {\n",
       "        vertical-align: top;\n",
       "    }\n",
       "\n",
       "    .dataframe thead th {\n",
       "        text-align: right;\n",
       "    }\n",
       "</style>\n",
       "<table border=\"1\" class=\"dataframe\">\n",
       "  <thead>\n",
       "    <tr style=\"text-align: right;\">\n",
       "      <th></th>\n",
       "      <th>brewery_id</th>\n",
       "      <th>brewery_name</th>\n",
       "      <th>review_time</th>\n",
       "      <th>review_overall</th>\n",
       "      <th>review_aroma</th>\n",
       "      <th>review_appearance</th>\n",
       "      <th>review_profilename</th>\n",
       "      <th>beer_style</th>\n",
       "      <th>review_palate</th>\n",
       "      <th>review_taste</th>\n",
       "      <th>beer_name</th>\n",
       "      <th>beer_abv</th>\n",
       "      <th>beer_beerid</th>\n",
       "    </tr>\n",
       "  </thead>\n",
       "  <tbody>\n",
       "    <tr>\n",
       "      <th>0</th>\n",
       "      <td>10325</td>\n",
       "      <td>Vecchio Birraio</td>\n",
       "      <td>1234817823</td>\n",
       "      <td>1.5</td>\n",
       "      <td>2.0</td>\n",
       "      <td>2.5</td>\n",
       "      <td>stcules</td>\n",
       "      <td>Hefeweizen</td>\n",
       "      <td>1.5</td>\n",
       "      <td>1.5</td>\n",
       "      <td>Sausa Weizen</td>\n",
       "      <td>5.0</td>\n",
       "      <td>47986</td>\n",
       "    </tr>\n",
       "    <tr>\n",
       "      <th>1</th>\n",
       "      <td>10325</td>\n",
       "      <td>Vecchio Birraio</td>\n",
       "      <td>1235915097</td>\n",
       "      <td>3.0</td>\n",
       "      <td>2.5</td>\n",
       "      <td>3.0</td>\n",
       "      <td>stcules</td>\n",
       "      <td>English Strong Ale</td>\n",
       "      <td>3.0</td>\n",
       "      <td>3.0</td>\n",
       "      <td>Red Moon</td>\n",
       "      <td>6.2</td>\n",
       "      <td>48213</td>\n",
       "    </tr>\n",
       "    <tr>\n",
       "      <th>2</th>\n",
       "      <td>10325</td>\n",
       "      <td>Vecchio Birraio</td>\n",
       "      <td>1235916604</td>\n",
       "      <td>3.0</td>\n",
       "      <td>2.5</td>\n",
       "      <td>3.0</td>\n",
       "      <td>stcules</td>\n",
       "      <td>Foreign / Export Stout</td>\n",
       "      <td>3.0</td>\n",
       "      <td>3.0</td>\n",
       "      <td>Black Horse Black Beer</td>\n",
       "      <td>6.5</td>\n",
       "      <td>48215</td>\n",
       "    </tr>\n",
       "    <tr>\n",
       "      <th>3</th>\n",
       "      <td>10325</td>\n",
       "      <td>Vecchio Birraio</td>\n",
       "      <td>1234725145</td>\n",
       "      <td>3.0</td>\n",
       "      <td>3.0</td>\n",
       "      <td>3.5</td>\n",
       "      <td>stcules</td>\n",
       "      <td>German Pilsener</td>\n",
       "      <td>2.5</td>\n",
       "      <td>3.0</td>\n",
       "      <td>Sausa Pils</td>\n",
       "      <td>5.0</td>\n",
       "      <td>47969</td>\n",
       "    </tr>\n",
       "    <tr>\n",
       "      <th>4</th>\n",
       "      <td>1075</td>\n",
       "      <td>Caldera Brewing Company</td>\n",
       "      <td>1293735206</td>\n",
       "      <td>4.0</td>\n",
       "      <td>4.5</td>\n",
       "      <td>4.0</td>\n",
       "      <td>johnmichaelsen</td>\n",
       "      <td>American Double / Imperial IPA</td>\n",
       "      <td>4.0</td>\n",
       "      <td>4.5</td>\n",
       "      <td>Cauldron DIPA</td>\n",
       "      <td>7.7</td>\n",
       "      <td>64883</td>\n",
       "    </tr>\n",
       "    <tr>\n",
       "      <th>...</th>\n",
       "      <td>...</td>\n",
       "      <td>...</td>\n",
       "      <td>...</td>\n",
       "      <td>...</td>\n",
       "      <td>...</td>\n",
       "      <td>...</td>\n",
       "      <td>...</td>\n",
       "      <td>...</td>\n",
       "      <td>...</td>\n",
       "      <td>...</td>\n",
       "      <td>...</td>\n",
       "      <td>...</td>\n",
       "      <td>...</td>\n",
       "    </tr>\n",
       "    <tr>\n",
       "      <th>1586609</th>\n",
       "      <td>14359</td>\n",
       "      <td>The Defiant Brewing Company</td>\n",
       "      <td>1162684892</td>\n",
       "      <td>5.0</td>\n",
       "      <td>4.0</td>\n",
       "      <td>3.5</td>\n",
       "      <td>maddogruss</td>\n",
       "      <td>Pumpkin Ale</td>\n",
       "      <td>4.0</td>\n",
       "      <td>4.0</td>\n",
       "      <td>The Horseman's Ale</td>\n",
       "      <td>5.2</td>\n",
       "      <td>33061</td>\n",
       "    </tr>\n",
       "    <tr>\n",
       "      <th>1586610</th>\n",
       "      <td>14359</td>\n",
       "      <td>The Defiant Brewing Company</td>\n",
       "      <td>1161048566</td>\n",
       "      <td>4.0</td>\n",
       "      <td>5.0</td>\n",
       "      <td>2.5</td>\n",
       "      <td>yelterdow</td>\n",
       "      <td>Pumpkin Ale</td>\n",
       "      <td>2.0</td>\n",
       "      <td>4.0</td>\n",
       "      <td>The Horseman's Ale</td>\n",
       "      <td>5.2</td>\n",
       "      <td>33061</td>\n",
       "    </tr>\n",
       "    <tr>\n",
       "      <th>1586611</th>\n",
       "      <td>14359</td>\n",
       "      <td>The Defiant Brewing Company</td>\n",
       "      <td>1160702513</td>\n",
       "      <td>4.5</td>\n",
       "      <td>3.5</td>\n",
       "      <td>3.0</td>\n",
       "      <td>TongoRad</td>\n",
       "      <td>Pumpkin Ale</td>\n",
       "      <td>3.5</td>\n",
       "      <td>4.0</td>\n",
       "      <td>The Horseman's Ale</td>\n",
       "      <td>5.2</td>\n",
       "      <td>33061</td>\n",
       "    </tr>\n",
       "    <tr>\n",
       "      <th>1586612</th>\n",
       "      <td>14359</td>\n",
       "      <td>The Defiant Brewing Company</td>\n",
       "      <td>1160023044</td>\n",
       "      <td>4.0</td>\n",
       "      <td>4.5</td>\n",
       "      <td>4.5</td>\n",
       "      <td>dherling</td>\n",
       "      <td>Pumpkin Ale</td>\n",
       "      <td>4.5</td>\n",
       "      <td>4.5</td>\n",
       "      <td>The Horseman's Ale</td>\n",
       "      <td>5.2</td>\n",
       "      <td>33061</td>\n",
       "    </tr>\n",
       "    <tr>\n",
       "      <th>1586613</th>\n",
       "      <td>14359</td>\n",
       "      <td>The Defiant Brewing Company</td>\n",
       "      <td>1160005319</td>\n",
       "      <td>5.0</td>\n",
       "      <td>4.5</td>\n",
       "      <td>4.5</td>\n",
       "      <td>cbl2</td>\n",
       "      <td>Pumpkin Ale</td>\n",
       "      <td>4.5</td>\n",
       "      <td>4.5</td>\n",
       "      <td>The Horseman's Ale</td>\n",
       "      <td>5.2</td>\n",
       "      <td>33061</td>\n",
       "    </tr>\n",
       "  </tbody>\n",
       "</table>\n",
       "<p>1586614 rows × 13 columns</p>\n",
       "</div>"
      ],
      "text/plain": [
       "         brewery_id                 brewery_name  review_time  review_overall  \\\n",
       "0             10325              Vecchio Birraio   1234817823             1.5   \n",
       "1             10325              Vecchio Birraio   1235915097             3.0   \n",
       "2             10325              Vecchio Birraio   1235916604             3.0   \n",
       "3             10325              Vecchio Birraio   1234725145             3.0   \n",
       "4              1075      Caldera Brewing Company   1293735206             4.0   \n",
       "...             ...                          ...          ...             ...   \n",
       "1586609       14359  The Defiant Brewing Company   1162684892             5.0   \n",
       "1586610       14359  The Defiant Brewing Company   1161048566             4.0   \n",
       "1586611       14359  The Defiant Brewing Company   1160702513             4.5   \n",
       "1586612       14359  The Defiant Brewing Company   1160023044             4.0   \n",
       "1586613       14359  The Defiant Brewing Company   1160005319             5.0   \n",
       "\n",
       "         review_aroma  review_appearance review_profilename  \\\n",
       "0                 2.0                2.5            stcules   \n",
       "1                 2.5                3.0            stcules   \n",
       "2                 2.5                3.0            stcules   \n",
       "3                 3.0                3.5            stcules   \n",
       "4                 4.5                4.0     johnmichaelsen   \n",
       "...               ...                ...                ...   \n",
       "1586609           4.0                3.5         maddogruss   \n",
       "1586610           5.0                2.5          yelterdow   \n",
       "1586611           3.5                3.0           TongoRad   \n",
       "1586612           4.5                4.5           dherling   \n",
       "1586613           4.5                4.5               cbl2   \n",
       "\n",
       "                             beer_style  review_palate  review_taste  \\\n",
       "0                            Hefeweizen            1.5           1.5   \n",
       "1                    English Strong Ale            3.0           3.0   \n",
       "2                Foreign / Export Stout            3.0           3.0   \n",
       "3                       German Pilsener            2.5           3.0   \n",
       "4        American Double / Imperial IPA            4.0           4.5   \n",
       "...                                 ...            ...           ...   \n",
       "1586609                     Pumpkin Ale            4.0           4.0   \n",
       "1586610                     Pumpkin Ale            2.0           4.0   \n",
       "1586611                     Pumpkin Ale            3.5           4.0   \n",
       "1586612                     Pumpkin Ale            4.5           4.5   \n",
       "1586613                     Pumpkin Ale            4.5           4.5   \n",
       "\n",
       "                      beer_name  beer_abv  beer_beerid  \n",
       "0                  Sausa Weizen       5.0        47986  \n",
       "1                      Red Moon       6.2        48213  \n",
       "2        Black Horse Black Beer       6.5        48215  \n",
       "3                    Sausa Pils       5.0        47969  \n",
       "4                 Cauldron DIPA       7.7        64883  \n",
       "...                         ...       ...          ...  \n",
       "1586609      The Horseman's Ale       5.2        33061  \n",
       "1586610      The Horseman's Ale       5.2        33061  \n",
       "1586611      The Horseman's Ale       5.2        33061  \n",
       "1586612      The Horseman's Ale       5.2        33061  \n",
       "1586613      The Horseman's Ale       5.2        33061  \n",
       "\n",
       "[1586614 rows x 13 columns]"
      ]
     },
     "execution_count": 3,
     "metadata": {},
     "output_type": "execute_result"
    }
   ],
   "source": [
    "pd.read_csv('beer_reviews.csv')"
   ]
  },
  {
   "cell_type": "code",
   "execution_count": 4,
   "metadata": {},
   "outputs": [
    {
     "data": {
      "text/plain": [
       "['brewery_id',\n",
       " 'brewery_name',\n",
       " 'review_time',\n",
       " 'review_overall',\n",
       " 'review_aroma',\n",
       " 'review_appearance',\n",
       " 'review_profilename',\n",
       " 'beer_style',\n",
       " 'review_palate',\n",
       " 'review_taste',\n",
       " 'beer_name',\n",
       " 'beer_abv',\n",
       " 'beer_beerid']"
      ]
     },
     "execution_count": 4,
     "metadata": {},
     "output_type": "execute_result"
    }
   ],
   "source": [
    "beer_df = pd.read_csv(\"beer_reviews.csv\")\n",
    "list(beer_df.columns)"
   ]
  },
  {
   "cell_type": "code",
   "execution_count": 5,
   "metadata": {},
   "outputs": [],
   "source": [
    "beer_df = beer_df.rename(columns={'beer_beerid': 'beer_id'})"
   ]
  },
  {
   "cell_type": "code",
   "execution_count": 6,
   "metadata": {},
   "outputs": [
    {
     "data": {
      "text/html": [
       "<div>\n",
       "<style scoped>\n",
       "    .dataframe tbody tr th:only-of-type {\n",
       "        vertical-align: middle;\n",
       "    }\n",
       "\n",
       "    .dataframe tbody tr th {\n",
       "        vertical-align: top;\n",
       "    }\n",
       "\n",
       "    .dataframe thead th {\n",
       "        text-align: right;\n",
       "    }\n",
       "</style>\n",
       "<table border=\"1\" class=\"dataframe\">\n",
       "  <thead>\n",
       "    <tr style=\"text-align: right;\">\n",
       "      <th></th>\n",
       "      <th>brewery_id</th>\n",
       "      <th>brewery_name</th>\n",
       "      <th>review_time</th>\n",
       "      <th>review_overall</th>\n",
       "      <th>review_aroma</th>\n",
       "      <th>review_appearance</th>\n",
       "      <th>review_profilename</th>\n",
       "      <th>beer_style</th>\n",
       "      <th>review_palate</th>\n",
       "      <th>review_taste</th>\n",
       "      <th>beer_name</th>\n",
       "      <th>beer_abv</th>\n",
       "      <th>beer_id</th>\n",
       "    </tr>\n",
       "  </thead>\n",
       "  <tbody>\n",
       "    <tr>\n",
       "      <th>0</th>\n",
       "      <td>10325</td>\n",
       "      <td>Vecchio Birraio</td>\n",
       "      <td>1234817823</td>\n",
       "      <td>1.5</td>\n",
       "      <td>2.0</td>\n",
       "      <td>2.5</td>\n",
       "      <td>stcules</td>\n",
       "      <td>Hefeweizen</td>\n",
       "      <td>1.5</td>\n",
       "      <td>1.5</td>\n",
       "      <td>Sausa Weizen</td>\n",
       "      <td>5.0</td>\n",
       "      <td>47986</td>\n",
       "    </tr>\n",
       "    <tr>\n",
       "      <th>1</th>\n",
       "      <td>10325</td>\n",
       "      <td>Vecchio Birraio</td>\n",
       "      <td>1235915097</td>\n",
       "      <td>3.0</td>\n",
       "      <td>2.5</td>\n",
       "      <td>3.0</td>\n",
       "      <td>stcules</td>\n",
       "      <td>English Strong Ale</td>\n",
       "      <td>3.0</td>\n",
       "      <td>3.0</td>\n",
       "      <td>Red Moon</td>\n",
       "      <td>6.2</td>\n",
       "      <td>48213</td>\n",
       "    </tr>\n",
       "    <tr>\n",
       "      <th>2</th>\n",
       "      <td>10325</td>\n",
       "      <td>Vecchio Birraio</td>\n",
       "      <td>1235916604</td>\n",
       "      <td>3.0</td>\n",
       "      <td>2.5</td>\n",
       "      <td>3.0</td>\n",
       "      <td>stcules</td>\n",
       "      <td>Foreign / Export Stout</td>\n",
       "      <td>3.0</td>\n",
       "      <td>3.0</td>\n",
       "      <td>Black Horse Black Beer</td>\n",
       "      <td>6.5</td>\n",
       "      <td>48215</td>\n",
       "    </tr>\n",
       "    <tr>\n",
       "      <th>3</th>\n",
       "      <td>10325</td>\n",
       "      <td>Vecchio Birraio</td>\n",
       "      <td>1234725145</td>\n",
       "      <td>3.0</td>\n",
       "      <td>3.0</td>\n",
       "      <td>3.5</td>\n",
       "      <td>stcules</td>\n",
       "      <td>German Pilsener</td>\n",
       "      <td>2.5</td>\n",
       "      <td>3.0</td>\n",
       "      <td>Sausa Pils</td>\n",
       "      <td>5.0</td>\n",
       "      <td>47969</td>\n",
       "    </tr>\n",
       "  </tbody>\n",
       "</table>\n",
       "</div>"
      ],
      "text/plain": [
       "   brewery_id     brewery_name  review_time  review_overall  review_aroma  \\\n",
       "0       10325  Vecchio Birraio   1234817823             1.5           2.0   \n",
       "1       10325  Vecchio Birraio   1235915097             3.0           2.5   \n",
       "2       10325  Vecchio Birraio   1235916604             3.0           2.5   \n",
       "3       10325  Vecchio Birraio   1234725145             3.0           3.0   \n",
       "\n",
       "   review_appearance review_profilename              beer_style  \\\n",
       "0                2.5            stcules              Hefeweizen   \n",
       "1                3.0            stcules      English Strong Ale   \n",
       "2                3.0            stcules  Foreign / Export Stout   \n",
       "3                3.5            stcules         German Pilsener   \n",
       "\n",
       "   review_palate  review_taste               beer_name  beer_abv  beer_id  \n",
       "0            1.5           1.5            Sausa Weizen       5.0    47986  \n",
       "1            3.0           3.0                Red Moon       6.2    48213  \n",
       "2            3.0           3.0  Black Horse Black Beer       6.5    48215  \n",
       "3            2.5           3.0              Sausa Pils       5.0    47969  "
      ]
     },
     "execution_count": 6,
     "metadata": {},
     "output_type": "execute_result"
    }
   ],
   "source": [
    "beer_df.head(4)"
   ]
  },
  {
   "cell_type": "code",
   "execution_count": 7,
   "metadata": {},
   "outputs": [
    {
     "data": {
      "text/plain": [
       "(1586614, 13)"
      ]
     },
     "execution_count": 7,
     "metadata": {},
     "output_type": "execute_result"
    }
   ],
   "source": [
    "beer_df.shape"
   ]
  },
  {
   "cell_type": "code",
   "execution_count": 8,
   "metadata": {},
   "outputs": [
    {
     "data": {
      "text/plain": [
       "brewery_id              int64\n",
       "brewery_name           object\n",
       "review_time             int64\n",
       "review_overall        float64\n",
       "review_aroma          float64\n",
       "review_appearance     float64\n",
       "review_profilename     object\n",
       "beer_style             object\n",
       "review_palate         float64\n",
       "review_taste          float64\n",
       "beer_name              object\n",
       "beer_abv              float64\n",
       "beer_id                 int64\n",
       "dtype: object"
      ]
     },
     "execution_count": 8,
     "metadata": {},
     "output_type": "execute_result"
    }
   ],
   "source": [
    "beer_df.dtypes"
   ]
  },
  {
   "cell_type": "markdown",
   "metadata": {},
   "source": [
    "# 1 - Preprocessing, Data Cleaning & Dataset Inspection"
   ]
  },
  {
   "cell_type": "markdown",
   "metadata": {},
   "source": [
    "#### 1.1 - Column \"review_time\"."
   ]
  },
  {
   "cell_type": "code",
   "execution_count": 9,
   "metadata": {},
   "outputs": [
    {
     "data": {
      "text/plain": [
       "1586611   2006-10-13 01:21:53\n",
       "1586612   2006-10-05 04:37:24\n",
       "1586613   2006-10-04 23:41:59\n",
       "Name: review_time, dtype: datetime64[ns]"
      ]
     },
     "execution_count": 9,
     "metadata": {},
     "output_type": "execute_result"
    }
   ],
   "source": [
    "beer_df['review_time'] = pd.to_datetime(beer_df['review_time'], unit=\"s\")\n",
    "beer_df['review_time'].iloc[-3:]"
   ]
  },
  {
   "cell_type": "markdown",
   "metadata": {},
   "source": [
    "When is the first beer review occurred, and the last one?"
   ]
  },
  {
   "cell_type": "code",
   "execution_count": 10,
   "metadata": {},
   "outputs": [
    {
     "data": {
      "text/plain": [
       "'1996-08-22 to 2012-01-11'"
      ]
     },
     "execution_count": 10,
     "metadata": {},
     "output_type": "execute_result"
    }
   ],
   "source": [
    "str(beer_df['review_time'].dt.date.min()) + ' to ' + str(beer_df['review_time'].dt.date.max())"
   ]
  },
  {
   "cell_type": "markdown",
   "metadata": {},
   "source": [
    "Check how many observations are there for each year. This can help me deciding whether to subset the data frame."
   ]
  },
  {
   "cell_type": "code",
   "execution_count": 11,
   "metadata": {},
   "outputs": [
    {
     "data": {
      "text/plain": [
       "review_time\n",
       "1996         1\n",
       "1998       133\n",
       "1999        86\n",
       "2000       119\n",
       "2001      1999\n",
       "2002     23140\n",
       "2003     56958\n",
       "2004     69701\n",
       "2005     89116\n",
       "2006    129648\n",
       "2007    142404\n",
       "2008    210099\n",
       "2009    243402\n",
       "2010    277072\n",
       "2011    333072\n",
       "2012      9664\n",
       "dtype: int64"
      ]
     },
     "execution_count": 11,
     "metadata": {},
     "output_type": "execute_result"
    }
   ],
   "source": [
    "beer_df.groupby(beer_df['review_time'].dt.year).size()"
   ]
  },
  {
   "cell_type": "markdown",
   "metadata": {},
   "source": [
    "#### 1.2 - Check for unique, null, duplicates and infinite values"
   ]
  },
  {
   "cell_type": "code",
   "execution_count": 12,
   "metadata": {},
   "outputs": [
    {
     "data": {
      "text/plain": [
       "brewery_id               5840\n",
       "brewery_name             5742\n",
       "review_time           1577960\n",
       "review_overall             10\n",
       "review_aroma                9\n",
       "review_appearance          10\n",
       "review_profilename      33387\n",
       "beer_style                104\n",
       "review_palate               9\n",
       "review_taste                9\n",
       "beer_name               56857\n",
       "beer_abv                  530\n",
       "beer_id                 66055\n",
       "dtype: int64"
      ]
     },
     "execution_count": 12,
     "metadata": {},
     "output_type": "execute_result"
    }
   ],
   "source": [
    "beer_df.nunique()"
   ]
  },
  {
   "cell_type": "markdown",
   "metadata": {},
   "source": [
    "There seems to be a discrepancy between brewery_id and brewery_name, but couldn't come up with a way of solving this discrepancy. How is it possible that there are more `brewery_id` than `brewery_name`?"
   ]
  },
  {
   "cell_type": "markdown",
   "metadata": {},
   "source": [
    "Remove the `na`."
   ]
  },
  {
   "cell_type": "code",
   "execution_count": 13,
   "metadata": {},
   "outputs": [
    {
     "data": {
      "text/plain": [
       "brewery_id                0\n",
       "brewery_name             15\n",
       "review_time               0\n",
       "review_overall            0\n",
       "review_aroma              0\n",
       "review_appearance         0\n",
       "review_profilename      348\n",
       "beer_style                0\n",
       "review_palate             0\n",
       "review_taste              0\n",
       "beer_name                 0\n",
       "beer_abv              67785\n",
       "beer_id                   0\n",
       "dtype: int64"
      ]
     },
     "execution_count": 13,
     "metadata": {},
     "output_type": "execute_result"
    }
   ],
   "source": [
    "beer_df.isnull().sum()"
   ]
  },
  {
   "cell_type": "code",
   "execution_count": 14,
   "metadata": {},
   "outputs": [],
   "source": [
    "beer_df = beer_df.dropna()"
   ]
  },
  {
   "cell_type": "markdown",
   "metadata": {},
   "source": [
    "Check for duplicates."
   ]
  },
  {
   "cell_type": "code",
   "execution_count": 15,
   "metadata": {},
   "outputs": [
    {
     "data": {
      "text/plain": [
       "0"
      ]
     },
     "execution_count": 15,
     "metadata": {},
     "output_type": "execute_result"
    }
   ],
   "source": [
    "beer_df.duplicated().sum()"
   ]
  },
  {
   "cell_type": "markdown",
   "metadata": {},
   "source": [
    "#### 1.3 - Inspect the distributions"
   ]
  },
  {
   "cell_type": "code",
   "execution_count": 16,
   "metadata": {},
   "outputs": [
    {
     "data": {
      "text/html": [
       "<div>\n",
       "<style scoped>\n",
       "    .dataframe tbody tr th:only-of-type {\n",
       "        vertical-align: middle;\n",
       "    }\n",
       "\n",
       "    .dataframe tbody tr th {\n",
       "        vertical-align: top;\n",
       "    }\n",
       "\n",
       "    .dataframe thead th {\n",
       "        text-align: right;\n",
       "    }\n",
       "</style>\n",
       "<table border=\"1\" class=\"dataframe\">\n",
       "  <thead>\n",
       "    <tr style=\"text-align: right;\">\n",
       "      <th></th>\n",
       "      <th>brewery_id</th>\n",
       "      <th>review_overall</th>\n",
       "      <th>review_aroma</th>\n",
       "      <th>review_appearance</th>\n",
       "      <th>review_palate</th>\n",
       "      <th>review_taste</th>\n",
       "      <th>beer_abv</th>\n",
       "      <th>beer_id</th>\n",
       "    </tr>\n",
       "  </thead>\n",
       "  <tbody>\n",
       "    <tr>\n",
       "      <th>count</th>\n",
       "      <td>1518478.00</td>\n",
       "      <td>1518478.00</td>\n",
       "      <td>1518478.00</td>\n",
       "      <td>1518478.00</td>\n",
       "      <td>1518478.00</td>\n",
       "      <td>1518478.00</td>\n",
       "      <td>1518478.00</td>\n",
       "      <td>1518478.00</td>\n",
       "    </tr>\n",
       "    <tr>\n",
       "      <th>mean</th>\n",
       "      <td>3074.31</td>\n",
       "      <td>3.82</td>\n",
       "      <td>3.75</td>\n",
       "      <td>3.85</td>\n",
       "      <td>3.75</td>\n",
       "      <td>3.80</td>\n",
       "      <td>7.04</td>\n",
       "      <td>21405.75</td>\n",
       "    </tr>\n",
       "    <tr>\n",
       "      <th>std</th>\n",
       "      <td>5544.34</td>\n",
       "      <td>0.72</td>\n",
       "      <td>0.70</td>\n",
       "      <td>0.61</td>\n",
       "      <td>0.68</td>\n",
       "      <td>0.73</td>\n",
       "      <td>2.32</td>\n",
       "      <td>21780.33</td>\n",
       "    </tr>\n",
       "    <tr>\n",
       "      <th>min</th>\n",
       "      <td>1.00</td>\n",
       "      <td>0.00</td>\n",
       "      <td>1.00</td>\n",
       "      <td>0.00</td>\n",
       "      <td>1.00</td>\n",
       "      <td>1.00</td>\n",
       "      <td>0.01</td>\n",
       "      <td>5.00</td>\n",
       "    </tr>\n",
       "    <tr>\n",
       "      <th>25%</th>\n",
       "      <td>141.00</td>\n",
       "      <td>3.50</td>\n",
       "      <td>3.50</td>\n",
       "      <td>3.50</td>\n",
       "      <td>3.50</td>\n",
       "      <td>3.50</td>\n",
       "      <td>5.20</td>\n",
       "      <td>1654.00</td>\n",
       "    </tr>\n",
       "    <tr>\n",
       "      <th>50%</th>\n",
       "      <td>417.00</td>\n",
       "      <td>4.00</td>\n",
       "      <td>4.00</td>\n",
       "      <td>4.00</td>\n",
       "      <td>4.00</td>\n",
       "      <td>4.00</td>\n",
       "      <td>6.50</td>\n",
       "      <td>12830.00</td>\n",
       "    </tr>\n",
       "    <tr>\n",
       "      <th>75%</th>\n",
       "      <td>2298.00</td>\n",
       "      <td>4.50</td>\n",
       "      <td>4.00</td>\n",
       "      <td>4.00</td>\n",
       "      <td>4.00</td>\n",
       "      <td>4.50</td>\n",
       "      <td>8.50</td>\n",
       "      <td>39236.00</td>\n",
       "    </tr>\n",
       "    <tr>\n",
       "      <th>max</th>\n",
       "      <td>28003.00</td>\n",
       "      <td>5.00</td>\n",
       "      <td>5.00</td>\n",
       "      <td>5.00</td>\n",
       "      <td>5.00</td>\n",
       "      <td>5.00</td>\n",
       "      <td>57.70</td>\n",
       "      <td>77316.00</td>\n",
       "    </tr>\n",
       "  </tbody>\n",
       "</table>\n",
       "</div>"
      ],
      "text/plain": [
       "       brewery_id  review_overall  review_aroma  review_appearance  \\\n",
       "count  1518478.00      1518478.00    1518478.00         1518478.00   \n",
       "mean      3074.31            3.82          3.75               3.85   \n",
       "std       5544.34            0.72          0.70               0.61   \n",
       "min          1.00            0.00          1.00               0.00   \n",
       "25%        141.00            3.50          3.50               3.50   \n",
       "50%        417.00            4.00          4.00               4.00   \n",
       "75%       2298.00            4.50          4.00               4.00   \n",
       "max      28003.00            5.00          5.00               5.00   \n",
       "\n",
       "       review_palate  review_taste    beer_abv     beer_id  \n",
       "count     1518478.00    1518478.00  1518478.00  1518478.00  \n",
       "mean            3.75          3.80        7.04    21405.75  \n",
       "std             0.68          0.73        2.32    21780.33  \n",
       "min             1.00          1.00        0.01        5.00  \n",
       "25%             3.50          3.50        5.20     1654.00  \n",
       "50%             4.00          4.00        6.50    12830.00  \n",
       "75%             4.00          4.50        8.50    39236.00  \n",
       "max             5.00          5.00       57.70    77316.00  "
      ]
     },
     "execution_count": 16,
     "metadata": {},
     "output_type": "execute_result"
    }
   ],
   "source": [
    "beer_df.describe().round(2)"
   ]
  },
  {
   "cell_type": "markdown",
   "metadata": {},
   "source": [
    "Start from the reviews."
   ]
  },
  {
   "cell_type": "code",
   "execution_count": 17,
   "metadata": {},
   "outputs": [
    {
     "data": {
      "image/png": "[encoded data removed]",
      "text/plain": [
       "<Figure size 300x200 with 1 Axes>"
      ]
     },
     "metadata": {},
     "output_type": "display_data"
    },
    {
     "data": {
      "image/png": "[encoded data removed]",
      "text/plain": [
       "<Figure size 300x200 with 1 Axes>"
      ]
     },
     "metadata": {},
     "output_type": "display_data"
    },
    {
     "data": {
      "image/png": "[encoded data removed]",
      "text/plain": [
       "<Figure size 300x200 with 1 Axes>"
      ]
     },
     "metadata": {},
     "output_type": "display_data"
    },
    {
     "data": {
      "image/png": "[encoded data removed]",
      "text/plain": [
       "<Figure size 300x200 with 1 Axes>"
      ]
     },
     "metadata": {},
     "output_type": "display_data"
    },
    {
     "data": {
      "image/png": "[encoded data removed]",
      "text/plain": [
       "<Figure size 300x200 with 1 Axes>"
      ]
     },
     "metadata": {},
     "output_type": "display_data"
    }
   ],
   "source": [
    "rating_columns = ['review_overall', 'review_aroma', 'review_appearance', 'review_palate', 'review_taste']\n",
    "\n",
    "for column in rating_columns:\n",
    "    plt.figure(figsize=(3, 2))\n",
    "    beer_df[column].value_counts().sort_index().plot(kind='bar', color='skyblue')\n",
    "    plt.title(f'Distribution of {column}')\n",
    "    plt.xlabel(column)\n",
    "    plt.ylabel('Count')\n",
    "    plt.show()"
   ]
  },
  {
   "cell_type": "markdown",
   "metadata": {},
   "source": [
    "Double check for uncoherent/inconsistent values."
   ]
  },
  {
   "cell_type": "code",
   "execution_count": 18,
   "metadata": {},
   "outputs": [
    {
     "data": {
      "image/png": "[encoded data removed]",
      "text/plain": [
       "<Figure size 900x500 with 1 Axes>"
      ]
     },
     "metadata": {},
     "output_type": "display_data"
    }
   ],
   "source": [
    "plt.figure(figsize=(9, 5))\n",
    "sns.boxplot(data=beer_df[['review_overall', 'review_aroma', 'review_appearance', 'review_palate', 'review_taste']])\n",
    "plt.show()"
   ]
  },
  {
   "cell_type": "markdown",
   "metadata": {},
   "source": [
    "Return the 20 most commont beer styles."
   ]
  },
  {
   "cell_type": "code",
   "execution_count": 19,
   "metadata": {},
   "outputs": [
    {
     "data": {
      "text/plain": [
       "American IPA                        113144\n",
       "American Double / Imperial IPA       85105\n",
       "American Pale Ale (APA)              58072\n",
       "Russian Imperial Stout               53424\n",
       "American Double / Imperial Stout     50137\n",
       "American Porter                      46647\n",
       "American Amber / Red Ale             41731\n",
       "Belgian Strong Dark Ale              37498\n",
       "Fruit / Vegetable Beer               31983\n",
       "American Strong Ale                  31350\n",
       "Belgian Strong Pale Ale              31323\n",
       "Saison / Farmhouse Ale               30621\n",
       "Tripel                               29971\n",
       "American Adjunct Lager               28964\n",
       "Witbier                              28654\n",
       "American Barleywine                  26267\n",
       "Hefeweizen                           25922\n",
       "American Brown Ale                   24131\n",
       "American Pale Wheat Ale              22888\n",
       "English Pale Ale                     22817\n",
       "Name: beer_style, dtype: int64"
      ]
     },
     "execution_count": 19,
     "metadata": {},
     "output_type": "execute_result"
    }
   ],
   "source": [
    "beer_df['beer_style'].value_counts().head(20)"
   ]
  },
  {
   "cell_type": "markdown",
   "metadata": {},
   "source": [
    "Return the 20 most commont brewery names."
   ]
  },
  {
   "cell_type": "code",
   "execution_count": 20,
   "metadata": {},
   "outputs": [
    {
     "data": {
      "text/plain": [
       "Boston Beer Company (Samuel Adams)      38806\n",
       "Dogfish Head Brewery                    33790\n",
       "Stone Brewing Co.                       33009\n",
       "Sierra Nevada Brewing Co.               28632\n",
       "Bell's Brewery, Inc.                    24973\n",
       "Rogue Ales                              23446\n",
       "Founders Brewing Company                19951\n",
       "Victory Brewing Company                 19401\n",
       "Lagunitas Brewing Company               16766\n",
       "Avery Brewing Company                   16042\n",
       "Southern Tier Brewing Company           15856\n",
       "Anheuser-Busch                          15439\n",
       "Great Divide Brewing Company            14902\n",
       "Goose Island Beer Co.                   14208\n",
       "Three Floyds Brewing Co. & Brewpub      14026\n",
       "Unibroue                                13915\n",
       "Brooklyn Brewery                        13719\n",
       "New Belgium Brewing                     13349\n",
       "Weyerbacher Brewing Co.                 12185\n",
       "Flying Dog Brewery                      11690\n",
       "Tröegs Brewing Company                  11613\n",
       "Russian River Brewing Company           11295\n",
       "North Coast Brewing Co.                 11154\n",
       "Great Lakes Brewing Company             10939\n",
       "Deschutes Brewery                       10862\n",
       "Smuttynose Brewing Company              10800\n",
       "New Glarus Brewing Company              10381\n",
       "Samuel Smith Old Brewery (Tadcaster)    10291\n",
       "Anchor Brewing Company                   9910\n",
       "Brewery Ommegang                         9898\n",
       "Name: brewery_name, dtype: int64"
      ]
     },
     "execution_count": 20,
     "metadata": {},
     "output_type": "execute_result"
    }
   ],
   "source": [
    "beer_df['brewery_name'].value_counts().head(30)"
   ]
  },
  {
   "cell_type": "code",
   "execution_count": 21,
   "metadata": {},
   "outputs": [
    {
     "data": {
      "text/plain": [
       "90 Minute IPA                          3289\n",
       "Old Rasputin Russian Imperial Stout    3110\n",
       "Sierra Nevada Celebration Ale          2999\n",
       "India Pale Ale                         2960\n",
       "Two Hearted Ale                        2727\n",
       "                                       ... \n",
       "Yeti Imperial Stout                    1429\n",
       "Oak Aged Yeti Imperial Stout           1422\n",
       "Delirium Tremens                       1420\n",
       "Anchor Liberty Ale                     1417\n",
       "The Abyss                              1412\n",
       "Name: beer_name, Length: 100, dtype: int64"
      ]
     },
     "execution_count": 21,
     "metadata": {},
     "output_type": "execute_result"
    }
   ],
   "source": [
    "beer_df['beer_name'].value_counts().head(100)"
   ]
  },
  {
   "cell_type": "markdown",
   "metadata": {},
   "source": [
    "Return the 20 most common beer_abv."
   ]
  },
  {
   "cell_type": "code",
   "execution_count": 22,
   "metadata": {},
   "outputs": [
    {
     "data": {
      "text/plain": [
       "5.0     109116\n",
       "8.0      67730\n",
       "6.0      65375\n",
       "7.0      59446\n",
       "9.0      59171\n",
       "5.5      59001\n",
       "10.0     54772\n",
       "6.5      48362\n",
       "5.2      43254\n",
       "7.5      39973\n",
       "8.5      38465\n",
       "5.4      33113\n",
       "4.9      30894\n",
       "9.5      29992\n",
       "4.5      29343\n",
       "5.3      29075\n",
       "5.6      28907\n",
       "5.8      28568\n",
       "4.8      27092\n",
       "5.1      25117\n",
       "Name: beer_abv, dtype: int64"
      ]
     },
     "execution_count": 22,
     "metadata": {},
     "output_type": "execute_result"
    }
   ],
   "source": [
    "beer_df['beer_abv'].value_counts().head(20)"
   ]
  },
  {
   "cell_type": "code",
   "execution_count": 23,
   "metadata": {},
   "outputs": [
    {
     "data": {
      "text/plain": [
       "northyorksammy    5346\n",
       "mikesgroove       4283\n",
       "BuckeyeNation     4246\n",
       "Thorpe429         3273\n",
       "brentk56          3186\n",
       "                  ... \n",
       "avalon07          1510\n",
       "Deuane            1504\n",
       "JoeyBeerBelly     1492\n",
       "tgbljb            1492\n",
       "BeerFMAndy        1483\n",
       "Name: review_profilename, Length: 100, dtype: int64"
      ]
     },
     "execution_count": 23,
     "metadata": {},
     "output_type": "execute_result"
    }
   ],
   "source": [
    "beer_df['review_profilename'].value_counts().head(100)"
   ]
  },
  {
   "cell_type": "code",
   "execution_count": 24,
   "metadata": {},
   "outputs": [
    {
     "data": {
      "text/plain": [
       "2011    322556\n",
       "2010    268577\n",
       "2009    235275\n",
       "2008    201580\n",
       "2007    135695\n",
       "2006    122199\n",
       "2005     83551\n",
       "2004     64836\n",
       "2003     52114\n",
       "2002     20775\n",
       "2012      9343\n",
       "2001      1773\n",
       "2000        98\n",
       "1998        72\n",
       "1999        33\n",
       "1996         1\n",
       "Name: review_time, dtype: int64"
      ]
     },
     "execution_count": 24,
     "metadata": {},
     "output_type": "execute_result"
    }
   ],
   "source": [
    "beer_df['review_time'].dt.year.value_counts().head(20)"
   ]
  },
  {
   "cell_type": "markdown",
   "metadata": {},
   "source": [
    "#### 1.4 - Downsampling - Option A - keep one year only"
   ]
  },
  {
   "cell_type": "code",
   "execution_count": 25,
   "metadata": {},
   "outputs": [
    {
     "data": {
      "text/plain": [
       "(9343, 13)"
      ]
     },
     "execution_count": 25,
     "metadata": {},
     "output_type": "execute_result"
    }
   ],
   "source": [
    "sub_beer_df = beer_df[beer_df['review_time'].dt.year == 2012].copy()\n",
    "sub_beer_df.shape"
   ]
  },
  {
   "cell_type": "code",
   "execution_count": 26,
   "metadata": {},
   "outputs": [],
   "source": [
    "users_reviews_count = sub_beer_df['review_profilename'].value_counts()\n",
    "kept_profiles_only = users_reviews_count[users_reviews_count>1].index"
   ]
  },
  {
   "cell_type": "code",
   "execution_count": 27,
   "metadata": {},
   "outputs": [
    {
     "data": {
      "text/plain": [
       "brewery_id            1103\n",
       "brewery_name          1099\n",
       "review_time           8600\n",
       "review_overall           9\n",
       "review_aroma             9\n",
       "review_appearance        9\n",
       "review_profilename    1366\n",
       "beer_style             102\n",
       "review_palate            9\n",
       "review_taste             9\n",
       "beer_name             3888\n",
       "beer_abv               216\n",
       "beer_id               3945\n",
       "dtype: int64"
      ]
     },
     "execution_count": 27,
     "metadata": {},
     "output_type": "execute_result"
    }
   ],
   "source": [
    "sub_beer_df = sub_beer_df[sub_beer_df['review_profilename'].isin(kept_profiles_only)].copy()\n",
    "sub_beer_df.nunique()"
   ]
  },
  {
   "cell_type": "markdown",
   "metadata": {},
   "source": [
    "# 2 - Graph Construction"
   ]
  },
  {
   "cell_type": "markdown",
   "metadata": {},
   "source": [
    "#### 2.1 - Create the user-beer bipartite graph"
   ]
  },
  {
   "cell_type": "code",
   "execution_count": 28,
   "metadata": {},
   "outputs": [
    {
     "data": {
      "text/plain": [
       "True"
      ]
     },
     "execution_count": 28,
     "metadata": {},
     "output_type": "execute_result"
    }
   ],
   "source": [
    "G = nx.Graph()\n",
    "\n",
    "# Add nodes and edges to the graph\n",
    "for _, row in sub_beer_df.iterrows():\n",
    "    G.add_node(row['review_profilename'], bipartite='user')\n",
    "    G.add_node(row['beer_name'], bipartite='beer')\n",
    "    G.add_edge(row['review_profilename'], row['beer_name'])\n",
    "\n",
    "nx.bipartite.is_bipartite(G)"
   ]
  },
  {
   "cell_type": "code",
   "execution_count": 29,
   "metadata": {},
   "outputs": [
    {
     "name": "stdout",
     "output_type": "stream",
     "text": [
      "Graph with 5254 nodes and 8641 edges\n"
     ]
    }
   ],
   "source": [
    "print(G)"
   ]
  },
  {
   "cell_type": "code",
   "execution_count": 30,
   "metadata": {},
   "outputs": [
    {
     "data": {
      "image/png": "[encoded data removed]",
      "text/plain": [
       "<Figure size 640x480 with 1 Axes>"
      ]
     },
     "metadata": {},
     "output_type": "display_data"
    }
   ],
   "source": [
    "user_nodes = {n for n, d in G.nodes(data=True) if d['bipartite'] == 'user'}\n",
    "beer_nodes = set(G) - user_nodes\n",
    "\n",
    "node_colors = ['green' if d['bipartite'] == 'user' else 'red' for n, d in G.nodes(data=True)]\n",
    "\n",
    "nx.draw(G, pos=nx.bipartite_layout(G, user_nodes), node_color = node_colors, node_size=10)"
   ]
  },
  {
   "cell_type": "markdown",
   "metadata": {},
   "source": [
    "#### 2.2 - Projections"
   ]
  },
  {
   "cell_type": "code",
   "execution_count": 31,
   "metadata": {},
   "outputs": [],
   "source": [
    "user_projection = nx.Graph()\n",
    "user_projection = nx.bipartite.projected_graph(G, user_nodes)\n",
    "\n",
    "beer_projection = nx.Graph()\n",
    "beer_projection = nx.bipartite.projected_graph(G, beer_nodes)"
   ]
  },
  {
   "cell_type": "markdown",
   "metadata": {},
   "source": [
    "Visualize the user projection"
   ]
  },
  {
   "cell_type": "code",
   "execution_count": 32,
   "metadata": {},
   "outputs": [
    {
     "data": {
      "image/png": "[encoded data removed]",
      "text/plain": [
       "<Figure size 600x400 with 1 Axes>"
      ]
     },
     "metadata": {},
     "output_type": "display_data"
    }
   ],
   "source": [
    "plt.figure(figsize=(6, 4))\n",
    "pos_user = nx.spring_layout(user_projection)\n",
    "nx.draw(user_projection, pos=pos_user, node_color='lightgreen', edge_color='black', node_size=1)\n",
    "plt.title('User Projection')\n",
    "plt.show()"
   ]
  },
  {
   "cell_type": "code",
   "execution_count": 33,
   "metadata": {},
   "outputs": [
    {
     "name": "stdout",
     "output_type": "stream",
     "text": [
      "Graph with 1366 nodes and 19237 edges\n"
     ]
    }
   ],
   "source": [
    "print(user_projection)"
   ]
  },
  {
   "cell_type": "markdown",
   "metadata": {},
   "source": [
    "Visualize the beer projection"
   ]
  },
  {
   "cell_type": "code",
   "execution_count": 34,
   "metadata": {},
   "outputs": [
    {
     "data": {
      "image/png": "[encoded data removed]",
      "text/plain": [
       "<Figure size 600x400 with 1 Axes>"
      ]
     },
     "metadata": {},
     "output_type": "display_data"
    }
   ],
   "source": [
    "plt.figure(figsize=(6, 4))\n",
    "pos_beer = nx.spring_layout(beer_projection)\n",
    "nx.draw(beer_projection, pos=pos_beer, node_color='red', edge_color='black', node_size=1)\n",
    "plt.title('Beer Projection')\n",
    "plt.show()"
   ]
  },
  {
   "cell_type": "code",
   "execution_count": 35,
   "metadata": {},
   "outputs": [
    {
     "name": "stdout",
     "output_type": "stream",
     "text": [
      "Graph with 3888 nodes and 54238 edges\n"
     ]
    }
   ],
   "source": [
    "print(beer_projection)"
   ]
  },
  {
   "cell_type": "markdown",
   "metadata": {},
   "source": [
    "# 3 - Basic Graph Properties"
   ]
  },
  {
   "cell_type": "markdown",
   "metadata": {},
   "source": [
    "#### 3.1 - Density"
   ]
  },
  {
   "cell_type": "markdown",
   "metadata": {},
   "source": [
    "Density for the user graph."
   ]
  },
  {
   "cell_type": "code",
   "execution_count": 36,
   "metadata": {},
   "outputs": [
    {
     "data": {
      "text/plain": [
       "0.020634026783367926"
      ]
     },
     "execution_count": 36,
     "metadata": {},
     "output_type": "execute_result"
    }
   ],
   "source": [
    "user_density = nx.density(user_projection)\n",
    "user_density"
   ]
  },
  {
   "cell_type": "markdown",
   "metadata": {},
   "source": [
    "Density for the beer graph."
   ]
  },
  {
   "cell_type": "code",
   "execution_count": 37,
   "metadata": {},
   "outputs": [
    {
     "data": {
      "text/plain": [
       "0.007177824996479771"
      ]
     },
     "execution_count": 37,
     "metadata": {},
     "output_type": "execute_result"
    }
   ],
   "source": [
    "beer_density = nx.density(beer_projection)\n",
    "beer_density"
   ]
  },
  {
   "cell_type": "markdown",
   "metadata": {},
   "source": [
    "#### 3.2 - Degree Statistics"
   ]
  },
  {
   "cell_type": "markdown",
   "metadata": {},
   "source": [
    "Degree statistics for the user graph."
   ]
  },
  {
   "cell_type": "code",
   "execution_count": 38,
   "metadata": {},
   "outputs": [
    {
     "name": "stdout",
     "output_type": "stream",
     "text": [
      "Avg User Degree: 28.16544655929722\n",
      "Min User Degree: 0\n",
      "Max User Degree: 186\n",
      "Median User Degree: 19.0\n",
      "Std User Degree: 26.874206843518703\n"
     ]
    }
   ],
   "source": [
    "user_degree = np.array([d for _, d in user_projection.degree()])\n",
    "\n",
    "print(f\"Avg User Degree: {np.mean(user_degree)}\")\n",
    "print(f\"Min User Degree: {np.min(user_degree)}\")\n",
    "print(f\"Max User Degree: {np.max(user_degree)}\")\n",
    "print(f\"Median User Degree: {np.median(user_degree)}\")\n",
    "print(f\"Std User Degree: {np.std(user_degree)}\")"
   ]
  },
  {
   "cell_type": "markdown",
   "metadata": {},
   "source": [
    "Degree statistics for the beer graph."
   ]
  },
  {
   "cell_type": "code",
   "execution_count": 39,
   "metadata": {},
   "outputs": [
    {
     "name": "stdout",
     "output_type": "stream",
     "text": [
      "Avg Beer Degree: 27.900205761316872\n",
      "Min Beer Degree: 1\n",
      "Max Beer Degree: 356\n",
      "Median Beer Degree: 15.0\n",
      "Std Beer Degree: 32.77587596426908\n"
     ]
    }
   ],
   "source": [
    "beer_degree = np.array([d for _, d in beer_projection.degree()])\n",
    "\n",
    "print(f\"Avg Beer Degree: {np.mean(beer_degree)}\")\n",
    "print(f\"Min Beer Degree: {np.min(beer_degree)}\")\n",
    "print(f\"Max Beer Degree: {np.max(beer_degree)}\")\n",
    "print(f\"Median Beer Degree: {np.median(beer_degree)}\")\n",
    "print(f\"Std Beer Degree: {np.std(beer_degree)}\")"
   ]
  },
  {
   "cell_type": "markdown",
   "metadata": {},
   "source": [
    "#### 3.3 - Degree Distribution"
   ]
  },
  {
   "cell_type": "code",
   "execution_count": 40,
   "metadata": {},
   "outputs": [],
   "source": [
    "def plot_degree_dist(G, bins):\n",
    "    degrees = [G.degree(n) for n in G.nodes()]\n",
    "    plt.hist(degrees, bins=bins)\n",
    "    plt.show()"
   ]
  },
  {
   "cell_type": "markdown",
   "metadata": {},
   "source": [
    "Degree distribution of the user graph."
   ]
  },
  {
   "cell_type": "code",
   "execution_count": 41,
   "metadata": {},
   "outputs": [
    {
     "data": {
      "image/png": "[encoded data removed]",
      "text/plain": [
       "<Figure size 600x400 with 1 Axes>"
      ]
     },
     "metadata": {},
     "output_type": "display_data"
    }
   ],
   "source": [
    "plt.figure(figsize=(6,4))\n",
    "plt.ylabel('Number of nodes (users)')\n",
    "plt.xlabel('Node Degree')\n",
    "plot_degree_dist(user_projection, bins=len(np.unique(user_degree)))"
   ]
  },
  {
   "cell_type": "markdown",
   "metadata": {},
   "source": [
    "Degree distribution of the beer graph."
   ]
  },
  {
   "cell_type": "code",
   "execution_count": 42,
   "metadata": {},
   "outputs": [
    {
     "data": {
      "image/png": "[encoded data removed]",
      "text/plain": [
       "<Figure size 700x400 with 1 Axes>"
      ]
     },
     "metadata": {},
     "output_type": "display_data"
    }
   ],
   "source": [
    "plt.figure(figsize=(7,4))\n",
    "plt.ylabel('Number of nodes (beers)')\n",
    "plt.xlabel('Node Degree')\n",
    "plot_degree_dist(beer_projection, bins=len(np.unique(beer_degree)))"
   ]
  },
  {
   "cell_type": "markdown",
   "metadata": {},
   "source": [
    "#### 3.4 - Comparison real network (users) vs. random network"
   ]
  },
  {
   "cell_type": "markdown",
   "metadata": {},
   "source": [
    "From page 25 my notes: start by obtaining $N_{k}$, i.e., the number of nodes with degree $k$. This variable is called `user_degree_count`."
   ]
  },
  {
   "cell_type": "markdown",
   "metadata": {},
   "source": [
    "If `user_degree_count` is printed, we can see that there are 171 nodes (users) having degree=0, 145 nodes (users) having degree=1, and so on..."
   ]
  },
  {
   "cell_type": "code",
   "execution_count": 43,
   "metadata": {},
   "outputs": [],
   "source": [
    "# create a list of degrees associated with each user\n",
    "user_degree_sequence = list(dict(user_projection.degree()).values())\n",
    "\n",
    "# initialize a dictionary\n",
    "user_degree_count = defaultdict(int)\n",
    "\n",
    "# for each distinct degree, count the number of nodes with that degree\n",
    "for d in user_degree_sequence:\n",
    "    user_degree_count[d]+=1\n",
    "\n",
    "# sort by the keys(items) in ascending order\n",
    "user_degree_count = dict(sorted(user_degree_count.items()))"
   ]
  },
  {
   "cell_type": "markdown",
   "metadata": {},
   "source": [
    "The second step consists of computing: $p_k = \\frac{N_{k}}{N}$, i.e. the degree distribution - in this case - of the users' nodes."
   ]
  },
  {
   "cell_type": "code",
   "execution_count": 44,
   "metadata": {},
   "outputs": [],
   "source": [
    "degree_distribution_users = []\n",
    "\n",
    "for i in user_degree_count.values():        # i represents N_k\n",
    "    degree_distribution_users.append(i/user_projection.order())     # N = user_projection.order()"
   ]
  },
  {
   "cell_type": "markdown",
   "metadata": {},
   "source": [
    "Now that we have everything to plot the degree distribution of the real network, we need an equivalent random network and use it to make comparison."
   ]
  },
  {
   "cell_type": "code",
   "execution_count": 45,
   "metadata": {},
   "outputs": [
    {
     "name": "stdout",
     "output_type": "stream",
     "text": [
      "Graph with 1366 nodes and 19105 edges\n"
     ]
    }
   ],
   "source": [
    "# generate a RN(N=N, p=density)\n",
    "random_network_user = nx.gnp_random_graph(n=user_projection.order(), p=user_density)\n",
    "print(random_network_user)"
   ]
  },
  {
   "cell_type": "markdown",
   "metadata": {},
   "source": [
    "Repeat the same steps done for the random network."
   ]
  },
  {
   "cell_type": "code",
   "execution_count": 46,
   "metadata": {},
   "outputs": [],
   "source": [
    "# create a list of degrees associated with each user\n",
    "random_network_user_degree_sequence = list(dict(random_network_user.degree()).values())\n",
    "\n",
    "# initialize a dictionary\n",
    "random_network_user_degree_count = defaultdict(int)\n",
    "\n",
    "# for each distinct degree, count the number of nodes with that degree\n",
    "for d in random_network_user_degree_sequence:\n",
    "    random_network_user_degree_count[d]+=1\n",
    "\n",
    "# sort by the keys(items) in ascending order\n",
    "random_network_user_degree_count = dict(sorted(random_network_user_degree_count.items()))"
   ]
  },
  {
   "cell_type": "code",
   "execution_count": 47,
   "metadata": {},
   "outputs": [],
   "source": [
    "degree_distribution_random_network_users = []\n",
    "\n",
    "for i in random_network_user_degree_count.values():        # i represents N_k\n",
    "    degree_distribution_random_network_users.append(i/random_network_user.order())     # N = user_projection.order()"
   ]
  },
  {
   "cell_type": "markdown",
   "metadata": {},
   "source": [
    "Finally visualize the two distributions."
   ]
  },
  {
   "cell_type": "code",
   "execution_count": 48,
   "metadata": {},
   "outputs": [
    {
     "data": {
      "image/png": "[encoded data removed]",
      "text/plain": [
       "<Figure size 640x480 with 1 Axes>"
      ]
     },
     "metadata": {},
     "output_type": "display_data"
    }
   ],
   "source": [
    "plt.loglog(user_degree_count.keys(), degree_distribution_users, \n",
    "           'o', label='Real Network', color='green', markersize=3)\n",
    "plt.loglog(random_network_user_degree_count.keys(), degree_distribution_random_network_users,\n",
    "           'o', label='Random Network', color='skyblue', markersize=3)\n",
    "plt.ylabel('log (p_k)')\n",
    "plt.xlabel('log(k)')\n",
    "plt.legend()\n",
    "plt.title('Users degree distribution')\n",
    "plt.xlim(0.9,1500)\n",
    "plt.show()"
   ]
  },
  {
   "cell_type": "code",
   "execution_count": 49,
   "metadata": {},
   "outputs": [
    {
     "name": "stdout",
     "output_type": "stream",
     "text": [
      "Calculating best minimal value for power law fit\n",
      "xmin progress: 97%\r"
     ]
    }
   ],
   "source": [
    "import powerlaw\n",
    "\n",
    "# Fit power law distribution to degree data\n",
    "fit = powerlaw.Fit(degree_distribution_users)\n",
    "gamma = fit.alpha"
   ]
  },
  {
   "cell_type": "code",
   "execution_count": 50,
   "metadata": {},
   "outputs": [
    {
     "name": "stdout",
     "output_type": "stream",
     "text": [
      "Calculating best minimal value for power law fit\n",
      "xmin progress: 97%\r"
     ]
    },
    {
     "data": {
      "image/png": "[encoded data removed]",
      "text/plain": [
       "<Figure size 640x480 with 1 Axes>"
      ]
     },
     "metadata": {},
     "output_type": "display_data"
    }
   ],
   "source": [
    "# Fit power law distribution to degree data\n",
    "fit = powerlaw.Fit(degree_distribution_users)\n",
    "gamma = fit.alpha\n",
    "\n",
    "# Plot degree distribution\n",
    "plt.loglog(user_degree_count.keys(), degree_distribution_users, \n",
    "           'o', label='Real Network', color='green', markersize=3)\n",
    "plt.loglog(random_network_user_degree_count.keys(), degree_distribution_random_network_users,\n",
    "           'o', label='Random Network', color='skyblue', markersize=3)\n",
    "\n",
    "# Plot line with slope -gamma\n",
    "x = np.linspace(1, max(user_degree_count), 100)\n",
    "y = np.power(x, -gamma)\n",
    "plt.loglog(x, y, label=f'Power Law Fit (-γ={gamma:.2f})', color='red')\n",
    "\n",
    "# Add labels and legend\n",
    "plt.ylabel('log (p_k)')\n",
    "plt.xlabel('log(k)')\n",
    "plt.legend()\n",
    "plt.title('Users Degree Distribution')\n",
    "plt.xlim(0.9, 1500)\n",
    "plt.show()"
   ]
  },
  {
   "cell_type": "markdown",
   "metadata": {},
   "source": [
    "#### 3.5 - Comparison ECCDF real vs. random network (users)"
   ]
  },
  {
   "cell_type": "markdown",
   "metadata": {},
   "source": [
    "Compute the ECCDF for the users distribution."
   ]
  },
  {
   "cell_type": "code",
   "execution_count": 51,
   "metadata": {},
   "outputs": [],
   "source": [
    "cp_k_user = np.cumsum(degree_distribution_users)\n",
    "eccdf_users = [1-c for c in cp_k_user]"
   ]
  },
  {
   "cell_type": "code",
   "execution_count": 52,
   "metadata": {},
   "outputs": [],
   "source": [
    "plot_degree_users = list(user_degree_count.keys())\n",
    "rn_user_plot_degree = list(random_network_user_degree_count.keys())"
   ]
  },
  {
   "cell_type": "markdown",
   "metadata": {},
   "source": [
    "Compute the ECCDF for the random users distribution."
   ]
  },
  {
   "cell_type": "code",
   "execution_count": 53,
   "metadata": {},
   "outputs": [],
   "source": [
    "cp_k_random_user = np.cumsum(degree_distribution_random_network_users)\n",
    "eccdf_users_random = [1-c for c in cp_k_random_user]"
   ]
  },
  {
   "cell_type": "code",
   "execution_count": 54,
   "metadata": {},
   "outputs": [
    {
     "data": {
      "image/png": "[encoded data removed]",
      "text/plain": [
       "<Figure size 640x480 with 1 Axes>"
      ]
     },
     "metadata": {},
     "output_type": "display_data"
    }
   ],
   "source": [
    "plt.loglog(plot_degree_users[:len(plot_degree_users)-1], eccdf_users[:len(eccdf_users)-1],\n",
    "            'o', markersize=2, color = 'green', label='Real Network')\n",
    "plt.loglog(rn_user_plot_degree[:len(rn_user_plot_degree)-1], eccdf_users_random[:len(eccdf_users_random)-1],\n",
    "           'o', markersize=2, color='skyblue', label='Random Network')\n",
    "plt.ylabel('log(p_k)')\n",
    "plt.xlabel('log_k')\n",
    "plt.legend()\n",
    "plt.title('ECCDF Real Network vs Random Network')\n",
    "plt.show()"
   ]
  },
  {
   "cell_type": "markdown",
   "metadata": {},
   "source": [
    "#### 3.6 - Comparison real network (beers) vs. random network"
   ]
  },
  {
   "cell_type": "markdown",
   "metadata": {},
   "source": [
    "From page 25 my notes: start by obtaining $N_{k}$, i.e., the number of nodes with degree $k$. This variable is called `beer_degree_count`."
   ]
  },
  {
   "cell_type": "markdown",
   "metadata": {},
   "source": [
    "If `beer_degree_count` is printed, we can see that there are 171 nodes (users) having degree=0, 145 nodes (users) having degree=1, and so on..."
   ]
  },
  {
   "cell_type": "code",
   "execution_count": 55,
   "metadata": {},
   "outputs": [],
   "source": [
    "# create a list of degrees associated with each beer\n",
    "beer_degree_sequence = list(dict(beer_projection.degree()).values())\n",
    "\n",
    "# initialize a dictionary\n",
    "beer_degree_count = defaultdict(int)\n",
    "\n",
    "# for each distinct degree, count the number of nodes with that degree\n",
    "for d in beer_degree_sequence:\n",
    "    beer_degree_count[d]+=1\n",
    "\n",
    "# sort by the keys(items) in ascending order\n",
    "beer_degree_count = dict(sorted(beer_degree_count.items()))"
   ]
  },
  {
   "cell_type": "markdown",
   "metadata": {},
   "source": [
    "The second step consists of computing: $p_k = \\frac{N_{k}}{N}$, i.e. the degree distribution - in this case - of the beers' nodes."
   ]
  },
  {
   "cell_type": "code",
   "execution_count": 56,
   "metadata": {},
   "outputs": [],
   "source": [
    "degree_distribution_beers = []\n",
    "\n",
    "for i in beer_degree_count.values():        # i represents N_k\n",
    "    degree_distribution_beers.append(i/beer_projection.order())     # N = beer_projection.order()"
   ]
  },
  {
   "cell_type": "markdown",
   "metadata": {},
   "source": [
    "Now that we have everything to plot the degree distribution of the real network, we need an equivalent random network and use it to make comparison."
   ]
  },
  {
   "cell_type": "code",
   "execution_count": 57,
   "metadata": {},
   "outputs": [
    {
     "name": "stdout",
     "output_type": "stream",
     "text": [
      "Graph with 3888 nodes and 53833 edges\n"
     ]
    }
   ],
   "source": [
    "# generate a RN(N=N, p=density)\n",
    "random_network_beer = nx.gnp_random_graph(n=beer_projection.order(), p=beer_density)\n",
    "print(random_network_beer)"
   ]
  },
  {
   "cell_type": "markdown",
   "metadata": {},
   "source": [
    "Repeat the same steps done for the random network."
   ]
  },
  {
   "cell_type": "code",
   "execution_count": 58,
   "metadata": {},
   "outputs": [],
   "source": [
    "# create a list of degrees associated with each beer\n",
    "random_network_beer_degree_sequence = list(dict(random_network_beer.degree()).values())\n",
    "\n",
    "# initialize a dictionary\n",
    "random_network_beer_degree_count = defaultdict(int)\n",
    "\n",
    "# for each distinct degree, count the number of nodes with that degree\n",
    "for d in random_network_beer_degree_sequence:\n",
    "    random_network_beer_degree_count[d]+=1\n",
    "\n",
    "# sort by the keys(items) in ascending order\n",
    "random_network_beer_degree_count = dict(sorted(random_network_beer_degree_count.items()))"
   ]
  },
  {
   "cell_type": "code",
   "execution_count": 59,
   "metadata": {},
   "outputs": [],
   "source": [
    "degree_distribution_random_network_beers = []\n",
    "\n",
    "for i in random_network_beer_degree_count.values():        # i represents N_k\n",
    "    degree_distribution_random_network_beers.append(i/random_network_beer.order())     # N = user_projection.order()"
   ]
  },
  {
   "cell_type": "markdown",
   "metadata": {},
   "source": [
    "Finally visualize the two distributions."
   ]
  },
  {
   "cell_type": "code",
   "execution_count": 60,
   "metadata": {},
   "outputs": [
    {
     "data": {
      "image/png": "[encoded data removed]",
      "text/plain": [
       "<Figure size 640x480 with 1 Axes>"
      ]
     },
     "metadata": {},
     "output_type": "display_data"
    }
   ],
   "source": [
    "plt.loglog(beer_degree_count.keys(), degree_distribution_beers, \n",
    "           'o', label='Real Network', color='green', markersize=3)\n",
    "plt.loglog(random_network_beer_degree_count.keys(), degree_distribution_random_network_beers,\n",
    "           'o', label='Random Network', color='skyblue', markersize=3)\n",
    "plt.ylabel('log (p_k)')\n",
    "plt.xlabel('log(k)')\n",
    "plt.legend()\n",
    "plt.title('Beers degree distribution')\n",
    "plt.xlim(0.9,1500)\n",
    "plt.show()"
   ]
  },
  {
   "cell_type": "markdown",
   "metadata": {},
   "source": [
    "#### 3.7 - Comparison ECCDF real network vs. random (beers)"
   ]
  },
  {
   "cell_type": "markdown",
   "metadata": {},
   "source": [
    "Compute the ECCDF for the beers distribution."
   ]
  },
  {
   "cell_type": "code",
   "execution_count": 61,
   "metadata": {},
   "outputs": [],
   "source": [
    "cp_k_beer = np.cumsum(degree_distribution_beers)\n",
    "eccdf_beers = [1-c for c in cp_k_beer]"
   ]
  },
  {
   "cell_type": "code",
   "execution_count": 62,
   "metadata": {},
   "outputs": [],
   "source": [
    "plot_degree_beers = list(beer_degree_count.keys())\n",
    "rn_beer_plot_degree = list(random_network_beer_degree_count.keys())"
   ]
  },
  {
   "cell_type": "markdown",
   "metadata": {},
   "source": [
    "Compute the ECCDF for the random users distribution."
   ]
  },
  {
   "cell_type": "code",
   "execution_count": 63,
   "metadata": {},
   "outputs": [],
   "source": [
    "cp_k_random_beer = np.cumsum(degree_distribution_random_network_beers)\n",
    "eccdf_beers_random = [1-c for c in cp_k_random_beer]"
   ]
  },
  {
   "cell_type": "code",
   "execution_count": 64,
   "metadata": {},
   "outputs": [
    {
     "data": {
      "image/png": "[encoded data removed]",
      "text/plain": [
       "<Figure size 640x480 with 1 Axes>"
      ]
     },
     "metadata": {},
     "output_type": "display_data"
    }
   ],
   "source": [
    "plt.loglog(plot_degree_beers[:len(plot_degree_beers)-1], eccdf_beers[:len(eccdf_beers)-1],\n",
    "            'o', markersize=2, color = 'green', label='Real Network')\n",
    "plt.loglog(rn_beer_plot_degree[:len(rn_beer_plot_degree)-1], eccdf_beers_random[:len(eccdf_beers_random)-1],\n",
    "           'o', markersize=2, color='skyblue', label='Random Network')\n",
    "plt.ylabel('log(p_k)')\n",
    "plt.xlabel('log_k')\n",
    "plt.legend()\n",
    "plt.title('ECCDF Real Network vs Random Network')\n",
    "plt.show()"
   ]
  },
  {
   "cell_type": "markdown",
   "metadata": {},
   "source": [
    "# 4 - Centrality"
   ]
  },
  {
   "cell_type": "markdown",
   "metadata": {},
   "source": [
    "- degree centrality\n",
    "- closeness centrality\n",
    "- betweenness centrality\n",
    "- eigenvector centrality"
   ]
  },
  {
   "cell_type": "code",
   "execution_count": 65,
   "metadata": {},
   "outputs": [],
   "source": [
    "def centrality_revealer(centrality_measure, n=5):\n",
    "    centrality_measure=list(centrality_measure.items())\n",
    "    centrality_measure.sort(key=lambda x:x[1], reverse=True)\n",
    "    centrality_measure = [(node,round(value, 2)) for node, value in centrality_measure]\n",
    "    print(centrality_measure[:n])"
   ]
  },
  {
   "cell_type": "markdown",
   "metadata": {},
   "source": [
    "#### 4.1 - Centrality measures on the `users` graph."
   ]
  },
  {
   "cell_type": "code",
   "execution_count": 66,
   "metadata": {},
   "outputs": [],
   "source": [
    "deg_cent_users = nx.degree_centrality(user_projection)\n",
    "clo_cent_users = nx.closeness_centrality(user_projection)\n",
    "bet_cent_users = nx.betweenness_centrality(user_projection)\n",
    "eig_cent_users = nx.eigenvector_centrality(user_projection)"
   ]
  },
  {
   "cell_type": "code",
   "execution_count": 67,
   "metadata": {},
   "outputs": [
    {
     "data": {
      "image/png": "[encoded data removed]",
      "text/plain": [
       "<Figure size 700x400 with 2 Axes>"
      ]
     },
     "metadata": {},
     "output_type": "display_data"
    }
   ],
   "source": [
    "centrality_data_user = {\n",
    "    'Degree Centrality': list(deg_cent_users.values()),\n",
    "    'Closeness Centrality': list(clo_cent_users.values()),\n",
    "    'Betweenness Centrality': list(bet_cent_users.values()),\n",
    "    'Eigenvector Centrality': list(eig_cent_users.values())\n",
    "}\n",
    "\n",
    "# Convert the data to a DataFrame\n",
    "centrality_user_df = pd.DataFrame(centrality_data_user)\n",
    "\n",
    "# Compute the Pearson correlation matrix\n",
    "cm_user = centrality_user_df.corr()\n",
    "\n",
    "# Set up a seaborn heatmap for visualization\n",
    "plt.figure(figsize=(7, 4))\n",
    "sns.heatmap(cm_user, annot=True, cmap='coolwarm', linewidths=0.5)\n",
    "plt.title('Pearson Correlation of Users Centrality')\n",
    "plt.show()"
   ]
  },
  {
   "cell_type": "markdown",
   "metadata": {},
   "source": [
    "Who are the most central users according to the corresponding centrality measures?"
   ]
  },
  {
   "cell_type": "code",
   "execution_count": 68,
   "metadata": {},
   "outputs": [
    {
     "name": "stdout",
     "output_type": "stream",
     "text": [
      "Degree Centrality: \n",
      "[('Knapp85', 0.14), ('gtermi', 0.11), ('kojevergas', 0.1), ('tsauce2', 0.1), ('jmarsh123', 0.1)]\n",
      " \n",
      "Closeness Centrality:\n",
      "[('Knapp85', 0.49), ('kojevergas', 0.48), ('mdaschaf', 0.48), ('gtermi', 0.48), ('dogfishandi', 0.47)]\n",
      " \n",
      "Betweenness Centrality:\n",
      "[('Knapp85', 0.04), ('kojevergas', 0.02), ('DrinkSlurm', 0.02), ('gtermi', 0.02), ('jmarsh123', 0.02)]\n",
      " \n",
      "Eigenvector Centrality:\n",
      "[('StoneBrewFanatic', 0.14), ('Tucquan', 0.13), ('marlinsfan4', 0.12), ('dogfishandi', 0.11), ('socon67', 0.11)]\n"
     ]
    }
   ],
   "source": [
    "print('Degree Centrality: ')\n",
    "centrality_revealer(deg_cent_users)\n",
    "print(' ')\n",
    "print('Closeness Centrality:')\n",
    "centrality_revealer(clo_cent_users)\n",
    "print(' ')\n",
    "print('Betweenness Centrality:')\n",
    "centrality_revealer(bet_cent_users)\n",
    "print(' ')\n",
    "print('Eigenvector Centrality:')\n",
    "centrality_revealer(eig_cent_users)"
   ]
  },
  {
   "cell_type": "markdown",
   "metadata": {},
   "source": [
    "PageRank"
   ]
  },
  {
   "cell_type": "code",
   "execution_count": 69,
   "metadata": {},
   "outputs": [
    {
     "name": "stdout",
     "output_type": "stream",
     "text": [
      "Node: Knapp85, PageRank Centrality: 0.004763548273112422\n",
      "Node: kojevergas, PageRank Centrality: 0.0034118194331482082\n",
      "Node: gtermi, PageRank Centrality: 0.003300113063391589\n",
      "Node: DrinkSlurm, PageRank Centrality: 0.003007707900994999\n",
      "Node: jmarsh123, PageRank Centrality: 0.0030044003784210844\n"
     ]
    }
   ],
   "source": [
    "# 1. Compute PageRank centrality\n",
    "pagerank_centrality = nx.pagerank(user_projection)\n",
    "\n",
    "# 2. Sort nodes based on centrality values\n",
    "sorted_nodes = sorted(pagerank_centrality.items(), key=lambda x: x[1], reverse=True)\n",
    "\n",
    "# 3. Retrieve top 5 nodes with highest centrality values\n",
    "top_5_nodes = sorted_nodes[:5]\n",
    "\n",
    "# Print the top 5 nodes and their centrality values\n",
    "for node, centrality in top_5_nodes:\n",
    "    print(f\"Node: {node}, PageRank Centrality: {centrality}\")"
   ]
  },
  {
   "cell_type": "markdown",
   "metadata": {},
   "source": [
    "Katz centrality"
   ]
  },
  {
   "cell_type": "code",
   "execution_count": 70,
   "metadata": {},
   "outputs": [
    {
     "name": "stdout",
     "output_type": "stream",
     "text": [
      "Node: Rifugium, Katz Centrality: 0.2875340588542324\n",
      "Node: Knapp85, Katz Centrality: 0.175278489418733\n",
      "Node: Huhzubendah, Katz Centrality: 0.13278963565488272\n",
      "Node: MasterSki, Katz Centrality: 0.1306036803256974\n",
      "Node: Thorpe429, Katz Centrality: 0.12837345047000023\n"
     ]
    }
   ],
   "source": [
    "# 1. Compute Katz centrality\n",
    "katz_centrality = nx.katz_centrality(G, alpha=0.09, max_iter=1000)\n",
    "\n",
    "# 2. Sort nodes based on centrality values\n",
    "sorted_nodes = sorted(katz_centrality.items(), key=lambda x: x[1], reverse=True)\n",
    "\n",
    "# 3. Retrieve top 5 nodes with highest centrality values\n",
    "top_5_nodes = sorted_nodes[:5]\n",
    "\n",
    "# Print the top 5 nodes and their centrality values\n",
    "for node, centrality in top_5_nodes:\n",
    "    print(f\"Node: {node}, Katz Centrality: {centrality}\")"
   ]
  },
  {
   "cell_type": "markdown",
   "metadata": {},
   "source": [
    "#### 4.2 - Centrality measures on the `beers` graph."
   ]
  },
  {
   "cell_type": "code",
   "execution_count": 71,
   "metadata": {},
   "outputs": [],
   "source": [
    "deg_cent_beers = nx.degree_centrality(beer_projection)\n",
    "clo_cent_beers = nx.closeness_centrality(beer_projection)\n",
    "bet_cent_beers = nx.betweenness_centrality(beer_projection)\n",
    "eig_cent_beers = nx.eigenvector_centrality(beer_projection)"
   ]
  },
  {
   "cell_type": "code",
   "execution_count": 72,
   "metadata": {},
   "outputs": [
    {
     "data": {
      "image/png": "[encoded data removed]",
      "text/plain": [
       "<Figure size 700x400 with 2 Axes>"
      ]
     },
     "metadata": {},
     "output_type": "display_data"
    }
   ],
   "source": [
    "centrality_data_beers = {\n",
    "    'Degree Centrality': list(deg_cent_beers.values()),\n",
    "    'Closeness Centrality': list(clo_cent_beers.values()),\n",
    "    'Betweenness Centrality': list(bet_cent_beers.values()),\n",
    "    'Eigenvector Centrality': list(eig_cent_beers.values())\n",
    "}\n",
    "\n",
    "# Convert the data to a DataFrame\n",
    "centrality_beer_df = pd.DataFrame(centrality_data_beers)\n",
    "\n",
    "# Compute the Pearson correlation matrix\n",
    "cm_beers = centrality_beer_df.corr()\n",
    "\n",
    "# Set up a seaborn heatmap for visualization\n",
    "plt.figure(figsize=(7, 4))\n",
    "sns.heatmap(cm_beers, annot=True, cmap='coolwarm', linewidths=0.5)\n",
    "plt.title('Pearson Correlation of Beers Centrality')\n",
    "plt.show()"
   ]
  },
  {
   "cell_type": "markdown",
   "metadata": {},
   "source": [
    "Who are the most central users according to the corresponding centrality measures?"
   ]
  },
  {
   "cell_type": "code",
   "execution_count": 73,
   "metadata": {},
   "outputs": [
    {
     "name": "stdout",
     "output_type": "stream",
     "text": [
      "Degree Centrality: \n",
      "[('The Alchemist / Ninkasi / Stone - More Brown Than Black IPA', 0.09), ('Sierra Nevada Ruthless Rye IPA', 0.07), ('Lagunitas Sucks Holiday Ale', 0.07), ('Stone 11.11.11 Vertical Epic Ale', 0.07), ('Our Special Ale 2011 (Anchor Christmas Ale)', 0.06)]\n",
      " \n",
      "Closeness Centrality:\n",
      "[('Lagunitas Sucks Holiday Ale', 0.45), ('The Alchemist / Ninkasi / Stone - More Brown Than Black IPA', 0.45), ('Sierra Nevada Ruthless Rye IPA', 0.44), ('Stone 11.11.11 Vertical Epic Ale', 0.44), ('Founders Breakfast Stout', 0.44)]\n",
      " \n",
      "Betweenness Centrality:\n",
      "[('The Alchemist / Ninkasi / Stone - More Brown Than Black IPA', 0.04), ('Lagunitas Sucks Holiday Ale', 0.04), ('Sierra Nevada Ruthless Rye IPA', 0.03), ('Stone 11.11.11 Vertical Epic Ale', 0.03), ('Our Special Ale 2011 (Anchor Christmas Ale)', 0.02)]\n",
      " \n",
      "Eigenvector Centrality:\n",
      "[('Mocha Porter', 0.1), ('Black Butte Porter', 0.1), ('Inversion IPA', 0.1), ('Jubelale', 0.1), ('Chocolate Stout', 0.1)]\n"
     ]
    }
   ],
   "source": [
    "print('Degree Centrality: ')\n",
    "centrality_revealer(deg_cent_beers)\n",
    "print(' ')\n",
    "print('Closeness Centrality:')\n",
    "centrality_revealer(clo_cent_beers)\n",
    "print(' ')\n",
    "print('Betweenness Centrality:')\n",
    "centrality_revealer(bet_cent_beers)\n",
    "print(' ')\n",
    "print('Eigenvector Centrality:')\n",
    "centrality_revealer(eig_cent_beers)"
   ]
  },
  {
   "cell_type": "markdown",
   "metadata": {},
   "source": [
    "# 5 - Connectivity"
   ]
  },
  {
   "cell_type": "markdown",
   "metadata": {},
   "source": [
    "_\"A graph is `connected` if there exists a path between any two nodes in it.\"_"
   ]
  },
  {
   "cell_type": "markdown",
   "metadata": {},
   "source": [
    "_\"A `connected component` is a subgraph of a network such that there exists at least one path from each member of that subgraph to each other member\"_"
   ]
  },
  {
   "cell_type": "markdown",
   "metadata": {},
   "source": [
    "_Can a network have two or more large components that fill a sizeable fraction of the entire graph? The answer is NO --> There is typically one strongly connected component and a selection of small ones._"
   ]
  },
  {
   "cell_type": "markdown",
   "metadata": {},
   "source": [
    "#### 5.1 - User Network"
   ]
  },
  {
   "cell_type": "code",
   "execution_count": 74,
   "metadata": {},
   "outputs": [
    {
     "name": "stdout",
     "output_type": "stream",
     "text": [
      "False\n",
      "29\n"
     ]
    }
   ],
   "source": [
    "print(nx.is_connected(user_projection))\n",
    "print(nx.number_connected_components(user_projection))"
   ]
  },
  {
   "cell_type": "markdown",
   "metadata": {},
   "source": [
    "Retrieve the connected components and their corresponding size."
   ]
  },
  {
   "cell_type": "code",
   "execution_count": 75,
   "metadata": {},
   "outputs": [
    {
     "data": {
      "text/plain": [
       "[1338, 1, 1, 1, 1, 1]"
      ]
     },
     "execution_count": 75,
     "metadata": {},
     "output_type": "execute_result"
    }
   ],
   "source": [
    "# Retrieve the members of each component\n",
    "components_user = [cc for cc in nx.connected_components(user_projection)]\n",
    "\n",
    "# Compute the number of users in each connected component\n",
    "len_cc_user = [len(cc) for cc in nx.connected_components(user_projection)]\n",
    "len_cc_user[:6]"
   ]
  },
  {
   "cell_type": "markdown",
   "metadata": {},
   "source": [
    "Retrieve the dimensions of the largest cc, and compute ASPL and diameter."
   ]
  },
  {
   "cell_type": "code",
   "execution_count": 76,
   "metadata": {},
   "outputs": [
    {
     "name": "stdout",
     "output_type": "stream",
     "text": [
      "Graph with 1338 nodes and 19237 edges\n"
     ]
    },
    {
     "name": "stdout",
     "output_type": "stream",
     "text": [
      "2.650206327218982\n",
      "6\n"
     ]
    }
   ],
   "source": [
    "# Compute the largest connected component\n",
    "lcc_user = user_projection.subgraph(components_user[0])\n",
    "print(lcc_user)\n",
    "\n",
    "# Compute average shortest path length for the lcc_user\n",
    "print(nx.average_shortest_path_length(lcc_user))\n",
    "\n",
    "# obtain the diameter\n",
    "print(nx.diameter(lcc_user))"
   ]
  },
  {
   "cell_type": "markdown",
   "metadata": {},
   "source": [
    "_This means that, on average, it takes approximately 2.65 connections to travel from one user to another within the largest connected component. A lower ASPL indicates a more tightly connected network, where users are, on average, closer to each other in terms of connectivity._"
   ]
  },
  {
   "cell_type": "markdown",
   "metadata": {},
   "source": [
    "_The relatively low average shortest path length (2.65) suggests that, on average, users within the largest connected component are closely connected. The network allows for efficient communication or traversal between users._"
   ]
  },
  {
   "cell_type": "markdown",
   "metadata": {},
   "source": [
    "_The diameter of a connected component is the length of the longest shortest path between any pair of nodes in that component. Diameter=6 means that the longest chain of connections between any two users within the largest connected component consists of 6 steps.The diameter provides a sense of the \"maximum distance\" between any two users in the largest connected component._"
   ]
  },
  {
   "cell_type": "code",
   "execution_count": 77,
   "metadata": {},
   "outputs": [
    {
     "data": {
      "text/plain": [
       "0.9795021961932651"
      ]
     },
     "execution_count": 77,
     "metadata": {},
     "output_type": "execute_result"
    }
   ],
   "source": [
    "len(lcc_user)/sum(len_cc_user)"
   ]
  },
  {
   "cell_type": "markdown",
   "metadata": {},
   "source": [
    "_The largest cc for users covers more than 97% of the whole user_projection!_"
   ]
  },
  {
   "cell_type": "markdown",
   "metadata": {},
   "source": [
    "Reproduce the plot in slide 8/14 'connectivity'."
   ]
  },
  {
   "cell_type": "code",
   "execution_count": 78,
   "metadata": {},
   "outputs": [
    {
     "data": {
      "text/plain": [
       "Text(0.5, 1.0, 'Components Size distribution for User Projection')"
      ]
     },
     "execution_count": 78,
     "metadata": {},
     "output_type": "execute_result"
    },
    {
     "data": {
      "image/png": "[encoded data removed]",
      "text/plain": [
       "<Figure size 640x480 with 1 Axes>"
      ]
     },
     "metadata": {},
     "output_type": "display_data"
    }
   ],
   "source": [
    "components_user_dict = defaultdict(int)\n",
    "\n",
    "for cc in len_cc_user:\n",
    "    components_user_dict[cc] +=1\n",
    "\n",
    "plt.loglog(components_user_dict.keys(), components_user_dict.values(), 'o')\n",
    "plt.ylabel('Number of Components')\n",
    "plt.xlabel('Component Size')\n",
    "plt.title('Components Size distribution for User Projection')"
   ]
  },
  {
   "cell_type": "markdown",
   "metadata": {},
   "source": [
    "#### 5.2 - Beer Network"
   ]
  },
  {
   "cell_type": "code",
   "execution_count": 79,
   "metadata": {},
   "outputs": [
    {
     "name": "stdout",
     "output_type": "stream",
     "text": [
      "False\n",
      "29\n"
     ]
    }
   ],
   "source": [
    "print(nx.is_connected(beer_projection))\n",
    "print(nx.number_connected_components(beer_projection))"
   ]
  },
  {
   "cell_type": "markdown",
   "metadata": {},
   "source": [
    "Retrieve the connected components and their corresponding size."
   ]
  },
  {
   "cell_type": "code",
   "execution_count": 80,
   "metadata": {},
   "outputs": [
    {
     "data": {
      "text/plain": [
       "[3802, 4, 3, 4]"
      ]
     },
     "execution_count": 80,
     "metadata": {},
     "output_type": "execute_result"
    }
   ],
   "source": [
    "# Retrieve the members of each component\n",
    "components_beer = [cc for cc in nx.connected_components(beer_projection)]\n",
    "\n",
    "# compute the number of beers in each component\n",
    "len_cc_beers = [len(cc) for cc in nx.connected_components(beer_projection)]\n",
    "len_cc_beers[:4]"
   ]
  },
  {
   "cell_type": "markdown",
   "metadata": {},
   "source": [
    "Retrieve the dimenstions of the largest cc, and compute ASPL and diameter."
   ]
  },
  {
   "cell_type": "code",
   "execution_count": 81,
   "metadata": {},
   "outputs": [
    {
     "name": "stdout",
     "output_type": "stream",
     "text": [
      "Graph with 3802 nodes and 54119 edges\n"
     ]
    },
    {
     "name": "stdout",
     "output_type": "stream",
     "text": [
      "3.084091356672522\n",
      "7\n"
     ]
    }
   ],
   "source": [
    "lcc_beer = beer_projection.subgraph(components_beer[0])\n",
    "print(lcc_beer)\n",
    "\n",
    "# retrieve the ASPL\n",
    "print(nx.average_shortest_path_length(lcc_beer))\n",
    "\n",
    "# retrieve the diameter\n",
    "print(nx.diameter(lcc_beer))"
   ]
  },
  {
   "cell_type": "code",
   "execution_count": 82,
   "metadata": {},
   "outputs": [
    {
     "data": {
      "text/plain": [
       "0.977880658436214"
      ]
     },
     "execution_count": 82,
     "metadata": {},
     "output_type": "execute_result"
    }
   ],
   "source": [
    "len(lcc_beer)/sum(len_cc_beers)"
   ]
  },
  {
   "cell_type": "markdown",
   "metadata": {},
   "source": [
    "Reproduce the plot in slide 8/14 'connectivity'."
   ]
  },
  {
   "cell_type": "code",
   "execution_count": 83,
   "metadata": {},
   "outputs": [
    {
     "data": {
      "text/plain": [
       "Text(0.5, 1.0, 'Components Size distribution for Beer Projection')"
      ]
     },
     "execution_count": 83,
     "metadata": {},
     "output_type": "execute_result"
    },
    {
     "data": {
      "image/png": "[encoded data removed]",
      "text/plain": [
       "<Figure size 640x480 with 1 Axes>"
      ]
     },
     "metadata": {},
     "output_type": "display_data"
    }
   ],
   "source": [
    "components_beer_dict = defaultdict(int)\n",
    "\n",
    "for cc in len_cc_beers:\n",
    "    components_beer_dict[cc] +=1\n",
    "\n",
    "plt.loglog(components_beer_dict.keys(), components_beer_dict.values(), 'o')\n",
    "plt.ylabel('Number of Components')\n",
    "plt.xlabel('Component Size')\n",
    "plt.title('Components Size distribution for Beer Projection')"
   ]
  },
  {
   "cell_type": "markdown",
   "metadata": {},
   "source": [
    "# 6 - Transitivity"
   ]
  },
  {
   "cell_type": "markdown",
   "metadata": {},
   "source": [
    "Topics: \n",
    "- global and local clustering coefficient\n",
    "- triangles\n",
    "- comment real vs. random network"
   ]
  },
  {
   "cell_type": "markdown",
   "metadata": {},
   "source": [
    "#### 6.1 - Users"
   ]
  },
  {
   "cell_type": "code",
   "execution_count": 84,
   "metadata": {},
   "outputs": [
    {
     "data": {
      "text/plain": [
       "[('StoneBrewFanatic', 2506),\n",
       " ('Tucquan', 2161),\n",
       " ('marlinsfan4', 2083),\n",
       " ('dogfishandi', 1803),\n",
       " ('tsauce2', 1751)]"
      ]
     },
     "execution_count": 84,
     "metadata": {},
     "output_type": "execute_result"
    }
   ],
   "source": [
    "# Number of triangles\n",
    "user_triangles = nx.triangles(user_projection)\n",
    "user_triangles = sorted(user_triangles.items(), key=lambda x:x[1], reverse=True)\n",
    "user_triangles[:5]"
   ]
  },
  {
   "cell_type": "code",
   "execution_count": 85,
   "metadata": {},
   "outputs": [
    {
     "name": "stdout",
     "output_type": "stream",
     "text": [
      "Global Clustering Coefficient: 0.31710176599137674\n",
      "Local Clustering Coefficient: 0.4476987851468848\n"
     ]
    }
   ],
   "source": [
    "# Global Clustering Coefficient\n",
    "print(f\"Global Clustering Coefficient: {nx.transitivity(user_projection)}\")\n",
    "\n",
    "# Local Clustering Coefficient\n",
    "print(f\"Local Clustering Coefficient: {nx.average_clustering(user_projection)}\")"
   ]
  },
  {
   "cell_type": "markdown",
   "metadata": {},
   "source": [
    "Compare with a Random network"
   ]
  },
  {
   "cell_type": "code",
   "execution_count": 86,
   "metadata": {},
   "outputs": [
    {
     "data": {
      "text/plain": [
       "0.020589999250318614"
      ]
     },
     "execution_count": 86,
     "metadata": {},
     "output_type": "execute_result"
    }
   ],
   "source": [
    "nx.transitivity(random_network_user)"
   ]
  },
  {
   "cell_type": "markdown",
   "metadata": {},
   "source": [
    "_\"Real networks have higher clustering coefficient than random networks!\"_"
   ]
  },
  {
   "cell_type": "markdown",
   "metadata": {},
   "source": [
    "#### 6.3 - Beers"
   ]
  },
  {
   "cell_type": "code",
   "execution_count": 87,
   "metadata": {},
   "outputs": [
    {
     "name": "stdout",
     "output_type": "stream",
     "text": [
      "Global Clustering Coefficient: 0.5057849883758987\n",
      "Local Clustering Coefficient0.7573615923432415\n"
     ]
    }
   ],
   "source": [
    "# Local Clustering Coefficient\n",
    "print(f\"Global Clustering Coefficient: {nx.transitivity(beer_projection)}\")\n",
    "\n",
    "# Global Clustering Coefficient\n",
    "print(f\"Local Clustering Coefficient{nx.average_clustering(beer_projection)}\")"
   ]
  },
  {
   "cell_type": "markdown",
   "metadata": {},
   "source": [
    "# 7 - Strong and Weak Ties"
   ]
  },
  {
   "cell_type": "markdown",
   "metadata": {},
   "source": [
    "**Definition 7.1**:_\"A `bridge` in a graph is an edge whose removal causes the number of connected components of the graph to increase. Equivalently, a bridge is an edge that does not belong to any cycle.\"_"
   ]
  },
  {
   "cell_type": "markdown",
   "metadata": {},
   "source": [
    "**Definition 7.2**: _\"A `local bridge` is an edge whose endpoints have no common neighbors. That is, the edge is not part of a triangle in the graph.\"_"
   ]
  },
  {
   "cell_type": "markdown",
   "metadata": {},
   "source": [
    "_\"Analyzing bridges and local bridges can provide insights into the critical edges that, if removed, could impact the overall connectivity or local structure of your network. It's a valuable analysis for understanding the resilience and vulnerability of the network.\"_"
   ]
  },
  {
   "cell_type": "markdown",
   "metadata": {},
   "source": [
    "#### 7.1 - Users"
   ]
  },
  {
   "cell_type": "code",
   "execution_count": 88,
   "metadata": {},
   "outputs": [
    {
     "data": {
      "text/plain": [
       "True"
      ]
     },
     "execution_count": 88,
     "metadata": {},
     "output_type": "execute_result"
    }
   ],
   "source": [
    "nx.has_bridges(user_projection)"
   ]
  },
  {
   "cell_type": "code",
   "execution_count": 89,
   "metadata": {},
   "outputs": [
    {
     "name": "stdout",
     "output_type": "stream",
     "text": [
      "42\n",
      "0.0021832926131933254\n"
     ]
    }
   ],
   "source": [
    "bridges_user = len(list(nx.bridges(user_projection)))\n",
    "print(bridges_user)\n",
    "print(bridges_user/nx.number_of_edges(user_projection))"
   ]
  },
  {
   "cell_type": "code",
   "execution_count": 90,
   "metadata": {},
   "outputs": [
    {
     "name": "stdout",
     "output_type": "stream",
     "text": [
      "293\n",
      "0.015231065134896294\n"
     ]
    }
   ],
   "source": [
    "local_bridges_user = len(list(nx.local_bridges(user_projection)))\n",
    "print(local_bridges_user)\n",
    "print(local_bridges_user/nx.number_of_edges(user_projection))"
   ]
  },
  {
   "cell_type": "markdown",
   "metadata": {},
   "source": [
    "#### 7.2 - Beers"
   ]
  },
  {
   "cell_type": "code",
   "execution_count": 91,
   "metadata": {},
   "outputs": [
    {
     "data": {
      "text/plain": [
       "True"
      ]
     },
     "execution_count": 91,
     "metadata": {},
     "output_type": "execute_result"
    }
   ],
   "source": [
    "nx.has_bridges(beer_projection)"
   ]
  },
  {
   "cell_type": "code",
   "execution_count": 92,
   "metadata": {},
   "outputs": [
    {
     "name": "stdout",
     "output_type": "stream",
     "text": [
      "114\n",
      "0.002101847413252701\n"
     ]
    }
   ],
   "source": [
    "bridges_beer = len(list(nx.bridges(beer_projection)))\n",
    "print(bridges_beer)\n",
    "print(bridges_beer/nx.number_of_edges(beer_projection))"
   ]
  },
  {
   "cell_type": "code",
   "execution_count": 93,
   "metadata": {},
   "outputs": [
    {
     "name": "stdout",
     "output_type": "stream",
     "text": [
      "205\n",
      "0.0037796378922526643\n"
     ]
    }
   ],
   "source": [
    "local_bridges_beer = len(list(nx.local_bridges(beer_projection)))\n",
    "print(local_bridges_beer)\n",
    "print(local_bridges_beer/nx.number_of_edges(beer_projection))"
   ]
  },
  {
   "cell_type": "markdown",
   "metadata": {},
   "source": [
    "# 8 - Network Similarity (Assortativity)"
   ]
  },
  {
   "cell_type": "markdown",
   "metadata": {},
   "source": [
    "#### 8.1 - Average neighbor degree, average neighbor connectivity\n",
    "- https://stackoverflow.com/questions/56624273/understanding-average-degree-connectivity-in-networkx"
   ]
  },
  {
   "cell_type": "code",
   "execution_count": 94,
   "metadata": {},
   "outputs": [
    {
     "name": "stdout",
     "output_type": "stream",
     "text": [
      "{'weerezboy': 38.714285714285715, 'chefhatt': 53.56666666666667, 'dbell23': 46.4, 'AgentZero': 53.25, 'lwillitz': 39.4, 'beveritt': 36.285714285714285, 'robwestcott': 60.27272727272727, 'soze47': 44.04651162790697, 'samyoung': 113.0, 'mariposafan': 70.45454545454545, 'cvm4': 54.94736842105263, 'bilyboy65': 45.0, 'Chriscrundwell12': 42.892857142857146, 'kevanb': 53.925925925925924, 'musicforairports': 41.074074074074076, 'beergod1': 59.53846153846154, 'suncrust': 43.0, 'codysjb': 36.333333333333336, 'phantomwyse': 43.285714285714285, 'mattgreger': 60.333333333333336, 'nickthegun12': 60.432432432432435, 'barczar': 56.8, 'tigg924': 23.5, 'tronester': 49.07692307692308, 'MEsoJD': 59.31578947368421, 'kojevergas': 47.0, 'CaptainIPA': 38.75, 'brewerburgundy': 42.82608695652174, 'biggmike': 14.0, 'TheMultiYeast': 52.40845070422535, 'dafizzif': 51.0, 'jkanavel': 40.90384615384615, 'mpyle': 57.5, 'alexgash': 49.9375, 'BucBasil': 41.22222222222222, 'atr2605': 69.04225352112677, 'herman77': 32.18181818181818, 'burnerfinger': 58.58974358974359, 'Bierman9': 53.0, 'HoneyLamb': 58.46666666666667, 'StoneTSR': 47.63157894736842, 'shrek806': 49.0, 'Duhast500': 56.75675675675676, 'jlindros': 48.27272727272727, 'Brad007': 51.91111111111111, 'Reaper16': 67.91025641025641, 'hoptualBrew': 49.0, 'JoLight': 23.0, 'robbrandes': 26.714285714285715, 'ely2000k': 62.45652173913044, 'ummswimmin': 52.791666666666664, 'Bookseeb': 40.4, 'laituegonflable': 43.53333333333333, 'zhanson88': 21.0, 'gabedivision': 48.28, 'KevSal': 9.333333333333334, 'AlfaMale': 24.571428571428573, 'scootny': 55.868852459016395, 'phenomenologian': 56.63157894736842, 'NittanyBeerFan': 64.71428571428571, 'Flightoficarus': 39.714285714285715, 'greybeardloon': 37.875, 'homebrewhawk': 51.8125, 'scratch69': 28.833333333333332, '2378GCGTG': 48.11764705882353, 'JosiahS': 35.0, 'negroobserver': 43.5, 'IronDjinn': 83.75, 'seand': 43.09090909090909, 'y2jrock60': 47.4, 'baseballrock': 60.34285714285714, 'TheBeerAlmanac': 64.15, 'Drinkerofales': 47.03, 'jmarsh123': 49.091603053435115, 'Viciousknishs': 69.26666666666667, 'BigPlay1824': 48.270270270270274, 'ppoitras': 55.375, 'Bendurgin': 43.142857142857146, 'chodinheaven': 49.666666666666664, 'GrumpyJunglist': 70.0, 'DavidST': 44.82539682539682, 'Treyliff': 38.333333333333336, 'MrKennedy': 52.357142857142854, 'phaulie03': 46.2, 'danielp215': 65.33333333333333, 'Crundy': 50.22222222222222, 'CapitolCrusher': 32.25, 'BeerHunter76': 49.6, 'Urbancaver': 3.0, 'Siriusfisherman': 42.645161290322584, 'KimenTshom': 53.333333333333336, 'runjack': 26.0, 'jegross2': 57.278688524590166, 'RBassSFHOPit2ME': 74.125, 'beergoot': 46.016129032258064, 'jman892': 49.125, '9InchNails': 48.46875, 'OWSLEY069': 63.35294117647059, 'Jparker37': 47.35, 'muletrane': 51.28260869565217, 'Finatic': 66.69565217391305, 'beerbellydaddy': 42.93333333333333, 'BillHilly': 43.0, 'ATLbeerDog': 60.0, 'Beaver13': 34.94117647058823, 'sommersb': 41.857142857142854, 'JohnGalt1': 62.627906976744185, 'vkv822': 52.43835616438356, 'jjkatter': 42.357142857142854, 'charlesw': 0.0, 'HopsHopenstein': 51.0, 'jsisko01': 52.2, 'ahq514': 60.101694915254235, 'theopholis': 69.28571428571429, 'Daktyls': 52.0, 'Dools9': 49.63157894736842, 'Rhettroactive': 67.34736842105264, 'BB1313': 52.65625, 'depechemode1983': 57.486486486486484, 'JamesS': 52.666666666666664, 'ebrauser': 47.388888888888886, 'arizcards': 47.22222222222222, 'lonestar4lunch': 7.0, 'buyBinboaVodka': 47.75, 'NWer': 61.0, 'mrfrancis': 49.25714285714286, 'BrewMaven': 59.666666666666664, 'flexabull': 56.51923076923077, 'antique': 46.53846153846154, 'TTAmod': 53.26470588235294, 'UDbeernut': 51.6, 'schoolboy': 62.714285714285715, 'barleyroad': 37.869565217391305, 'KMcG': 61.21052631578947, 'ZorPrime': 46.0, 'kbuzz': 37.285714285714285, 'bierbrauer': 48.36764705882353, 'Dmart1223': 53.666666666666664, 'wowbagger': 51.61904761904762, 'Digimaika2': 48.945205479452056, 'bigbluebeerguy': 51.6875, 'Gavage': 33.75, 'anth0ny': 9.0, '1001111.0': 50.4, 'bruachan': 55.77777777777778, 'burnstar': 40.0, 'callmemickey': 55.55555555555556, 'xpdrinker': 51.666666666666664, 'katan': 59.22857142857143, 'barnzy78': 56.916666666666664, 'Florida9': 34.95238095238095, 'FightingEntropy': 28.75, 'Humulus85': 64.67142857142858, 'CHADMC3': 70.83673469387755, 'divineaudio': 47.59016393442623, 'BeardedRiker': 56.666666666666664, 'Stinkypuss': 51.972972972972975, 'Vdubb86': 0.0, 'lanamj': 58.13333333333333, 'cps98': 51.166666666666664, 'ForWhatAlesYou': 49.689655172413794, 'peabody': 57.833333333333336, 'Nachojon': 64.8409090909091, 'ConsumerOfBeer': 52.25, 'xnicknj': 54.132075471698116, 'EK33': 36.40625, 'dBmV': 16.0, 'lmdengis': 80.0, 'soju6': 51.37931034482759, 'kawilliams81': 57.38636363636363, 'Blanco': 54.9, 'psuKinger': 33.36363636363637, 'heelsn02': 52.3, 'fx20736': 53.55172413793103, 'harrymel': 53.43181818181818, 'bearsxco': 22.5, 'adman08': 39.0, 'TippySelenoid': 64.7012987012987, 'supermantoine': 52.166666666666664, 'kemoarps': 46.30769230769231, 'thegodfather2701': 37.0, 'hdofu': 63.06521739130435, 'Sean9689': 46.34285714285714, 'coreyfmcdonald': 41.36666666666667, 'Damian': 32.857142857142854, 'pwoods': 39.25, 'kaleenjean': 32.333333333333336, 'ArrogantBastage': 0.0, 'beyah': 44.45454545454545, 'BlastBeats': 42.416666666666664, 'Adrianized': 51.629629629629626, 'mattboyer182': 67.25, 'russpowell': 47.61538461538461, 'chimaylvr': 32.5, 'JRdaSconnie': 5.0, 'OMGTheyKilkenny': 66.0, 'CrellMoset': 49.0, 'Rob315': 50.89473684210526, 'Brabander': 48.44444444444444, 'KickInTheChalice': 40.75, 'dgilks': 37.55, 'cpmichael': 52.3, 'matjack85': 42.18181818181818, 'midworken': 39.666666666666664, 'OremLK': 32.90909090909091, 'seanwhite': 68.5, 'goldennectar': 42.34782608695652, 'rvdoorn': 0.0, 'womencantsail': 51.0375, 'JayAre46': 41.083333333333336, 'chilly460': 59.775510204081634, 'aorloski': 59.68888888888889, 'JoEBoBpr': 60.82716049382716, 'NODAK': 74.9, 'ColForbinBC': 47.285714285714285, 'mikeg67': 58.3974358974359, 'Lerxst': 75.82051282051282, 'billab914': 56.18181818181818, 'DividedAvery': 45.27272727272727, 'mempath': 41.0, '4000qtrap': 46.916666666666664, 'jkrich': 101.0, 'wafers': 42.7, 'bigdeuce': 50.526315789473685, 'K9AleingPiss': 54.81818181818182, 'mikereaser': 62.38461538461539, 'jlpepper13': 51.689655172413794, 'WVbeergeek': 48.8, 'Stocean1': 44.0, 'Arbitrator': 49.06666666666667, 'kjritt': 49.81666666666667, 'chinchill': 61.775, 'northyorksammy': 56.421875, 'WankelEngine': 63.07843137254902, 'PeerlessMark': 29.25, 'mynie': 11.0, 'TheSixthRing': 26.444444444444443, 'Bighuge': 38.17391304347826, 'zander4dawin': 39.45454545454545, 'silentjay': 42.339285714285715, 'TheParchedOne': 52.6, 'icepik': 53.0625, 'Vixie': 49.92, 'schlimenhaumer': 0.0, 'will1256': 69.625, 'buschbeer': 71.88, 'JAXSON': 51.42857142857143, 'Rukasu': 13.0, 'MoreThanWine': 54.96, 'BigCheese': 71.45454545454545, 'Vancoubeer': 68.97435897435898, 'tvv375ia': 49.42372881355932, 'henskejk': 41.8, 'PeterIngemi': 61.02127659574468, 'htomsirveaux': 33.4, 'whendeathsleeps': 47.94444444444444, 'match1112': 43.4051724137931, 'PaulStoneAnchor': 51.083333333333336, 'ReelBigwigFish': 53.88461538461539, 'inlimbo77': 50.75, 'Beertracker': 53.7962962962963, 'oline73': 47.82539682539682, 'MattyG85': 47.651162790697676, 'twiggamortis420': 58.215384615384615, 'kingcrowing': 53.55, 'pweis909': 41.1, 'dennho': 55.411764705882355, 'Thingus': 69.1, 'aasher': 62.148936170212764, 'bierfreundlich': 35.46666666666667, 'brycelarson': 27.0, 'canucklehead': 56.0, 'nlmartin': 50.83050847457627, 'ixodus': 46.172413793103445, 'tehzachatak': 49.5, 'jefe2': 32.5, 'Derek': 73.13461538461539, 'Feareon': 39.25, 'pvsob': 46.76923076923077, 'crnipeter': 0.0, 'UnderPressure': 47.529411764705884, 'micromaniac129': 53.98780487804878, 'JM03': 53.22222222222222, 'huxcrunner': 52.86363636363637, 'argon': 14.0, 'Gash': 54.75555555555555, 'BeerMaverick': 73.75, 'leokbelo': 54.38709677419355, 'patpbr': 56.607142857142854, 'searsclone': 44.63157894736842, 'vette2006c5r': 47.80769230769231, 'angrybabboon': 46.886792452830186, 'JOaikido': 46.46153846153846, 'Immortale25': 49.301587301587304, 'chugalug06': 52.91304347826087, 'scottfrie': 61.2289156626506, 'Philousa': 67.3921568627451, 'thegodfather1076': 22.0, 'FUNKPhD': 58.696969696969695, 'projectflam86': 59.303030303030305, 'thagr81us': 55.666666666666664, 'GRG1313': 0.0, 'BeardedBoffin': 35.75, 'ManforallSaisons': 0.0, 'barleywinefiend': 48.44444444444444, 'oberon': 54.63636363636363, 'Crossmd': 54.43478260869565, 'JohnFatAss': 19.0, 'ChicagoBrewRev': 72.41818181818182, 'iBeer16': 53.73913043478261, 'hooliganlife': 51.82857142857143, 'keithmurray': 48.714285714285715, 'prototypic': 50.666666666666664, 'STKPICR0720': 66.875, 'BBP': 48.04545454545455, 'kiddynamite920': 62.588235294117645, 'GallowsThief': 64.88888888888889, 'TheAlamoWrocker': 57.714285714285715, 'HopNelius': 46.36363636363637, 'Chickenhawk9932': 38.0, 'Clowerweb': 37.6, 'Clembo1957': 52.833333333333336, 'jdhende': 40.5, 'Phelps': 50.47222222222222, 'blakelive784': 46.666666666666664, 'illidurit': 49.642857142857146, 'Netdigger2': 60.63768115942029, 'StoutHunter': 38.214285714285715, 'rjs': 55.27272727272727, 'facundoCNB': 56.45454545454545, 'Rutager': 48.91111111111111, 'thain709': 39.111111111111114, 'BGrider85': 51.333333333333336, 'liquoredgoat': 55.125, 'danedelman': 44.357142857142854, 'thepeter': 63.46666666666667, 'frankiepop': 41.333333333333336, 'drcarver': 29.0, 'uwmgdman': 86.0, 'CaptDavyJones': 60.25, 'vic21234': 62.34, 'kagent777': 49.27272727272727, 'wac9': 50.578947368421055, 'spicelab': 41.0, 'bonkers': 57.372093023255815, 'SawDog505': 60.08, 'Kwatt99': 41.6, 'wisrarebeer': 49.142857142857146, 'jzeilinger': 49.9, 'OtherShoe2': 46.11764705882353, 'Edwaka01': 45.4, 'wordemupg': 25.363636363636363, 'RyanLigeia': 51.69047619047619, 'Suds': 60.24, 'Nordstrand': 55.44444444444444, 'tony223366': 73.28571428571429, 'Cummins9110': 58.55555555555556, 'BeerPhan86': 73.18333333333334, 'spdyfire83': 53.7, 'EkimGram': 10.0, 'shivtim': 49.55555555555556, 'pzrhsau': 72.29411764705883, 'andrewinski1': 54.680851063829785, 'beerthirtysa': 77.8, 'hosehead83': 55.698412698412696, 'zep9865': 62.625, 'crhensel': 41.705882352941174, 'beerandcycling88': 48.483870967741936, 'JEdmund': 70.10606060606061, 'sacrelicio': 60.096774193548384, 'sevenarts': 54.023809523809526, 'Jpwv': 61.0, 'MDDMD': 36.4, 'mdaschaf': 57.66935483870968, 'woosterbill': 59.0, 'HuskyinPDX': 48.03846153846154, 'jtierney89': 45.20224719101124, 'JoeyBeerBelly': 50.32835820895522, 'horshack7': 57.36363636363637, 'Huhzubendah': 46.36893203883495, 'shoky01': 57.370370370370374, 'sidetracked': 41.10526315789474, 'jifigz': 29.5, 'axeman9182': 57.905660377358494, 'draheim': 43.473684210526315, 'BerkeleyBeerMan': 45.63157894736842, 'matttttYCE': 56.85294117647059, 'eric5bellies': 53.5, 'ThisWangsChung': 44.2, 'chickenflea': 51.6, 'comfortablynumb1': 40.833333333333336, 'zaphodchak': 50.96808510638298, 'bsp77': 38.19047619047619, 'cradke': 50.476190476190474, 'heygeebee': 35.2, 'rudolphjacksonm': 0.0, 'lstokes': 32.666666666666664, 'pants678': 32.666666666666664, 'godlessape': 59.875, 'boilermakerbrew': 48.9, 'dbossman': 43.21875, 'bpw28': 57.111111111111114, 'D11': 50.233333333333334, 'sailorastro': 40.22857142857143, 'CooperEllis': 26.5, 'BucannonXC5': 56.83561643835616, 'nanobrew': 33.333333333333336, 'Rifugium': 38.10588235294118, 'andersony17': 67.0, 'travMI13': 60.34375, 'cbless97': 38.5625, 'Tucquan': 61.56488549618321, 'hoser': 22.0, 'Rizalini': 34.666666666666664, 'FrankLloydMike': 42.45454545454545, 'socon67': 71.69791666666667, 'Georgiabeer': 57.55172413793103, 'fragilehearted': 45.15384615384615, 'woodychandler': 39.333333333333336, 'Archemedies': 48.64556962025316, 'newsage': 50.885714285714286, 'Aiptasia': 48.371428571428574, 'phisigben': 58.0, 'ncketchum': 67.63888888888889, 'steve8robin': 55.13333333333333, 'MattyV': 48.407407407407405, 'Khazadum': 43.04, 'Dreadnaught33': 41.0625, 'Hex92': 52.09090909090909, 'jerseyshore5': 38.791666666666664, 'hdelavega': 58.175, 'hopsolutely': 37.42857142857143, 'nmbr0ne': 36.0, 'bwmichaud': 62.333333333333336, 'fatmcb1': 50.0625, 'AgentMunky': 49.8448275862069, 'rfbenavi80': 53.0, 'McStagger': 58.04347826086956, 'cyclonece09': 64.0, 'CrazyDavros': 59.07692307692308, 'rsdaugherty': 36.2, 'jondeelee': 70.0, 'Lawl3ss': 44.0625, 'CuriousMonk': 48.75, 'waltersrj': 91.66666666666667, 'birchstick': 64.63218390804597, 'J23hc': 47.111111111111114, 'TwelveOunces': 60.8, 'gatornation': 33.470588235294116, 'PacNWDad': 52.54545454545455, 'gkunkle': 38.75, 'DaftCaskBC': 53.57843137254902, 'GregSVT': 41.3, 'Retail1LO': 57.42857142857143, 'obrike': 63.53164556962025, 'andrewjraab': 57.0, 'lacqueredmouse': 30.181818181818183, 'zeff80': 49.4468085106383, 'Zimbo': 186.0, 'MaxBrewell': 46.083333333333336, 'Everydayoff': 32.0, 'Hojaminbag': 41.31428571428572, 'hiku7': 51.0625, 'CraftBeerTastic': 50.7962962962963, 'cdkrenz': 31.142857142857142, 'dtivp': 49.15384615384615, 'sgtpepper1': 39.30769230769231, 'mintjellie': 55.75, 'rudzud': 64.36363636363636, 'ChainGangGuy': 57.36842105263158, 'Gushue3': 56.6, 'Marty30': 42.875, 'johnmichaelsen': 42.4, 'Jimmys': 53.50574712643678, 'sfprint': 63.0, 'CHILLINDYLAN': 27.857142857142858, 'Ryan011235': 42.52173913043478, 'brewandbbq': 60.9, 'theyellowdart': 54.45161290322581, 'riored4v': 53.0, 'quaybr': 15.0, 'Thehuntmaster': 41.708333333333336, 'brydeen': 56.76190476190476, 'Crass3000': 45.111111111111114, 'perrymarcus': 49.84615384615385, 'coldmeat23': 85.0, 'Strix': 35.111111111111114, 'Hopswagger': 56.5, 'Brez07': 62.30769230769231, 'jonstep': 51.27272727272727, 'nickapalooza86': 44.074074074074076, 'Sam21': 9.0, 'u2carew': 53.25, 'TrappistJohnMD': 50.2, 'auroracrisis': 51.30769230769231, 'BrownNut': 52.285714285714285, 'korguy123': 62.54022988505747, 'rowingbrewer': 60.96296296296296, 'TheBigBoy': 0.0, 'damndirtyape': 43.333333333333336, 'AmericanGothic': 42.54545454545455, 'uno99': 27.5, 'CheezyBlaster': 42.26315789473684, 'Gtreid': 59.333333333333336, 'BryanRex': 49.37837837837838, 'BeerForMuscle': 64.4, 'ikantspel': 53.06666666666667, 'clareo': 64.0, 'WertMaker': 40.666666666666664, 'syrupjoe': 32.5, 'beerdrifter': 17.666666666666668, 'Halcyondays': 50.0625, 'HalfFull': 67.85, 'jhartley': 46.625, 'Hopfenpeter': 69.38333333333334, 'billyzoom666': 55.15384615384615, 'jb413': 58.875, 'suspect': 50.5, 'devinoconnor': 48.81818181818182, 'keanex': 45.765625, 'CaptJackHarkness': 45.45, 'stonermouse': 67.7, 'PhillyDrinker1': 86.57142857142857, 'TomAtoMusic': 66.5, 'Souleman': 50.55, 'wcintula': 58.333333333333336, 'Giovacchini': 52.666666666666664, 'WhiteOak': 58.833333333333336, 'fitzy84': 53.285714285714285, 'Goliath': 59.6, 'sloescher': 55.44230769230769, 'Kegatron': 38.11538461538461, 'AndyAvalanche': 49.75757575757576, 'siege06nd': 39.294117647058826, 'elgiacomo': 16.0, 'BenHesk12': 56.86486486486486, 'jgreenearrow': 40.75, 'bundy462': 40.833333333333336, 'Microbrewtaster': 47.2, 'wschmit': 57.03030303030303, 'magictacosinus': 51.92857142857143, 'BretSikkink': 55.17948717948718, 'Ungertaker': 40.0, 'czfreeman': 45.285714285714285, 'buffs9': 48.6875, 'curasowa': 32.0, 'GarthDanielson': 55.26, 'Brent': 55.05714285714286, 'McNealc31': 44.666666666666664, 'CHickman': 52.96551724137931, 'SHODriver': 63.88, 'rangerred': 47.041666666666664, 'HOPPYKC': 46.375, 'fullsweep': 0.0, 'AMiz602': 82.0, 'rundocrun': 41.81818181818182, 'mdcrouser': 29.625, 'ahalloin': 60.666666666666664, 'nataku00': 55.0, 'Star80': 51.05714285714286, 'kahjdfh': 50.07142857142857, 'rlee1390': 47.40625, 'Docer': 50.5, 'SkiBum22': 51.483870967741936, 'microbrewlover': 38.888888888888886, 'SolipsismalCat': 45.625, 'slentz': 58.25, 'Cyberkedi': 46.583333333333336, 'kkipple': 36.2, 'Scourge07': 56.77272727272727, 'hmk22': 29.428571428571427, 'BEERchitect': 65.46575342465754, 'dubinsky': 49.583333333333336, 'FeDUBBELFIST': 58.5, 'BedetheVenerable': 32.166666666666664, 'Slatetank': 56.020833333333336, 'Domingo': 72.16666666666667, 'treyrab': 65.66666666666667, 'BMoldy': 56.0, 'Pintofbrown': 65.49462365591398, 'jadpsu': 75.86363636363636, 'corcoranjc': 48.90909090909091, 'gmfessen': 26.2, 'fmccormi': 56.05555555555556, 'gregy55902': 56.4, 'starrdogg': 48.526315789473685, 'BgThang': 32.5, 'CopeTech': 57.75, 'Otterburn': 0.0, 'Onenote81': 65.05882352941177, 'unclepedro': 18.77777777777778, 'Reidrover': 47.2, 'TheDeuce': 53.833333333333336, 'Beejay': 65.75, 'gfreed': 46.5, 'zachary80': 40.08, 'Wimberley87': 62.9, 'morebeergood': 60.90243902439025, 'lackenhauser': 49.9375, 'Hopdaemon39': 51.9375, 'augustgarage': 107.5, 'blackcompg': 51.888888888888886, 'hdf561': 50.87096774193548, 'YouSkeete': 51.75, 'brstls4drmrs': 51.7, 'hogrider': 34.333333333333336, 'jtingue': 54.09090909090909, 'stalker5': 61.74074074074074, 'Justin23060': 42.0, 'DrJay': 50.37931034482759, 'ghostwalker': 49.888888888888886, 'JaredKent': 46.06666666666667, 'Ruds': 48.76923076923077, 'BruinsFan71': 22.75, 'PEIhop': 10.0, 'aranheaney': 34.333333333333336, 'warnerry': 44.647887323943664, 'ksimons': 44.53333333333333, 'natemort13': 45.0, 'Jesstyr': 36.5, 'trxxpaxxs': 59.02469135802469, 'deadonhisfeet': 49.829787234042556, 'tavernjef': 0.0, 'TheFightfan1': 42.833333333333336, 'TexIndy': 76.5, 'CowsCanBark': 46.44444444444444, 'ms11781': 58.567567567567565, 'FourBetter': 109.0, 'titosupertramp': 44.06666666666667, 'zoolzoo': 71.3731343283582, 'daliandragon': 75.52631578947368, 'Amalak': 46.98550724637681, 'MrMcGibblets': 42.55555555555556, 'Daniellobo': 54.464285714285715, 'CaptCleveland': 67.0625, 'Arenbeer': 63.59375, 'thecheapies': 49.985074626865675, 'BeerDocT': 29.666666666666668, 'rarbring': 0.0, 'BeerImmediately': 65.33333333333333, 'iSip': 17.333333333333332, 'tkelley': 46.38461538461539, 'GbVDave': 120.0, 'NardiByNature': 48.84, 'dogfishandi': 60.21705426356589, 'WeedKing4': 52.35294117647059, 'lurpy1': 31.176470588235293, 'crossovert': 53.44444444444444, 'litheum94': 47.28915662650602, 'jazzyjeff13': 47.775510204081634, 'Cozzatoad': 63.583333333333336, 'JohnnyBarman': 55.34782608695652, 'Lillie1128': 24.5, 'Thorpe429': 52.41346153846154, 'Vonerichs': 58.26470588235294, 'Knapp85': 46.623655913978496, 'Auracom': 48.916666666666664, 'mobius387': 61.888888888888886, 'Tone': 51.94736842105263, 'SirWalkAbout': 42.666666666666664, 'ngeunit1': 43.333333333333336, 'airforbes1': 33.3, 'samie85': 49.0, 'FosterJM': 51.01923076923077, 'nimrod979': 34.45454545454545, 'argock': 53.4054054054054, 'charlzm': 50.57142857142857, 'garuda': 47.541666666666664, 'capeannbass36': 37.285714285714285, 'DaveHack': 40.285714285714285, 'Fatehunter': 52.94444444444444, 'mothman': 16.0, 'Kranders': 60.095238095238095, 'goldbot': 39.75, 'DIM': 38.25, 'ianjsullivan': 51.888888888888886, 'Jadjunk': 40.0, 'KDawg': 53.638888888888886, 'JayQue': 53.714285714285715, 'TapeDeck': 49.583333333333336, 'AdamBear': 73.58536585365853, 'JackieTH': 48.375, 'PigSkinFilms': 55.0, 'notchucknorris': 59.376068376068375, 'abar22': 64.15217391304348, 'jeffmart22': 30.1875, 'gtermi': 52.23489932885906, 'Ctendall': 73.5, 'StaveHooks': 37.78947368421053, 'hwwty4': 60.5, 'TempeBeerMan': 53.714285714285715, 'mjpolzin': 52.76923076923077, 'PorterLambic': 55.57692307692308, 'Vierenner': 46.75, 'jneiswender': 46.44444444444444, 'isaiahcutright': 42.833333333333336, 'tone77': 68.79069767441861, 'eclipse54': 54.333333333333336, 'DrStiffington': 47.5625, 'obywan59': 56.88235294117647, 'Billolick': 45.8, 'bobhits': 57.54929577464789, 'morimech': 55.43333333333333, 'SuperSpy': 38.0, 'pmlondrigan': 51.80769230769231, 'phichifiji00': 56.0, 'HopHead84': 57.77777777777778, 'Neorebel': 47.22222222222222, 'MarcatGSB': 36.0, 'TenHornsProud': 66.71134020618557, 'podunkparte': 56.0, 'Samoht126': 44.34782608695652, 'Longstaff': 61.86666666666667, 'wedge': 63.018181818181816, 'vitrael': 39.7, 'celticfutblclub': 60.910714285714285, 'intensify': 45.9, 'MattSweatshirt': 45.18181818181818, 'gueuzeonhigh': 66.0, 'mustang70': 38.72727272727273, 'Mahlik': 41.794871794871796, 'BrewCrew2010': 59.25, 'justintcoons': 58.09090909090909, 'dbmernin83': 49.3, 'sergio1va': 35.0, 'UNCCTDawg': 30.0, 'smerrell': 80.28571428571429, 'haz77': 186.0, 'ckollias': 34.88461538461539, 'Beerenauslese': 41.0, 'Darkmagus82': 47.46478873239437, 'LukeD23': 71.91836734693878, 'DanaBeerMaster': 40.857142857142854, 'palma': 49.30769230769231, 'WYVYRN527': 52.4, 'sweett3k': 72.0, 'largadeer': 56.61538461538461, 'Pencible': 52.93, 'stevoj': 49.166666666666664, 'Heischman': 56.25, 'Heavenisbeer': 43.25, 'bbeane': 60.78048780487805, 'raynmoon': 65.625, 'mkotsayfan': 65.52272727272727, 'Brushkanna': 28.5, 'metter98': 53.36470588235294, 'tjkinate': 48.747747747747745, 'spitfire9703': 40.333333333333336, 'BeerDawgs': 49.36, 'bennetj17': 36.61538461538461, 'greenmonstah': 65.42592592592592, 'rtaps': 51.44565217391305, 'dejrrma': 59.51724137931034, 'BillDon': 40.875, 'hardy008': 46.285714285714285, 'orangesol': 47.851851851851855, 'DoktorZee': 46.93333333333333, 'VaTechHopHead': 67.1, 'EnJeiBee': 68.03846153846153, 'imintune2': 57.09090909090909, 'TheManiacalOne': 49.15625, 'Brewermeister': 57.138888888888886, 'BrokenStones': 55.21621621621622, 'FanofHefe': 45.353846153846156, 'GarrettMD': 66.27906976744185, 'scruffwhor': 42.294117647058826, 'pjs234': 70.51724137931035, 'RonaldTheriot': 31.125, 'AwYeh': 38.0, 'flyingpig': 42.94444444444444, 'philbe311': 46.44736842105263, 'Ego': 51.0, 'wagenvolks': 58.0, 'Mississipping': 53.37903225806452, 'danieelol': 52.5, 'onix1agr': 45.0, 'farrago': 38.714285714285715, 'scott451': 52.18181818181818, 'renegadeburger': 47.11764705882353, 'KickbacksSteve': 87.0, 'TheHammer': 27.0, 'Chaney': 35.26315789473684, 'TheDayIsMine': 42.36363636363637, 'DrDemento456': 48.220588235294116, 'PragueBeerGarden': 0.0, 'brown2cu': 59.0, 'WastingFreetime': 42.25, 'uustal': 77.76595744680851, 'Tschnab': 55.529411764705884, 'doughanson78': 54.391752577319586, 'joshuaseresse': 42.714285714285715, 'ithacabaron': 46.30769230769231, 'JayS2629': 39.35294117647059, 'Raven3464': 57.666666666666664, 'dafla67': 60.9375, 'BDIMike': 42.2, 'kennylopez': 54.5, 'Alieniloquium': 57.66233766233766, 'bashiba': 59.1044776119403, 'tobin999': 42.1764705882353, 'Vashtar': 42.38461538461539, 'ocelot2500': 47.65, 'nickname': 52.8125, 'csrbv': 63.51851851851852, 'imasloth': 41.0625, 'weizenbob': 43.76, 'Muse': 12.0, 'bitterbeerguy': 55.354838709677416, '4balance': 51.0, 'jwhancher': 46.470588235294116, 'ADZA': 15.0, 'cpetrone84': 0.0, 'WillCarrera': 69.0, 'nrbw23': 50.10526315789474, 'emerge077': 59.04761904761905, 'gerite': 30.0, 'GPHarris': 49.714285714285715, 'TheQuietMan22': 39.125, 'LeRose': 59.30909090909091, 'Duff27': 50.957142857142856, 'Blargimus': 23.833333333333332, 'Macca': 47.833333333333336, 'gatorguy': 68.0, 'kiya': 0.0, 'TerryW': 11.0, 'secondtooth': 42.13333333333333, 'distantmantra': 58.76923076923077, 'jmagnus87': 69.5, 'Pity': 34.0, 'Dope': 62.8448275862069, 'jmarklan': 48.56923076923077, 'cindyjeffsmith': 60.42465753424658, 'CrystalShipMS3': 54.23529411764706, 'Spadoof': 42.4, 'Tilley4': 70.7719298245614, 'koopa': 33.166666666666664, 'CruZnBrewZ': 54.69642857142857, 'TechTriumph': 64.21739130434783, 'JoshVandy': 56.0, 'thierrynantes': 26.0, 'Jason': 43.111111111111114, 'ArrogantB': 21.363636363636363, 'rinhaak': 51.666666666666664, 'Greggy': 46.333333333333336, 'XanderCruz': 59.666666666666664, 'HopDr': 43.833333333333336, 'legalpete19340': 54.13793103448276, 'JohnnyHopps': 58.13953488372093, 'Agold': 52.61538461538461, 'indiapaleale': 64.85185185185185, 'Onibubba': 70.38461538461539, 'Converge': 40.31818181818182, 'Jef59': 41.52173913043478, 'GilGarp': 50.166666666666664, 'ExtraStout': 43.588235294117645, 'beesy': 65.1969696969697, 'SpeedwayJim': 47.57142857142857, 'marshrat63': 63.05769230769231, 'Jtthegreat': 45.55555555555556, 'mattcrill': 38.8, 'powellmg': 46.35294117647059, 'flagmantho': 52.0, 'mntlover': 55.46551724137931, 'BeerResearcher': 43.9, 'Scotchboy': 50.30769230769231, 'iadler': 57.29032258064516, 'RonBeerBox': 36.48275862068966, 'dyan': 54.333333333333336, 'TallDrinkOfLager': 61.72727272727273, 'StoryOfTheGhost': 52.48275862068966, 'Bierlerner': 58.0, 'Satchboogie': 17.5, 'beerbiatchMD': 47.75409836065574, 'BlurryVisi0n': 52.67857142857143, 'WanderingFool': 63.791666666666664, 'Jeffo': 43.90909090909091, 'ianorama': 43.25, 'BUNZILLA': 48.9, 'siradmiralnelson': 51.53333333333333, 'army01': 39.0, 'Holland': 55.86363636363637, 'kjyost': 48.0, 'DCon': 51.40350877192982, 'jera1350': 64.05882352941177, 'Mosstrooper': 46.36666666666667, 'mactrail': 45.97260273972603, 'AlCaponeJunior': 53.9746835443038, 'mrasskicktastic': 29.555555555555557, 'mlazzaro': 44.25, 'ShanePB': 62.416666666666664, 'beertunes': 51.666666666666664, 'UpToMeBeer': 45.888888888888886, 'DrewShal9': 33.5, 'Luchman': 57.666666666666664, 'shand': 51.67741935483871, 'Metalmonk': 67.25, 'DoubleJ': 52.285714285714285, 'chilidog': 59.794117647058826, 'B967ierhunter177': 40.416666666666664, 'Spider889': 45.72727272727273, 'eduque14': 21.833333333333332, 'Shagtastic': 56.370370370370374, 'tbeckett': 38.5, 'lovindahops': 58.88, 'Seanibus': 55.266666666666666, 'Zorro': 49.57142857142857, 'pixieskid': 46.0, '4DAloveofSTOUT': 44.127272727272725, 'MikeyMikee': 61.6, 'TheGordianKnot': 62.129629629629626, 'Mitchster': 36.36363636363637, 'claaark13': 38.57142857142857, 'caskstrength': 54.06666666666667, 'Jerreve': 65.66666666666667, 'FreshHawk': 5.5, 'ZAP': 54.36, 'ryan1788a5': 52.375, 'larryi86': 51.833333333333336, 'lnashsig': 64.5, 'davey101': 55.16129032258065, 'pmarlowe': 57.24561403508772, 'allforbetterbeer': 52.84, 'Rayek': 44.5, 'jdense': 61.57142857142857, 't420o': 58.06122448979592, 'tyamhydrogen': 46.54545454545455, 'mastodonj': 84.6, 'Sygma': 0.0, 'RJLarse': 41.11764705882353, 'Beerandraiderfan': 57.175, 'BeRanger': 56.26086956521739, 'BeerBuckeye': 47.27906976744186, 'neophilus': 50.48148148148148, 'mikehblack': 61.54545454545455, 'garymuchow': 36.0, 'KarlosT': 57.958333333333336, 'ZenAgnostic': 47.4, 'TheCondor': 52.91044776119403, 'jeonseh': 73.68333333333334, 'Gehrig': 28.0, 'Draughtsman': 44.44444444444444, 'wvsabbath': 58.324675324675326, 'RickS95': 60.64, 'JuicesFlowing': 40.0, 'EricCioe': 33.285714285714285, 'sprucetip': 59.6, 'hreb': 47.666666666666664, 'jsulko': 71.27272727272727, 'mechamifune': 67.02083333333333, 'SirSketch': 53.375, 'jbonapar': 85.88888888888889, 'beer2day': 43.0, 'tut2528': 55.411764705882355, 'ne0m00re': 61.22222222222222, 'unclejazz': 56.46236559139785, 'merc7186': 52.32, 'DaveHS': 84.0, 'Dodo2step': 127.5, 'TappaKeggaBrew': 51.333333333333336, 'brewskifan55': 65.75, 'beerfish68': 49.729729729729726, 'jpro': 52.91379310344828, 'akorsak': 58.0, 'diamondc': 51.19047619047619, 'ThirstyHerf': 64.34883720930233, 'stckhndlr': 46.827586206896555, 'drpimento': 31.22222222222222, 'Bobheed': 50.11764705882353, 'beagle75': 59.37735849056604, 'Merkur': 39.125, 'RonfromJersey': 36.833333333333336, 'JimKal': 55.25, 'Blakaeris': 46.470588235294116, 'KajII': 54.42857142857143, 'davewlfpckfan29': 62.490566037735846, 'MBrausen': 45.857142857142854, 'puboflyons': 42.05882352941177, 'Radome': 0.0, 'jcartamdg': 33.714285714285715, 'cagocubs': 47.18181818181818, 'bmwats': 49.666666666666664, 'BeerFMAndy': 70.0, 'actone2001': 51.92857142857143, 'Wisconsuds': 48.77777777777778, 'portia99': 66.82978723404256, 'bigfnjoe': 70.25333333333333, 'bubseymour': 41.333333333333336, 'BDTyre': 42.5, 'BEERMILER12': 63.77272727272727, 'NiceTaps': 50.72727272727273, 'homebrew311': 52.9375, 'Jra1985': 39.0, 'GeezLynn': 48.42857142857143, 'CBlack85': 66.19402985074628, 'coldriver': 44.35897435897436, 'billshmeinke': 48.4, 'huskermike12': 58.0, 'drgarage': 51.333333333333336, 'yourefragile': 60.6875, 'djbow': 53.75609756097561, 'DreamInOrange': 41.973684210526315, 'BlackHaddock': 40.333333333333336, 'camil1mj': 51.90384615384615, 'Cord018': 57.333333333333336, 'movingtrain': 45.588235294117645, 'tdm168': 63.76237623762376, 'hailyeast': 34.22222222222222, 'hustlesworth': 37.5, 'n2185': 47.76, 'younger35': 23.0, 'Bitterbill': 23.8, 'silentnoiz': 55.35, 'Zraly': 18.8, 'ajanesz': 49.375, 'eaglephile': 39.72727272727273, 'beerthulhu': 51.857142857142854, '33nickadams': 52.81818181818182, 'Gfunk720': 57.72727272727273, 'ElCaholicRacer': 61.392857142857146, 'ChrisPro': 40.285714285714285, 'shanblur': 56.22222222222222, 'jdhilt': 54.35294117647059, 'DavoleBomb': 46.76744186046512, 'Hawkeye1113': 22.0, 'Flounder57': 48.64705882352941, 'IPA35': 55.73684210526316, 'Nugganooch': 65.80434782608695, 'rootbeerman': 57.65714285714286, 'Beerdregs': 52.541666666666664, 'pburland23': 49.421052631578945, 'ChrisCage': 0.0, 'bum732': 47.42, 'Treebs': 47.8, 'BarrytheBear': 62.027027027027025, 'dansmcd': 47.30769230769231, 'jwc215': 56.86666666666667, 'TheHopfather': 53.61818181818182, 'capra12': 72.33333333333333, 'Popp24': 50.666666666666664, 'azdback': 41.25, 'Cinderbike': 45.5, 'grittybrews': 67.73809523809524, 'pokesbeerdude': 55.54545454545455, 'dcook11': 58.13333333333333, 'Keffa': 47.44444444444444, 'wrycon': 53.55555555555556, 'Cylinsier': 48.0, 'TMoney2591': 55.11224489795919, 'elNopalero': 50.09375, 'Morey': 58.875, 'optimator13': 75.10344827586206, 'Reagan1984': 42.88461538461539, 'cavedave': 30.266666666666666, 'tempest': 46.95, 'HardTarget': 44.869565217391305, 'SickGnar': 38.23076923076923, 'treque': 33.125, 'knepper': 79.5, 'doucmehu': 80.0, 'gopens44': 59.23076923076923, 'timmos1': 117.0, 'vande': 68.97435897435898, 'Pegasus': 54.44444444444444, 'doopiedoopiedoo': 62.857142857142854, 'Sunnanek': 38.69230769230769, 'dorianmarley': 47.40909090909091, 'Cellach': 45.81818181818182, 'yamar68': 44.41935483870968, 'DocDownUnder': 10.0, 'TheSarge': 59.07692307692308, 'Kyrgyzbrewer': 24.5, 'biegaman': 55.0, 'Kartoffeln': 30.0, 'tykees88': 49.04761904761905, 'XicanoBeerRun': 75.66666666666667, 'SebD': 45.0, 'Ratman197': 53.93023255813954, '57md': 62.9625, 'libbey': 40.916666666666664, 'mrandypandy': 62.23255813953488, 'mwilbur': 49.63157894736842, 'peensteen': 41.611111111111114, 'Rickythejeweler': 64.0625, 'TheFlern': 69.11111111111111, 'HosP': 23.5, 'DrinkSlurm': 45.935483870967744, 'fdw3': 50.2, 'Filosoof': 55.6, 'cosmicevan': 57.27777777777778, 'welldigger888': 47.27272727272727, 'cooler4life': 35.03225806451613, 'trevorjn06': 0.0, 'gbbass16': 57.5, 'Mar02x': 44.793103448275865, 'NeroFiddled': 46.77777777777778, 'PhillyStyle': 83.33333333333333, 'Phyl21ca': 53.92307692307692, 'redleaves': 0.0, 'Koufax21': 73.9, 'tlazaroff': 53.81481481481482, 'brotherloco': 55.61538461538461, 'frenchblood21': 63.45652173913044, 'icecube': 27.5, 'alpinebryant': 58.84615384615385, 'DrewCapzz': 65.15789473684211, 'claspada': 54.8936170212766, 'JohnPPutz': 54.55555555555556, 'LaneMeyer': 53.526315789473685, 'drabmuh': 49.939655172413794, 'bark': 0.0, 'PicoPapa': 63.791666666666664, 'rwrk42': 53.13333333333333, 'MelissaJ': 27.916666666666668, 'peacebone116': 77.41818181818182, 'Daredevil': 0.0, 'mattbk': 52.51724137931034, 'kevinv': 55.357142857142854, 'JerseyKirk': 65.81818181818181, 'JerzDevl2000': 61.333333333333336, 'anakar': 19.0, 'NuclearDolphin': 37.625, 'Greywulfken': 45.333333333333336, 'ales4baldo': 47.041666666666664, 'RuckusDu': 39.96551724137931, 'Barfwin': 55.36363636363637, 'rab53': 48.714285714285715, 'ehammond1': 50.32142857142857, 'david131': 69.03448275862068, 'BrewerB': 38.07142857142857, 'afdempse': 34.148148148148145, 'StringSmoke': 54.72727272727273, 'teromous': 53.149253731343286, 'Ohiovania': 41.833333333333336, 'MrDanno96': 31.2, 'Shumj': 73.0, 'corby112': 55.96551724137931, 'Luigi': 53.25, 'vicsju1991': 44.45454545454545, 'TheCorkStopsHere': 56.00806451612903, 'MTNboy': 19.0, 'nickfl': 70.03448275862068, 'StoneBrewFanatic': 66.68702290076335, 'avalon07': 56.875, 'RoamingGnome': 45.0, 'njstoutguy': 40.31818181818182, 'sweemzander': 53.97872340425532, '7UCK': 49.23076923076923, 'timtim': 61.333333333333336, 'CornedBeef': 57.05263157894737, 'marlinsfan4': 62.173228346456696, 'flannelman808': 35.75, 'Goblinmunkey7': 61.40229885057471, 'KevinBrewer': 45.27272727272727, 'salvo': 75.52631578947368, 'HairyHopopotamus': 40.3, 'tfsimpkins': 33.45454545454545, 'BierStein711': 52.55555555555556, 'EmperorBevis': 49.77272727272727, 'GNWBC': 45.0, 'RyanC3958': 46.578947368421055, 'lordofthewiens': 47.911764705882355, 'jrenihan': 48.69230769230769, 'smakawhat': 49.42156862745098, 'Cuttooth': 46.3, 'Boonedoggle': 77.5, 'jayhawk73': 51.95238095238095, 'babaracas': 56.42857142857143, 'DesMoinesMike': 58.31818181818182, 'bluejacket74': 38.04761904761905, 'beerme343': 11.0, 'HeavyMetalBrew': 60.333333333333336, 'jmdrpi': 42.35294117647059, 'Monkeyknife': 46.75, 'ThickNStout': 46.21052631578947, 'maximum12': 42.09090909090909, 'RodneyX': 30.77777777777778, 'rogueleonardi': 45.96153846153846, 'brentk56': 45.51851851851852, 'pigc': 54.24, 'DaveBlack': 56.888888888888886, 'giblet': 56.94117647058823, 'WoodBrew': 46.696969696969695, 'budgood1': 47.45454545454545, 'ToasterChef': 58.2, 'mithrascruor': 54.6, 'AleWatcher': 57.925925925925924, 'smcolw': 44.03125, 'TheDinger': 38.6, 'Murrhey': 51.411764705882355, 'jstnlowe': 58.0, 'JTSbeerislife': 66.49333333333334, 'bcpriess': 0.0, 'JizackFH': 53.8625, 'Hoptometrist': 29.40909090909091, 'Jerone': 124.0, 'Chico1985': 38.2, 'SunDevilBeer': 0.0, 'whatthehull': 48.12820512820513, 'Gosox8787': 45.8, 'LadyOfMuchBeer': 43.78947368421053, 'tsauce2': 54.496350364963504, 'GRPunk': 56.25, 'AdamJackson': 56.62608695652174, 'ONUMello': 43.63636363636363, 'sulldaddy': 54.1764705882353, 'ABVerageJoe': 46.76923076923077, 'velosuds': 33.0, 'vancurly': 49.0, 'deebo': 59.392857142857146, 'deltatauhobbit': 39.91304347826087, 'Cresant': 42.84848484848485, 'RedSpecial1': 50.111111111111114, 'akinsja': 65.28888888888889, 'raffy313': 64.92727272727272, 'plfahey': 76.91666666666667, 'StJamesGate': 47.60176991150443, 'Kendo': 52.301886792452834, 'stakem': 49.724137931034484, 'CasanovaCummins': 52.951219512195124, 'mralphabet': 186.0, 'dcloeren': 53.5, 'mulder1010': 30.142857142857142, 'xraided81': 36.72727272727273, 'Kinsman': 44.61538461538461, 'CFHMagnet': 39.1875, 'kscaldef': 70.9, 'nitro0292': 44.0, 'Mebuzzard': 42.32, 'TheSevenDuffs': 48.06521739130435, 'GardenWaters': 21.333333333333332, 'Chadpaq': 60.26865671641791, 'marvin213': 61.8, 'kangarooAdam59': 51.375, 'brewcrew76': 45.588235294117645, 'bfields4': 102.0, 'gkatsoris': 36.666666666666664, 'Shadowzz4': 54.57142857142857, 'steveh': 54.22727272727273, 'sholland119': 38.333333333333336, 'akronzipfan': 55.166666666666664, 'Portertime': 60.84615384615385, 'RedneckBeerz': 45.72727272727273, 'johnnnniee': 46.91304347826087, 'OleJohnnieAle': 20.75, 'denver10': 45.88235294117647, 'Gmann': 25.0, 'kylehay2004': 63.82954545454545, 'stewart124': 54.529411764705884, 'phishsihq': 40.758620689655174, 'magine': 59.5, 'SpdKilz': 62.43396226415094, 'rawla': 49.7037037037037, 'bens0n': 52.163636363636364, 'BeerLover99': 56.39622641509434, 'BelgiumBill': 49.09090909090909, 'Kromes': 52.0, 'output01x': 59.0, 'sjverla': 70.56451612903226, 'vandemonian': 53.48076923076923, 'SkeeterHawk': 46.01923076923077, 'OTB': 59.142857142857146, 'UTCengOwl': 69.26984126984127, 'spinrsx': 41.16, 'Jawn': 59.96666666666667, 'ChadQuest': 90.42857142857143, 'BrewnoMarzen': 50.5945945945946, 'Squelch': 63.25, 'VncentLIFE': 51.92857142857143, 'ScorpyX': 34.25, 'fvernon': 70.15384615384616, 'dirtylou': 36.09090909090909, 'Bung': 61.574074074074076, 'LebronJeremy': 57.07692307692308, 'mdfb79': 47.913978494623656, 'stephenjmoore': 60.827586206896555, 'papat444': 53.473684210526315, 'WrathsU': 31.142857142857142, 'BilbosNuts': 42.9, 'TurdFurgison': 33.44444444444444, 'engagechad': 51.28947368421053, 'Proteus93': 31.444444444444443, 'thekevlarkid': 35.2, 'troysoy2': 54.705882352941174, 'StonedTrippin': 39.29545454545455, 'msubulldog25': 47.61538461538461, 'jsanford': 56.7906976744186, 'russwbeck': 65.0, 'haazer': 53.5, 'brystmar': 49.42857142857143, 'jdnovato': 9.0, 'bishopdc0': 56.421052631578945, 'UCLABrewN84': 58.666666666666664, 'cbutova': 39.20454545454545, 'CliffBrake': 49.875, 'seedsofchaos': 60.361702127659576, 'mentor': 0.0, 'beerpirates': 35.8125, 'MADhombrewer': 65.10714285714286, 'TheWhiskerReview': 57.0, 'djbreezy': 56.107142857142854, 'timtwoface': 74.0, 'TangTKE402': 44.4, 'ASUBeer': 57.0, 'Fuzzy1': 48.666666666666664, 'One2Remeber': 63.6, 'tobelerone': 48.495327102803735, 'Takahiro': 49.0, 'Naugros': 56.69767441860465, 'b3shine': 57.3, 'PDXHops': 66.0, 'tbern007': 45.9375, 'neilgavigan': 46.0, 'mdagnew': 40.0, 'NStLincoln': 57.333333333333336, 'adrock7309': 33.333333333333336, 'rodney45': 59.111111111111114, 'ElGordo': 63.395604395604394, 'DovaliHops': 64.94047619047619, 'mltobin': 55.666666666666664, 'megahurts4': 46.43103448275862, 'OneDropSoup': 65.57894736842105, 'kbutler1': 69.89855072463769, 'scarfield': 41.333333333333336, 'flipper2gv': 51.0, 'dexterk1': 34.166666666666664, 'DarthKostrizer': 69.46268656716418, 'TheBrewo': 88.5, 'coalandsilver': 12.5, 'rfgetz': 69.53731343283582, 'ggilman': 55.166666666666664, 'tzieser': 55.15384615384615, 'July2Nov': 0.0, 'industrialswill': 52.1875, 'jar2574': 34.625, 'zeledonia': 41.1875, 'soulgrowl': 34.0, 'eduardolinhalis': 31.90909090909091, 'PintOHops': 46.1764705882353, 'Bierguy5': 55.625, 'ThePorterSorter': 64.88235294117646, 'armock': 43.0, 'angusdegraosta': 26.0, 'Seanont': 128.5, 'Sharkophile': 43.01149425287356, 'liamt07': 41.13392857142857, 'zakyj': 37.5, 'Jwale73': 60.2, 'DrewZ926': 53.07142857142857, 'bigaltemple': 35.888888888888886, 'VaterRoss': 57.405797101449274, 'mindspin315': 90.0, 'WMEugene': 51.01587301587302, 'thekanna': 26.666666666666668, 'BeerisfoodLLC': 56.041666666666664, 'superspak': 41.8421052631579, 'GossageBrewery': 41.2, 'MasterSki': 53.93069306930693, 'biboergosum': 51.0, 'sjccmd': 38.142857142857146, 'Lemke10': 57.25806451612903, 'donkeyrunner': 49.976190476190474, 'CLBizzle': 48.76190476190476, 'CharlieMurphy': 22.8, 'joemcgrath27': 57.5, 'Pahn': 44.95454545454545, 'mduncan': 75.16326530612245}\n",
      "Average degree connectivity: {7: 46.0, 30: 52.47037037037037, 10: 46.14594594594595, 4: 44.022222222222226, 11: 46.170686456400745, 43: 56.1788908765653, 1: 54.26190476190476, 19: 49.64661654135338, 3: 46.23931623931624, 28: 50.23626373626374, 27: 50.41269841269841, 39: 57.41025641025641, 6: 48.46747967479675, 14: 48.951298701298704, 37: 54.62577962577963, 5: 48.00625, 2: 45.708333333333336, 13: 50.57451923076923, 38: 57.169172932330824, 141: 47.0, 23: 47.48136645962733, 71: 54.222535211267605, 52: 55.55769230769231, 32: 53.21484375, 18: 48.824444444444445, 15: 50.629629629629626, 44: 49.56363636363636, 45: 54.216161616161614, 78: 63.15384615384615, 46: 58.976284584980235, 48: 55.166666666666664, 75: 57.624, 25: 52.12380952380953, 61: 52.122950819672134, 24: 50.078947368421055, 16: 46.48863636363637, 34: 52.369485294117645, 22: 50.07954545454545, 35: 52.535714285714285, 60: 68.71904761904761, 100: 54.1, 131: 59.11450381679389, 8: 46.708333333333336, 51: 54.364145658263304, 63: 51.9347442680776, 33: 50.8, 9: 45.666666666666664, 31: 51.06744868035191, 21: 48.627450980392155, 62: 54.04032258064516, 17: 48.705882352941174, 20: 48.8375, 86: 65.81395348837209, 73: 55.013698630136986, 0: 0, 59: 53.451977401129945, 95: 66.25263157894737, 105: 49.25714285714286, 65: 49.66923076923077, 68: 48.294117647058826, 54: 58.569135802469134, 36: 52.53373015873016, 12: 48.625, 70: 55.392857142857146, 49: 61.647230320699705, 29: 49.994827586206895, 88: 62.01893939393939, 53: 56.490566037735846, 77: 55.17402597402597, 80: 57.409375, 81: 59.925925925925924, 64: 49.4875, 56: 54.35357142857143, 55: 60.96694214876033, 94: 60.24202127659574, 116: 46.672413793103445, 26: 49.87651821862348, 40: 58.575, 82: 57.38414634146341, 90: 54.75555555555555, 83: 54.25903614457831, 72: 56.63425925925926, 69: 58.23768115942029, 42: 56.96904761904762, 47: 57.369680851063826, 66: 67.65151515151516, 124: 53.247983870967744, 89: 45.20224719101124, 67: 60.23134328358209, 103: 52.18446601941748, 85: 51.03823529411765, 96: 58.661458333333336, 79: 55.38396624472574, 58: 60.467241379310344, 87: 57.0183908045977, 102: 51.5, 57: 55.72631578947368, 91: 56.620879120879124, 50: 56.316, 93: 56.79032258064516, 41: 60.298780487804876, 74: 58.567567567567565, 84: 57.782738095238095, 129: 60.21705426356589, 104: 52.41346153846154, 186: 46.623655913978496, 117: 59.376068376068375, 149: 52.23489932885906, 125: 56.0, 97: 60.55154639175258, 111: 48.747747747747745, 92: 51.44565217391305, 120: 57.175, 101: 58.84653465346535, 98: 55.11224489795919, 127: 62.173228346456696, 126: 51.95238095238095, 137: 54.496350364963504, 115: 56.62608695652174, 113: 47.60176991150443, 107: 48.495327102803735, 112: 41.13392857142857}\n"
     ]
    }
   ],
   "source": [
    "# Average degree connectivity. _Compute the average degree connectivity of graph_\n",
    "print(nx.average_neighbor_degree(user_projection))\n",
    "print(f\"Average degree connectivity: {nx.average_degree_connectivity(user_projection)}\")"
   ]
  },
  {
   "cell_type": "markdown",
   "metadata": {},
   "source": [
    "#### 8.2 - Neighborhood Similarity, Structural Equivalence (Users)"
   ]
  },
  {
   "attachments": {
    "image.png": {
     "image/png": "[encoded data removed]"
    }
   },
   "cell_type": "markdown",
   "metadata": {},
   "source": [
    "_\"We look at the neighborhood shared by two nodes: the size of the neighborhood defines how similar two nodes are.\"_\n",
    "\n",
    "![image.png](attachment:image.png)"
   ]
  },
  {
   "cell_type": "code",
   "execution_count": 95,
   "metadata": {},
   "outputs": [
    {
     "data": {
      "text/plain": [
       "{'Knapp85': 186,\n",
       " 'gtermi': 149,\n",
       " 'kojevergas': 141,\n",
       " 'tsauce2': 137,\n",
       " 'jmarsh123': 131}"
      ]
     },
     "execution_count": 95,
     "metadata": {},
     "output_type": "execute_result"
    }
   ],
   "source": [
    "high_degree = dict(user_projection.degree())\n",
    "high_degree = sorted(high_degree.items(), key=lambda x: x[1], reverse=True)[:5]\n",
    "high_degree = dict(high_degree)\n",
    "high_degree"
   ]
  },
  {
   "cell_type": "code",
   "execution_count": 96,
   "metadata": {},
   "outputs": [
    {
     "name": "stdout",
     "output_type": "stream",
     "text": [
      "Jaccard similarity between Knapp85 and gtermi: 0.1\n",
      "Jaccard similarity between Knapp85 and kojevergas: 0.09\n",
      "Jaccard similarity between Knapp85 and tsauce2: 0.06\n",
      "Jaccard similarity between Knapp85 and jmarsh123: 0.08\n",
      "Jaccard similarity between gtermi and kojevergas: 0.09\n",
      "Jaccard similarity between gtermi and tsauce2: 0.14\n",
      "Jaccard similarity between gtermi and jmarsh123: 0.07\n",
      "Jaccard similarity between kojevergas and tsauce2: 0.07\n",
      "Jaccard similarity between kojevergas and jmarsh123: 0.05\n",
      "Jaccard similarity between tsauce2 and jmarsh123: 0.08\n"
     ]
    }
   ],
   "source": [
    "# Compute Jaccard similarity for pairs of high-degree nodes\n",
    "jaccard_similarities = jaccard_coefficient(user_projection, itertools.combinations(high_degree, 2))\n",
    "\n",
    "# Print Jaccard similarities\n",
    "for u, v, jaccard in jaccard_similarities:\n",
    "    print(f\"Jaccard similarity between {u} and {v}: {round(jaccard, 2)}\")"
   ]
  },
  {
   "cell_type": "markdown",
   "metadata": {},
   "source": [
    "#### 8.3 - Attributes Similarity, Assortativity\n",
    "\n",
    "https://arxiv.org/pdf/cond-mat/0209450.pdf \n",
    "\n",
    "The function below computes equation 21 in the mentioned paper. The computed coefficient is called $r$, where $r \\in [-1,1]$:\n",
    "- $r=1$ indicates perfect assortativity\n",
    "- $r=-1$ indicates perfect dis-assortativity\n",
    "\n",
    "\n",
    "_\"Positive values of r indicate a correlation between nodes of similar degree, while negative values indicate relationships between nodes of different degree.\"_"
   ]
  },
  {
   "cell_type": "markdown",
   "metadata": {},
   "source": [
    "_\"The assortativity coefficient **$r$** measures the correlation between the degrees of connected nodes in a network. When the coefficient is positive, it indicates a tendency for nodes of similar degree to be connected, while negative values suggest that nodes of different degrees are more likely to be connected.\"_"
   ]
  },
  {
   "cell_type": "markdown",
   "metadata": {},
   "source": [
    "_\"To calculate the assortativity coefficient, NetworkX considers all pairs of connected nodes in the network and compares their degrees. It computes the expected joint degree distribution $q_{i}q_{j}$ based on the degrees of the nodes and compares it to the observed joint degree distribution $e_{ij}$. The coefficient $r$ is then calculated based on these comparisons, providing a measure of how the actual connections in the network deviate from what would be expected if nodes were connected randomly.\"_"
   ]
  },
  {
   "cell_type": "code",
   "execution_count": 97,
   "metadata": {},
   "outputs": [
    {
     "name": "stdout",
     "output_type": "stream",
     "text": [
      "0.060453799433484286\n"
     ]
    }
   ],
   "source": [
    "print(nx.degree_assortativity_coefficient(user_projection))\n",
    "# print(nx.degree_assortativity_coefficient(beer_projection))"
   ]
  },
  {
   "cell_type": "markdown",
   "metadata": {},
   "source": [
    "#### 8.4 - Modularity for the user graph"
   ]
  },
  {
   "cell_type": "markdown",
   "metadata": {},
   "source": [
    "Modularity is computed as:\n",
    "$Q = \\frac{1}{2m} \\sum_{ij} \\left( A_{ij} - \\gamma\\frac{k_ik_j}{2m}\\right)\n",
    "    \\delta(c_i,c_j)$\n",
    "\n",
    "where $\\delta(c_i,c_j)$ = 1 if $i$ and $j$ are in the same community, 0 otherwise."
   ]
  },
  {
   "cell_type": "markdown",
   "metadata": {},
   "source": [
    "_\"Positive modularity values indicate that the network has a structure where the connections within communities are denser than expected by random chance, while connections between communities are sparser.\"_"
   ]
  },
  {
   "cell_type": "markdown",
   "metadata": {},
   "source": [
    "Modularity for the usual user graph:"
   ]
  },
  {
   "cell_type": "code",
   "execution_count": 98,
   "metadata": {},
   "outputs": [
    {
     "name": "stdout",
     "output_type": "stream",
     "text": [
      "Modularity: 0.38\n"
     ]
    }
   ],
   "source": [
    "Q = modularity(user_projection, nx.community.louvain_communities(user_projection))\n",
    "print(\"Modularity:\", round(Q, 2))"
   ]
  },
  {
   "cell_type": "markdown",
   "metadata": {},
   "source": [
    "#### 8.5 - Homophily: Difference in modularity between 2012 and 2011"
   ]
  },
  {
   "cell_type": "markdown",
   "metadata": {},
   "source": [
    "We may be interested in computing the \"current\" modularity with the analog measure one period before. Since I've been considering year 2012, let's test it on 2011."
   ]
  },
  {
   "cell_type": "code",
   "execution_count": 99,
   "metadata": {},
   "outputs": [
    {
     "data": {
      "text/plain": [
       "(322556, 13)"
      ]
     },
     "execution_count": 99,
     "metadata": {},
     "output_type": "execute_result"
    }
   ],
   "source": [
    "sub_beer_df = beer_df[beer_df['review_time'].dt.year == 2011].copy()\n",
    "sub_beer_df.shape"
   ]
  },
  {
   "cell_type": "code",
   "execution_count": 100,
   "metadata": {},
   "outputs": [],
   "source": [
    "users_reviews_count = sub_beer_df['review_profilename'].value_counts()\n",
    "kept_profiles_only = users_reviews_count[users_reviews_count>1].index"
   ]
  },
  {
   "cell_type": "code",
   "execution_count": 101,
   "metadata": {},
   "outputs": [
    {
     "data": {
      "text/plain": [
       "brewery_id              3501\n",
       "brewery_name            3468\n",
       "review_time           316424\n",
       "review_overall             9\n",
       "review_aroma               9\n",
       "review_appearance          9\n",
       "review_profilename      8112\n",
       "beer_style               104\n",
       "review_palate              9\n",
       "review_taste               9\n",
       "beer_name              23107\n",
       "beer_abv                 424\n",
       "beer_id                24689\n",
       "dtype: int64"
      ]
     },
     "execution_count": 101,
     "metadata": {},
     "output_type": "execute_result"
    }
   ],
   "source": [
    "sub_beer_df = sub_beer_df[sub_beer_df['review_profilename'].isin(kept_profiles_only)].copy()\n",
    "sub_beer_df.nunique()"
   ]
  },
  {
   "cell_type": "code",
   "execution_count": 102,
   "metadata": {},
   "outputs": [],
   "source": [
    "G_2011 = nx.Graph()\n",
    "\n",
    "# Add nodes and edges to the graph\n",
    "for _, row in sub_beer_df.iterrows():\n",
    "    G_2011.add_node(row['review_profilename'], bipartite='user')\n",
    "    G_2011.add_node(row['beer_name'], bipartite='beer')\n",
    "    G_2011.add_edge(row['review_profilename'], row['beer_name'])"
   ]
  },
  {
   "cell_type": "code",
   "execution_count": 103,
   "metadata": {},
   "outputs": [],
   "source": [
    "user_nodes_2011 = {n for n, d in G_2011.nodes(data=True) if d['bipartite'] == 'user'}\n",
    "beer_nodes_2011 = set(G_2011) - user_nodes_2011\n",
    "\n",
    "user_projection_2011 = nx.Graph()\n",
    "user_projection_2011 = nx.bipartite.projected_graph(G_2011, user_nodes_2011)"
   ]
  },
  {
   "cell_type": "markdown",
   "metadata": {},
   "source": [
    "Now that the graph of the previous year has been retrieved, apply the same Modularity measure"
   ]
  },
  {
   "cell_type": "code",
   "execution_count": 104,
   "metadata": {},
   "outputs": [
    {
     "name": "stdout",
     "output_type": "stream",
     "text": [
      "Modularity: 0.1\n"
     ]
    }
   ],
   "source": [
    "Q_2011 = modularity(user_projection_2011, nx.community.louvain_communities(user_projection_2011))\n",
    "print(\"Modularity:\", round(Q_2011, 2))"
   ]
  },
  {
   "cell_type": "markdown",
   "metadata": {},
   "source": [
    "See the difference:"
   ]
  },
  {
   "cell_type": "code",
   "execution_count": 105,
   "metadata": {},
   "outputs": [
    {
     "name": "stdout",
     "output_type": "stream",
     "text": [
      "Modularity change: 0.28\n"
     ]
    }
   ],
   "source": [
    "print(f\"Modularity change: {round(Q - Q_2011, 2)}\")"
   ]
  },
  {
   "cell_type": "markdown",
   "metadata": {},
   "source": [
    "#### 8.6 - Homophily (nominal and ordinal) (TBD)"
   ]
  },
  {
   "cell_type": "markdown",
   "metadata": {},
   "source": [
    "#### 8.7 - Try to compute "
   ]
  },
  {
   "cell_type": "markdown",
   "metadata": {},
   "source": [
    "# 9 - Community Detection"
   ]
  },
  {
   "cell_type": "markdown",
   "metadata": {},
   "source": [
    "#### 9.1 - Louvain Algorithm "
   ]
  },
  {
   "cell_type": "markdown",
   "metadata": {},
   "source": [
    "_partition = dictionary where the keys are the nodes in your network and the values are the community assignments for each node. Each node is assigned to a community._"
   ]
  },
  {
   "cell_type": "code",
   "execution_count": 224,
   "metadata": {},
   "outputs": [
    {
     "data": {
      "image/png": "[encoded data removed]",
      "text/plain": [
       "<Figure size 640x480 with 1 Axes>"
      ]
     },
     "metadata": {},
     "output_type": "display_data"
    }
   ],
   "source": [
    "partition = louvain.best_partition(user_projection)\n",
    "\n",
    "pos = nx.spring_layout(user_projection)\n",
    "\n",
    "nx.draw(user_projection, pos, node_color=list(partition.values()), cmap='viridis', with_labels=True)\n",
    "plt.show()"
   ]
  },
  {
   "cell_type": "code",
   "execution_count": 226,
   "metadata": {},
   "outputs": [
    {
     "name": "stdout",
     "output_type": "stream",
     "text": [
      "Number of communities detected: 42\n",
      "Community 1: 183 nodes\n",
      "Community 5: 142 nodes\n",
      "Community 4: 118 nodes\n",
      "Community 3: 106 nodes\n",
      "Community 6: 103 nodes\n",
      "Community 8: 103 nodes\n",
      "Community 11: 101 nodes\n",
      "Community 14: 96 nodes\n",
      "Community 12: 96 nodes\n",
      "Community 10: 81 nodes\n",
      "Community 7: 68 nodes\n",
      "Community 13: 66 nodes\n",
      "Community 15: 42 nodes\n",
      "Community 9: 33 nodes\n",
      "Community 16: 1 nodes\n",
      "Community 17: 1 nodes\n",
      "Community 18: 1 nodes\n",
      "Community 19: 1 nodes\n",
      "Community 20: 1 nodes\n",
      "Community 21: 1 nodes\n"
     ]
    }
   ],
   "source": [
    "# Analyze community structure\n",
    "communities = {}\n",
    "for node, community_id in partition.items():\n",
    "    if community_id not in communities:\n",
    "        communities[community_id] = [node]\n",
    "    else:\n",
    "        communities[community_id].append(node)\n",
    "\n",
    "sorted_communities = sorted(communities.items(), key=lambda x:len(x[1]), reverse=True)\n",
    "\n",
    "print(\"Number of communities detected:\", len(sorted_communities))\n",
    "for community_id, nodes in sorted_communities[:20]:\n",
    "    print(f\"Community {community_id}: {len(nodes)} nodes\")"
   ]
  },
  {
   "cell_type": "code",
   "execution_count": 227,
   "metadata": {},
   "outputs": [
    {
     "data": {
      "image/png": "[encoded data removed]",
      "text/plain": [
       "<Figure size 600x300 with 1 Axes>"
      ]
     },
     "metadata": {},
     "output_type": "display_data"
    }
   ],
   "source": [
    "# Count the number of nodes in each community\n",
    "nodes_per_community = [len(nodes) for _, nodes in communities.items()]\n",
    "\n",
    "# Count the number of communities with a specific number of nodes\n",
    "community_counts = {}\n",
    "for value in nodes_per_community:\n",
    "    if value not in community_counts:\n",
    "        community_counts[value] = 1\n",
    "    else:\n",
    "        community_counts[value] += 1\n",
    "\n",
    "# Create lists for x and y axes\n",
    "x_values = list(community_counts.keys())\n",
    "y_values = list(community_counts.values())\n",
    "\n",
    "# Plot the data\n",
    "plt.figure(figsize=(6, 3))\n",
    "plt.bar(x_values, y_values, width=3, color='skyblue')\n",
    "plt.xlabel('Number of Nodes per Community')\n",
    "plt.ylabel('Number of Communities')\n",
    "plt.title('Distribution of Community Sizes')\n",
    "plt.show()"
   ]
  },
  {
   "cell_type": "markdown",
   "metadata": {},
   "source": [
    "#### 9.2 - What is the most common beer style in the biggest community? And the most appreciated brewery among the users in that community?"
   ]
  },
  {
   "cell_type": "code",
   "execution_count": 228,
   "metadata": {},
   "outputs": [],
   "source": [
    "community1= sorted_communities[0][1]\n",
    "community_1 = sub_beer_df[sub_beer_df['review_profilename'].isin(community1)].copy()"
   ]
  },
  {
   "cell_type": "code",
   "execution_count": 229,
   "metadata": {},
   "outputs": [
    {
     "data": {
      "text/plain": [
       "American IPA                        0.08\n",
       "American Double / Imperial IPA      0.07\n",
       "American Double / Imperial Stout    0.05\n",
       "Russian Imperial Stout              0.04\n",
       "American Pale Ale (APA)             0.04\n",
       "Name: beer_style, dtype: float64"
      ]
     },
     "execution_count": 229,
     "metadata": {},
     "output_type": "execute_result"
    }
   ],
   "source": [
    "round((community_1['beer_style'].value_counts(normalize=True)[:5]), 2)"
   ]
  },
  {
   "cell_type": "code",
   "execution_count": 230,
   "metadata": {},
   "outputs": [
    {
     "data": {
      "text/plain": [
       "Dogfish Head Brewery                  0.021258\n",
       "Stone Brewing Co.                     0.021103\n",
       "Boston Beer Company (Samuel Adams)    0.021026\n",
       "Sierra Nevada Brewing Co.             0.018155\n",
       "Founders Brewing Company              0.015789\n",
       "Name: brewery_name, dtype: float64"
      ]
     },
     "execution_count": 230,
     "metadata": {},
     "output_type": "execute_result"
    }
   ],
   "source": [
    "(community_1['brewery_name'].value_counts(normalize=True)[:5])"
   ]
  },
  {
   "cell_type": "markdown",
   "metadata": {},
   "source": [
    "#### 9.3 - What is the most common beer style in the second biggest community?"
   ]
  },
  {
   "cell_type": "code",
   "execution_count": 231,
   "metadata": {},
   "outputs": [],
   "source": [
    "community2= sorted_communities[1][1]\n",
    "community_2 = sub_beer_df[sub_beer_df['review_profilename'].isin(community2)].copy()"
   ]
  },
  {
   "cell_type": "code",
   "execution_count": 232,
   "metadata": {},
   "outputs": [
    {
     "data": {
      "text/plain": [
       "American IPA                        0.07\n",
       "American Double / Imperial IPA      0.06\n",
       "American Double / Imperial Stout    0.05\n",
       "Russian Imperial Stout              0.04\n",
       "American Pale Ale (APA)             0.03\n",
       "Name: beer_style, dtype: float64"
      ]
     },
     "execution_count": 232,
     "metadata": {},
     "output_type": "execute_result"
    }
   ],
   "source": [
    "round((community_2['beer_style'].value_counts(normalize=True)[:5]), 2)"
   ]
  },
  {
   "cell_type": "code",
   "execution_count": 233,
   "metadata": {},
   "outputs": [
    {
     "data": {
      "text/plain": [
       "Boston Beer Company (Samuel Adams)    0.026931\n",
       "Sierra Nevada Brewing Co.             0.019151\n",
       "Stone Brewing Co.                     0.018934\n",
       "Dogfish Head Brewery                  0.018716\n",
       "Bell's Brewery, Inc.                  0.016540\n",
       "Name: brewery_name, dtype: float64"
      ]
     },
     "execution_count": 233,
     "metadata": {},
     "output_type": "execute_result"
    }
   ],
   "source": [
    "(community_2['brewery_name'].value_counts(normalize=True)[:5])"
   ]
  },
  {
   "cell_type": "markdown",
   "metadata": {},
   "source": [
    "#### 9.4 - What is the most common beer style in a smaller community?"
   ]
  },
  {
   "cell_type": "code",
   "execution_count": 234,
   "metadata": {},
   "outputs": [],
   "source": [
    "community13= sorted_communities[13][1]\n",
    "community_13 = sub_beer_df[sub_beer_df['review_profilename'].isin(community13)].copy()"
   ]
  },
  {
   "cell_type": "code",
   "execution_count": 235,
   "metadata": {},
   "outputs": [
    {
     "data": {
      "text/plain": [
       "American IPA                        0.09\n",
       "American Double / Imperial IPA      0.07\n",
       "American Pale Ale (APA)             0.06\n",
       "American Double / Imperial Stout    0.04\n",
       "American Porter                     0.04\n",
       "Name: beer_style, dtype: float64"
      ]
     },
     "execution_count": 235,
     "metadata": {},
     "output_type": "execute_result"
    }
   ],
   "source": [
    "round((community_13['beer_style'].value_counts(normalize=True)[:5]), 2)"
   ]
  },
  {
   "cell_type": "code",
   "execution_count": 237,
   "metadata": {},
   "outputs": [
    {
     "data": {
      "text/plain": [
       "Sierra Nevada Brewing Co.             0.022126\n",
       "Boston Beer Company (Samuel Adams)    0.019856\n",
       "Mikkeller ApS                         0.018911\n",
       "Stone Brewing Co.                     0.015885\n",
       "Victory Brewing Company               0.015696\n",
       "Name: brewery_name, dtype: float64"
      ]
     },
     "execution_count": 237,
     "metadata": {},
     "output_type": "execute_result"
    }
   ],
   "source": [
    "community_13['brewery_name'].value_counts(normalize=True)[:5]"
   ]
  },
  {
   "cell_type": "markdown",
   "metadata": {},
   "source": [
    "# X - **Separator**"
   ]
  },
  {
   "cell_type": "markdown",
   "metadata": {},
   "source": [
    "### **Option B - keep a certain number only**"
   ]
  },
  {
   "cell_type": "markdown",
   "metadata": {},
   "source": [
    "Start from keeping 1% of the observations only. It's a huge downsampling, may re-evaluate this."
   ]
  },
  {
   "cell_type": "code",
   "execution_count": null,
   "metadata": {},
   "outputs": [
    {
     "data": {
      "text/plain": [
       "brewery_id             516\n",
       "brewery_name           516\n",
       "review_time           1500\n",
       "review_overall           9\n",
       "review_aroma             9\n",
       "review_appearance        9\n",
       "review_profilename    1160\n",
       "beer_style              99\n",
       "review_palate            9\n",
       "review_taste             9\n",
       "beer_name             1187\n",
       "beer_abv               144\n",
       "beer_id               1198\n",
       "dtype: int64"
      ]
     },
     "metadata": {},
     "output_type": "display_data"
    }
   ],
   "source": [
    "sub_beer_df = beer_df.sample(n=1500, replace=False, random_state=40)\n",
    "sub_beer_df.nunique()"
   ]
  },
  {
   "cell_type": "code",
   "execution_count": null,
   "metadata": {},
   "outputs": [
    {
     "data": {
      "text/plain": [
       "(1500, 13)"
      ]
     },
     "metadata": {},
     "output_type": "display_data"
    }
   ],
   "source": [
    "sub_beer_df.shape"
   ]
  },
  {
   "cell_type": "markdown",
   "metadata": {},
   "source": [
    "### **Option C - Stratified Sampling**"
   ]
  },
  {
   "cell_type": "code",
   "execution_count": null,
   "metadata": {},
   "outputs": [
    {
     "name": "stdout",
     "output_type": "stream",
     "text": [
      "(20264, 13)\n"
     ]
    }
   ],
   "source": [
    "# Calculate the number of reviews per user and per beer\n",
    "user_review_counts = beer_df['review_profilename'].value_counts()\n",
    "beer_review_counts = beer_df['beer_name'].value_counts()\n",
    "\n",
    "# Define a threshold for the minimum number of reviews (adjust as needed)\n",
    "user_threshold = 1200\n",
    "beer_threshold = 1200\n",
    "\n",
    "# Identify users and beers that meet the threshold\n",
    "selected_users = user_review_counts[user_review_counts >= user_threshold].index\n",
    "selected_beers = beer_review_counts[beer_review_counts >= beer_threshold].index\n",
    "\n",
    "# Subset the data based on selected users and beers\n",
    "sub_beer_df = beer_df[(beer_df['review_profilename'].isin(selected_users)) & (beer_df['beer_name'].isin(selected_beers))]\n",
    "\n",
    "# Check the size of the filtered dataframe\n",
    "print(sub_beer_df.shape)"
   ]
  },
  {
   "cell_type": "code",
   "execution_count": null,
   "metadata": {},
   "outputs": [
    {
     "data": {
      "text/plain": [
       "brewery_id              341\n",
       "brewery_name            337\n",
       "review_time           20262\n",
       "review_overall            9\n",
       "review_aroma              9\n",
       "review_appearance         9\n",
       "review_profilename      156\n",
       "beer_style               58\n",
       "review_palate             9\n",
       "review_taste              9\n",
       "beer_name               143\n",
       "beer_abv                 84\n",
       "beer_id                 505\n",
       "dtype: int64"
      ]
     },
     "metadata": {},
     "output_type": "display_data"
    }
   ],
   "source": [
    "sub_beer_df.nunique()"
   ]
  }
 ],
 "metadata": {
  "kernelspec": {
   "display_name": "Python 3",
   "language": "python",
   "name": "python3"
  },
  "language_info": {
   "codemirror_mode": {
    "name": "ipython",
    "version": 3
   },
   "file_extension": ".py",
   "mimetype": "text/x-python",
   "name": "python",
   "nbconvert_exporter": "python",
   "pygments_lexer": "ipython3",
   "version": "3.11.2"
  }
 },
 "nbformat": 4,
 "nbformat_minor": 2
}
