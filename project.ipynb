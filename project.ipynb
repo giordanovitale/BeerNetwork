{
 "cells": [
  {
   "cell_type": "code",
   "execution_count": 11,
   "metadata": {},
   "outputs": [],
   "source": [
    "import pandas as pd\n",
    "import numpy as np\n",
    "import matplotlib.pyplot as plt\n",
    "import datetime\n",
    "import seaborn as sns\n",
    "import networkx as nx\n",
    "\n",
    "from networkx.algorithms import bipartite\n",
    "from sklearn.model_selection import train_test_split\n",
    "from collections import defaultdict"
   ]
  },
  {
   "cell_type": "code",
   "execution_count": 162,
   "metadata": {},
   "outputs": [
    {
     "data": {
      "text/html": [
       "<div>\n",
       "<style scoped>\n",
       "    .dataframe tbody tr th:only-of-type {\n",
       "        vertical-align: middle;\n",
       "    }\n",
       "\n",
       "    .dataframe tbody tr th {\n",
       "        vertical-align: top;\n",
       "    }\n",
       "\n",
       "    .dataframe thead th {\n",
       "        text-align: right;\n",
       "    }\n",
       "</style>\n",
       "<table border=\"1\" class=\"dataframe\">\n",
       "  <thead>\n",
       "    <tr style=\"text-align: right;\">\n",
       "      <th></th>\n",
       "      <th>brewery_id</th>\n",
       "      <th>brewery_name</th>\n",
       "      <th>review_time</th>\n",
       "      <th>review_overall</th>\n",
       "      <th>review_aroma</th>\n",
       "      <th>review_appearance</th>\n",
       "      <th>review_profilename</th>\n",
       "      <th>beer_style</th>\n",
       "      <th>review_palate</th>\n",
       "      <th>review_taste</th>\n",
       "      <th>beer_name</th>\n",
       "      <th>beer_abv</th>\n",
       "      <th>beer_beerid</th>\n",
       "    </tr>\n",
       "  </thead>\n",
       "  <tbody>\n",
       "    <tr>\n",
       "      <th>0</th>\n",
       "      <td>10325</td>\n",
       "      <td>Vecchio Birraio</td>\n",
       "      <td>1234817823</td>\n",
       "      <td>1.5</td>\n",
       "      <td>2.0</td>\n",
       "      <td>2.5</td>\n",
       "      <td>stcules</td>\n",
       "      <td>Hefeweizen</td>\n",
       "      <td>1.5</td>\n",
       "      <td>1.5</td>\n",
       "      <td>Sausa Weizen</td>\n",
       "      <td>5.0</td>\n",
       "      <td>47986</td>\n",
       "    </tr>\n",
       "    <tr>\n",
       "      <th>1</th>\n",
       "      <td>10325</td>\n",
       "      <td>Vecchio Birraio</td>\n",
       "      <td>1235915097</td>\n",
       "      <td>3.0</td>\n",
       "      <td>2.5</td>\n",
       "      <td>3.0</td>\n",
       "      <td>stcules</td>\n",
       "      <td>English Strong Ale</td>\n",
       "      <td>3.0</td>\n",
       "      <td>3.0</td>\n",
       "      <td>Red Moon</td>\n",
       "      <td>6.2</td>\n",
       "      <td>48213</td>\n",
       "    </tr>\n",
       "    <tr>\n",
       "      <th>2</th>\n",
       "      <td>10325</td>\n",
       "      <td>Vecchio Birraio</td>\n",
       "      <td>1235916604</td>\n",
       "      <td>3.0</td>\n",
       "      <td>2.5</td>\n",
       "      <td>3.0</td>\n",
       "      <td>stcules</td>\n",
       "      <td>Foreign / Export Stout</td>\n",
       "      <td>3.0</td>\n",
       "      <td>3.0</td>\n",
       "      <td>Black Horse Black Beer</td>\n",
       "      <td>6.5</td>\n",
       "      <td>48215</td>\n",
       "    </tr>\n",
       "    <tr>\n",
       "      <th>3</th>\n",
       "      <td>10325</td>\n",
       "      <td>Vecchio Birraio</td>\n",
       "      <td>1234725145</td>\n",
       "      <td>3.0</td>\n",
       "      <td>3.0</td>\n",
       "      <td>3.5</td>\n",
       "      <td>stcules</td>\n",
       "      <td>German Pilsener</td>\n",
       "      <td>2.5</td>\n",
       "      <td>3.0</td>\n",
       "      <td>Sausa Pils</td>\n",
       "      <td>5.0</td>\n",
       "      <td>47969</td>\n",
       "    </tr>\n",
       "    <tr>\n",
       "      <th>4</th>\n",
       "      <td>1075</td>\n",
       "      <td>Caldera Brewing Company</td>\n",
       "      <td>1293735206</td>\n",
       "      <td>4.0</td>\n",
       "      <td>4.5</td>\n",
       "      <td>4.0</td>\n",
       "      <td>johnmichaelsen</td>\n",
       "      <td>American Double / Imperial IPA</td>\n",
       "      <td>4.0</td>\n",
       "      <td>4.5</td>\n",
       "      <td>Cauldron DIPA</td>\n",
       "      <td>7.7</td>\n",
       "      <td>64883</td>\n",
       "    </tr>\n",
       "    <tr>\n",
       "      <th>...</th>\n",
       "      <td>...</td>\n",
       "      <td>...</td>\n",
       "      <td>...</td>\n",
       "      <td>...</td>\n",
       "      <td>...</td>\n",
       "      <td>...</td>\n",
       "      <td>...</td>\n",
       "      <td>...</td>\n",
       "      <td>...</td>\n",
       "      <td>...</td>\n",
       "      <td>...</td>\n",
       "      <td>...</td>\n",
       "      <td>...</td>\n",
       "    </tr>\n",
       "    <tr>\n",
       "      <th>1586609</th>\n",
       "      <td>14359</td>\n",
       "      <td>The Defiant Brewing Company</td>\n",
       "      <td>1162684892</td>\n",
       "      <td>5.0</td>\n",
       "      <td>4.0</td>\n",
       "      <td>3.5</td>\n",
       "      <td>maddogruss</td>\n",
       "      <td>Pumpkin Ale</td>\n",
       "      <td>4.0</td>\n",
       "      <td>4.0</td>\n",
       "      <td>The Horseman's Ale</td>\n",
       "      <td>5.2</td>\n",
       "      <td>33061</td>\n",
       "    </tr>\n",
       "    <tr>\n",
       "      <th>1586610</th>\n",
       "      <td>14359</td>\n",
       "      <td>The Defiant Brewing Company</td>\n",
       "      <td>1161048566</td>\n",
       "      <td>4.0</td>\n",
       "      <td>5.0</td>\n",
       "      <td>2.5</td>\n",
       "      <td>yelterdow</td>\n",
       "      <td>Pumpkin Ale</td>\n",
       "      <td>2.0</td>\n",
       "      <td>4.0</td>\n",
       "      <td>The Horseman's Ale</td>\n",
       "      <td>5.2</td>\n",
       "      <td>33061</td>\n",
       "    </tr>\n",
       "    <tr>\n",
       "      <th>1586611</th>\n",
       "      <td>14359</td>\n",
       "      <td>The Defiant Brewing Company</td>\n",
       "      <td>1160702513</td>\n",
       "      <td>4.5</td>\n",
       "      <td>3.5</td>\n",
       "      <td>3.0</td>\n",
       "      <td>TongoRad</td>\n",
       "      <td>Pumpkin Ale</td>\n",
       "      <td>3.5</td>\n",
       "      <td>4.0</td>\n",
       "      <td>The Horseman's Ale</td>\n",
       "      <td>5.2</td>\n",
       "      <td>33061</td>\n",
       "    </tr>\n",
       "    <tr>\n",
       "      <th>1586612</th>\n",
       "      <td>14359</td>\n",
       "      <td>The Defiant Brewing Company</td>\n",
       "      <td>1160023044</td>\n",
       "      <td>4.0</td>\n",
       "      <td>4.5</td>\n",
       "      <td>4.5</td>\n",
       "      <td>dherling</td>\n",
       "      <td>Pumpkin Ale</td>\n",
       "      <td>4.5</td>\n",
       "      <td>4.5</td>\n",
       "      <td>The Horseman's Ale</td>\n",
       "      <td>5.2</td>\n",
       "      <td>33061</td>\n",
       "    </tr>\n",
       "    <tr>\n",
       "      <th>1586613</th>\n",
       "      <td>14359</td>\n",
       "      <td>The Defiant Brewing Company</td>\n",
       "      <td>1160005319</td>\n",
       "      <td>5.0</td>\n",
       "      <td>4.5</td>\n",
       "      <td>4.5</td>\n",
       "      <td>cbl2</td>\n",
       "      <td>Pumpkin Ale</td>\n",
       "      <td>4.5</td>\n",
       "      <td>4.5</td>\n",
       "      <td>The Horseman's Ale</td>\n",
       "      <td>5.2</td>\n",
       "      <td>33061</td>\n",
       "    </tr>\n",
       "  </tbody>\n",
       "</table>\n",
       "<p>1586614 rows × 13 columns</p>\n",
       "</div>"
      ],
      "text/plain": [
       "         brewery_id                 brewery_name  review_time  review_overall  \\\n",
       "0             10325              Vecchio Birraio   1234817823             1.5   \n",
       "1             10325              Vecchio Birraio   1235915097             3.0   \n",
       "2             10325              Vecchio Birraio   1235916604             3.0   \n",
       "3             10325              Vecchio Birraio   1234725145             3.0   \n",
       "4              1075      Caldera Brewing Company   1293735206             4.0   \n",
       "...             ...                          ...          ...             ...   \n",
       "1586609       14359  The Defiant Brewing Company   1162684892             5.0   \n",
       "1586610       14359  The Defiant Brewing Company   1161048566             4.0   \n",
       "1586611       14359  The Defiant Brewing Company   1160702513             4.5   \n",
       "1586612       14359  The Defiant Brewing Company   1160023044             4.0   \n",
       "1586613       14359  The Defiant Brewing Company   1160005319             5.0   \n",
       "\n",
       "         review_aroma  review_appearance review_profilename  \\\n",
       "0                 2.0                2.5            stcules   \n",
       "1                 2.5                3.0            stcules   \n",
       "2                 2.5                3.0            stcules   \n",
       "3                 3.0                3.5            stcules   \n",
       "4                 4.5                4.0     johnmichaelsen   \n",
       "...               ...                ...                ...   \n",
       "1586609           4.0                3.5         maddogruss   \n",
       "1586610           5.0                2.5          yelterdow   \n",
       "1586611           3.5                3.0           TongoRad   \n",
       "1586612           4.5                4.5           dherling   \n",
       "1586613           4.5                4.5               cbl2   \n",
       "\n",
       "                             beer_style  review_palate  review_taste  \\\n",
       "0                            Hefeweizen            1.5           1.5   \n",
       "1                    English Strong Ale            3.0           3.0   \n",
       "2                Foreign / Export Stout            3.0           3.0   \n",
       "3                       German Pilsener            2.5           3.0   \n",
       "4        American Double / Imperial IPA            4.0           4.5   \n",
       "...                                 ...            ...           ...   \n",
       "1586609                     Pumpkin Ale            4.0           4.0   \n",
       "1586610                     Pumpkin Ale            2.0           4.0   \n",
       "1586611                     Pumpkin Ale            3.5           4.0   \n",
       "1586612                     Pumpkin Ale            4.5           4.5   \n",
       "1586613                     Pumpkin Ale            4.5           4.5   \n",
       "\n",
       "                      beer_name  beer_abv  beer_beerid  \n",
       "0                  Sausa Weizen       5.0        47986  \n",
       "1                      Red Moon       6.2        48213  \n",
       "2        Black Horse Black Beer       6.5        48215  \n",
       "3                    Sausa Pils       5.0        47969  \n",
       "4                 Cauldron DIPA       7.7        64883  \n",
       "...                         ...       ...          ...  \n",
       "1586609      The Horseman's Ale       5.2        33061  \n",
       "1586610      The Horseman's Ale       5.2        33061  \n",
       "1586611      The Horseman's Ale       5.2        33061  \n",
       "1586612      The Horseman's Ale       5.2        33061  \n",
       "1586613      The Horseman's Ale       5.2        33061  \n",
       "\n",
       "[1586614 rows x 13 columns]"
      ]
     },
     "execution_count": 162,
     "metadata": {},
     "output_type": "execute_result"
    }
   ],
   "source": [
    "pd.read_csv('beer_reviews.csv')"
   ]
  },
  {
   "cell_type": "code",
   "execution_count": 12,
   "metadata": {},
   "outputs": [
    {
     "data": {
      "text/plain": [
       "['brewery_id',\n",
       " 'brewery_name',\n",
       " 'review_time',\n",
       " 'review_overall',\n",
       " 'review_aroma',\n",
       " 'review_appearance',\n",
       " 'review_profilename',\n",
       " 'beer_style',\n",
       " 'review_palate',\n",
       " 'review_taste',\n",
       " 'beer_name',\n",
       " 'beer_abv',\n",
       " 'beer_beerid']"
      ]
     },
     "execution_count": 12,
     "metadata": {},
     "output_type": "execute_result"
    }
   ],
   "source": [
    "beer_df = pd.read_csv(\"beer_reviews.csv\")\n",
    "list(beer_df.columns)"
   ]
  },
  {
   "cell_type": "code",
   "execution_count": 13,
   "metadata": {},
   "outputs": [],
   "source": [
    "beer_df = beer_df.rename(columns={'beer_beerid': 'beer_id'})"
   ]
  },
  {
   "cell_type": "code",
   "execution_count": 14,
   "metadata": {},
   "outputs": [
    {
     "data": {
      "text/html": [
       "<div>\n",
       "<style scoped>\n",
       "    .dataframe tbody tr th:only-of-type {\n",
       "        vertical-align: middle;\n",
       "    }\n",
       "\n",
       "    .dataframe tbody tr th {\n",
       "        vertical-align: top;\n",
       "    }\n",
       "\n",
       "    .dataframe thead th {\n",
       "        text-align: right;\n",
       "    }\n",
       "</style>\n",
       "<table border=\"1\" class=\"dataframe\">\n",
       "  <thead>\n",
       "    <tr style=\"text-align: right;\">\n",
       "      <th></th>\n",
       "      <th>brewery_id</th>\n",
       "      <th>brewery_name</th>\n",
       "      <th>review_time</th>\n",
       "      <th>review_overall</th>\n",
       "      <th>review_aroma</th>\n",
       "      <th>review_appearance</th>\n",
       "      <th>review_profilename</th>\n",
       "      <th>beer_style</th>\n",
       "      <th>review_palate</th>\n",
       "      <th>review_taste</th>\n",
       "      <th>beer_name</th>\n",
       "      <th>beer_abv</th>\n",
       "      <th>beer_id</th>\n",
       "    </tr>\n",
       "  </thead>\n",
       "  <tbody>\n",
       "    <tr>\n",
       "      <th>0</th>\n",
       "      <td>10325</td>\n",
       "      <td>Vecchio Birraio</td>\n",
       "      <td>1234817823</td>\n",
       "      <td>1.5</td>\n",
       "      <td>2.0</td>\n",
       "      <td>2.5</td>\n",
       "      <td>stcules</td>\n",
       "      <td>Hefeweizen</td>\n",
       "      <td>1.5</td>\n",
       "      <td>1.5</td>\n",
       "      <td>Sausa Weizen</td>\n",
       "      <td>5.0</td>\n",
       "      <td>47986</td>\n",
       "    </tr>\n",
       "    <tr>\n",
       "      <th>1</th>\n",
       "      <td>10325</td>\n",
       "      <td>Vecchio Birraio</td>\n",
       "      <td>1235915097</td>\n",
       "      <td>3.0</td>\n",
       "      <td>2.5</td>\n",
       "      <td>3.0</td>\n",
       "      <td>stcules</td>\n",
       "      <td>English Strong Ale</td>\n",
       "      <td>3.0</td>\n",
       "      <td>3.0</td>\n",
       "      <td>Red Moon</td>\n",
       "      <td>6.2</td>\n",
       "      <td>48213</td>\n",
       "    </tr>\n",
       "    <tr>\n",
       "      <th>2</th>\n",
       "      <td>10325</td>\n",
       "      <td>Vecchio Birraio</td>\n",
       "      <td>1235916604</td>\n",
       "      <td>3.0</td>\n",
       "      <td>2.5</td>\n",
       "      <td>3.0</td>\n",
       "      <td>stcules</td>\n",
       "      <td>Foreign / Export Stout</td>\n",
       "      <td>3.0</td>\n",
       "      <td>3.0</td>\n",
       "      <td>Black Horse Black Beer</td>\n",
       "      <td>6.5</td>\n",
       "      <td>48215</td>\n",
       "    </tr>\n",
       "    <tr>\n",
       "      <th>3</th>\n",
       "      <td>10325</td>\n",
       "      <td>Vecchio Birraio</td>\n",
       "      <td>1234725145</td>\n",
       "      <td>3.0</td>\n",
       "      <td>3.0</td>\n",
       "      <td>3.5</td>\n",
       "      <td>stcules</td>\n",
       "      <td>German Pilsener</td>\n",
       "      <td>2.5</td>\n",
       "      <td>3.0</td>\n",
       "      <td>Sausa Pils</td>\n",
       "      <td>5.0</td>\n",
       "      <td>47969</td>\n",
       "    </tr>\n",
       "  </tbody>\n",
       "</table>\n",
       "</div>"
      ],
      "text/plain": [
       "   brewery_id     brewery_name  review_time  review_overall  review_aroma  \\\n",
       "0       10325  Vecchio Birraio   1234817823             1.5           2.0   \n",
       "1       10325  Vecchio Birraio   1235915097             3.0           2.5   \n",
       "2       10325  Vecchio Birraio   1235916604             3.0           2.5   \n",
       "3       10325  Vecchio Birraio   1234725145             3.0           3.0   \n",
       "\n",
       "   review_appearance review_profilename              beer_style  \\\n",
       "0                2.5            stcules              Hefeweizen   \n",
       "1                3.0            stcules      English Strong Ale   \n",
       "2                3.0            stcules  Foreign / Export Stout   \n",
       "3                3.5            stcules         German Pilsener   \n",
       "\n",
       "   review_palate  review_taste               beer_name  beer_abv  beer_id  \n",
       "0            1.5           1.5            Sausa Weizen       5.0    47986  \n",
       "1            3.0           3.0                Red Moon       6.2    48213  \n",
       "2            3.0           3.0  Black Horse Black Beer       6.5    48215  \n",
       "3            2.5           3.0              Sausa Pils       5.0    47969  "
      ]
     },
     "execution_count": 14,
     "metadata": {},
     "output_type": "execute_result"
    }
   ],
   "source": [
    "beer_df.head(4)"
   ]
  },
  {
   "cell_type": "code",
   "execution_count": 15,
   "metadata": {},
   "outputs": [
    {
     "data": {
      "text/plain": [
       "(1586614, 13)"
      ]
     },
     "execution_count": 15,
     "metadata": {},
     "output_type": "execute_result"
    }
   ],
   "source": [
    "beer_df.shape"
   ]
  },
  {
   "cell_type": "code",
   "execution_count": 16,
   "metadata": {},
   "outputs": [
    {
     "data": {
      "text/plain": [
       "brewery_id              int64\n",
       "brewery_name           object\n",
       "review_time             int64\n",
       "review_overall        float64\n",
       "review_aroma          float64\n",
       "review_appearance     float64\n",
       "review_profilename     object\n",
       "beer_style             object\n",
       "review_palate         float64\n",
       "review_taste          float64\n",
       "beer_name              object\n",
       "beer_abv              float64\n",
       "beer_id                 int64\n",
       "dtype: object"
      ]
     },
     "execution_count": 16,
     "metadata": {},
     "output_type": "execute_result"
    }
   ],
   "source": [
    "beer_df.dtypes"
   ]
  },
  {
   "cell_type": "markdown",
   "metadata": {},
   "source": [
    "# 1 - Preprocessing, Data Cleaning & Dataset Inspection"
   ]
  },
  {
   "cell_type": "markdown",
   "metadata": {},
   "source": [
    "#### 1.1 - Column \"review_time\"."
   ]
  },
  {
   "cell_type": "code",
   "execution_count": 17,
   "metadata": {},
   "outputs": [
    {
     "data": {
      "text/plain": [
       "1586611   2006-10-13 01:21:53\n",
       "1586612   2006-10-05 04:37:24\n",
       "1586613   2006-10-04 23:41:59\n",
       "Name: review_time, dtype: datetime64[ns]"
      ]
     },
     "execution_count": 17,
     "metadata": {},
     "output_type": "execute_result"
    }
   ],
   "source": [
    "beer_df['review_time'] = pd.to_datetime(beer_df['review_time'], unit=\"s\")\n",
    "beer_df['review_time'].iloc[-3:]"
   ]
  },
  {
   "cell_type": "markdown",
   "metadata": {},
   "source": [
    "When is the first beer review occurred, and the last one?"
   ]
  },
  {
   "cell_type": "code",
   "execution_count": 18,
   "metadata": {},
   "outputs": [
    {
     "data": {
      "text/plain": [
       "'1996-08-22 to 2012-01-11'"
      ]
     },
     "execution_count": 18,
     "metadata": {},
     "output_type": "execute_result"
    }
   ],
   "source": [
    "str(beer_df['review_time'].dt.date.min()) + ' to ' + str(beer_df['review_time'].dt.date.max())"
   ]
  },
  {
   "cell_type": "markdown",
   "metadata": {},
   "source": [
    "Check how many observations are there for each year. This can help me deciding whether to subset the data frame."
   ]
  },
  {
   "cell_type": "code",
   "execution_count": 19,
   "metadata": {},
   "outputs": [
    {
     "data": {
      "text/plain": [
       "review_time\n",
       "1996         1\n",
       "1998       133\n",
       "1999        86\n",
       "2000       119\n",
       "2001      1999\n",
       "2002     23140\n",
       "2003     56958\n",
       "2004     69701\n",
       "2005     89116\n",
       "2006    129648\n",
       "2007    142404\n",
       "2008    210099\n",
       "2009    243402\n",
       "2010    277072\n",
       "2011    333072\n",
       "2012      9664\n",
       "dtype: int64"
      ]
     },
     "execution_count": 19,
     "metadata": {},
     "output_type": "execute_result"
    }
   ],
   "source": [
    "beer_df.groupby(beer_df['review_time'].dt.year).size()"
   ]
  },
  {
   "cell_type": "markdown",
   "metadata": {},
   "source": [
    "#### 1.2 - Check for unique, null, duplicates and infinite values"
   ]
  },
  {
   "cell_type": "code",
   "execution_count": 20,
   "metadata": {},
   "outputs": [
    {
     "data": {
      "text/plain": [
       "brewery_id               5840\n",
       "brewery_name             5742\n",
       "review_time           1577960\n",
       "review_overall             10\n",
       "review_aroma                9\n",
       "review_appearance          10\n",
       "review_profilename      33387\n",
       "beer_style                104\n",
       "review_palate               9\n",
       "review_taste                9\n",
       "beer_name               56857\n",
       "beer_abv                  530\n",
       "beer_id                 66055\n",
       "dtype: int64"
      ]
     },
     "execution_count": 20,
     "metadata": {},
     "output_type": "execute_result"
    }
   ],
   "source": [
    "beer_df.nunique()"
   ]
  },
  {
   "cell_type": "markdown",
   "metadata": {},
   "source": [
    "There seems to be a discrepancy between brewery_id and brewery_name, but couldn't come up with a way of solving this discrepancy. How is it possible that there are more `brewery_id` than `brewery_name`?"
   ]
  },
  {
   "cell_type": "markdown",
   "metadata": {},
   "source": [
    "Remove the `na`."
   ]
  },
  {
   "cell_type": "code",
   "execution_count": 21,
   "metadata": {},
   "outputs": [
    {
     "data": {
      "text/plain": [
       "brewery_id                0\n",
       "brewery_name             15\n",
       "review_time               0\n",
       "review_overall            0\n",
       "review_aroma              0\n",
       "review_appearance         0\n",
       "review_profilename      348\n",
       "beer_style                0\n",
       "review_palate             0\n",
       "review_taste              0\n",
       "beer_name                 0\n",
       "beer_abv              67785\n",
       "beer_id                   0\n",
       "dtype: int64"
      ]
     },
     "execution_count": 21,
     "metadata": {},
     "output_type": "execute_result"
    }
   ],
   "source": [
    "beer_df.isnull().sum()"
   ]
  },
  {
   "cell_type": "code",
   "execution_count": 22,
   "metadata": {},
   "outputs": [],
   "source": [
    "beer_df = beer_df.dropna()"
   ]
  },
  {
   "cell_type": "markdown",
   "metadata": {},
   "source": [
    "Check for duplicates."
   ]
  },
  {
   "cell_type": "code",
   "execution_count": 23,
   "metadata": {},
   "outputs": [
    {
     "data": {
      "text/plain": [
       "0"
      ]
     },
     "execution_count": 23,
     "metadata": {},
     "output_type": "execute_result"
    }
   ],
   "source": [
    "beer_df.duplicated().sum()"
   ]
  },
  {
   "cell_type": "markdown",
   "metadata": {},
   "source": [
    "#### 1.3 - Inspect the distributions"
   ]
  },
  {
   "cell_type": "code",
   "execution_count": 24,
   "metadata": {},
   "outputs": [
    {
     "data": {
      "text/html": [
       "<div>\n",
       "<style scoped>\n",
       "    .dataframe tbody tr th:only-of-type {\n",
       "        vertical-align: middle;\n",
       "    }\n",
       "\n",
       "    .dataframe tbody tr th {\n",
       "        vertical-align: top;\n",
       "    }\n",
       "\n",
       "    .dataframe thead th {\n",
       "        text-align: right;\n",
       "    }\n",
       "</style>\n",
       "<table border=\"1\" class=\"dataframe\">\n",
       "  <thead>\n",
       "    <tr style=\"text-align: right;\">\n",
       "      <th></th>\n",
       "      <th>brewery_id</th>\n",
       "      <th>review_overall</th>\n",
       "      <th>review_aroma</th>\n",
       "      <th>review_appearance</th>\n",
       "      <th>review_palate</th>\n",
       "      <th>review_taste</th>\n",
       "      <th>beer_abv</th>\n",
       "      <th>beer_id</th>\n",
       "    </tr>\n",
       "  </thead>\n",
       "  <tbody>\n",
       "    <tr>\n",
       "      <th>count</th>\n",
       "      <td>1518478.00</td>\n",
       "      <td>1518478.00</td>\n",
       "      <td>1518478.00</td>\n",
       "      <td>1518478.00</td>\n",
       "      <td>1518478.00</td>\n",
       "      <td>1518478.00</td>\n",
       "      <td>1518478.00</td>\n",
       "      <td>1518478.00</td>\n",
       "    </tr>\n",
       "    <tr>\n",
       "      <th>mean</th>\n",
       "      <td>3074.31</td>\n",
       "      <td>3.82</td>\n",
       "      <td>3.75</td>\n",
       "      <td>3.85</td>\n",
       "      <td>3.75</td>\n",
       "      <td>3.80</td>\n",
       "      <td>7.04</td>\n",
       "      <td>21405.75</td>\n",
       "    </tr>\n",
       "    <tr>\n",
       "      <th>std</th>\n",
       "      <td>5544.34</td>\n",
       "      <td>0.72</td>\n",
       "      <td>0.70</td>\n",
       "      <td>0.61</td>\n",
       "      <td>0.68</td>\n",
       "      <td>0.73</td>\n",
       "      <td>2.32</td>\n",
       "      <td>21780.33</td>\n",
       "    </tr>\n",
       "    <tr>\n",
       "      <th>min</th>\n",
       "      <td>1.00</td>\n",
       "      <td>0.00</td>\n",
       "      <td>1.00</td>\n",
       "      <td>0.00</td>\n",
       "      <td>1.00</td>\n",
       "      <td>1.00</td>\n",
       "      <td>0.01</td>\n",
       "      <td>5.00</td>\n",
       "    </tr>\n",
       "    <tr>\n",
       "      <th>25%</th>\n",
       "      <td>141.00</td>\n",
       "      <td>3.50</td>\n",
       "      <td>3.50</td>\n",
       "      <td>3.50</td>\n",
       "      <td>3.50</td>\n",
       "      <td>3.50</td>\n",
       "      <td>5.20</td>\n",
       "      <td>1654.00</td>\n",
       "    </tr>\n",
       "    <tr>\n",
       "      <th>50%</th>\n",
       "      <td>417.00</td>\n",
       "      <td>4.00</td>\n",
       "      <td>4.00</td>\n",
       "      <td>4.00</td>\n",
       "      <td>4.00</td>\n",
       "      <td>4.00</td>\n",
       "      <td>6.50</td>\n",
       "      <td>12830.00</td>\n",
       "    </tr>\n",
       "    <tr>\n",
       "      <th>75%</th>\n",
       "      <td>2298.00</td>\n",
       "      <td>4.50</td>\n",
       "      <td>4.00</td>\n",
       "      <td>4.00</td>\n",
       "      <td>4.00</td>\n",
       "      <td>4.50</td>\n",
       "      <td>8.50</td>\n",
       "      <td>39236.00</td>\n",
       "    </tr>\n",
       "    <tr>\n",
       "      <th>max</th>\n",
       "      <td>28003.00</td>\n",
       "      <td>5.00</td>\n",
       "      <td>5.00</td>\n",
       "      <td>5.00</td>\n",
       "      <td>5.00</td>\n",
       "      <td>5.00</td>\n",
       "      <td>57.70</td>\n",
       "      <td>77316.00</td>\n",
       "    </tr>\n",
       "  </tbody>\n",
       "</table>\n",
       "</div>"
      ],
      "text/plain": [
       "       brewery_id  review_overall  review_aroma  review_appearance  \\\n",
       "count  1518478.00      1518478.00    1518478.00         1518478.00   \n",
       "mean      3074.31            3.82          3.75               3.85   \n",
       "std       5544.34            0.72          0.70               0.61   \n",
       "min          1.00            0.00          1.00               0.00   \n",
       "25%        141.00            3.50          3.50               3.50   \n",
       "50%        417.00            4.00          4.00               4.00   \n",
       "75%       2298.00            4.50          4.00               4.00   \n",
       "max      28003.00            5.00          5.00               5.00   \n",
       "\n",
       "       review_palate  review_taste    beer_abv     beer_id  \n",
       "count     1518478.00    1518478.00  1518478.00  1518478.00  \n",
       "mean            3.75          3.80        7.04    21405.75  \n",
       "std             0.68          0.73        2.32    21780.33  \n",
       "min             1.00          1.00        0.01        5.00  \n",
       "25%             3.50          3.50        5.20     1654.00  \n",
       "50%             4.00          4.00        6.50    12830.00  \n",
       "75%             4.00          4.50        8.50    39236.00  \n",
       "max             5.00          5.00       57.70    77316.00  "
      ]
     },
     "execution_count": 24,
     "metadata": {},
     "output_type": "execute_result"
    }
   ],
   "source": [
    "beer_df.describe().round(2)"
   ]
  },
  {
   "cell_type": "markdown",
   "metadata": {},
   "source": [
    "Start from the reviews."
   ]
  },
  {
   "cell_type": "code",
   "execution_count": 25,
   "metadata": {},
   "outputs": [
    {
     "data": {
      "image/png": "[encoded data removed]",
      "text/plain": [
       "<Figure size 300x200 with 1 Axes>"
      ]
     },
     "metadata": {},
     "output_type": "display_data"
    },
    {
     "data": {
      "image/png": "[encoded data removed]",
      "text/plain": [
       "<Figure size 300x200 with 1 Axes>"
      ]
     },
     "metadata": {},
     "output_type": "display_data"
    },
    {
     "data": {
      "image/png": "[encoded data removed]",
      "text/plain": [
       "<Figure size 300x200 with 1 Axes>"
      ]
     },
     "metadata": {},
     "output_type": "display_data"
    },
    {
     "data": {
      "image/png": "[encoded data removed]",
      "text/plain": [
       "<Figure size 300x200 with 1 Axes>"
      ]
     },
     "metadata": {},
     "output_type": "display_data"
    },
    {
     "data": {
      "image/png": "[encoded data removed]",
      "text/plain": [
       "<Figure size 300x200 with 1 Axes>"
      ]
     },
     "metadata": {},
     "output_type": "display_data"
    }
   ],
   "source": [
    "rating_columns = ['review_overall', 'review_aroma', 'review_appearance', 'review_palate', 'review_taste']\n",
    "\n",
    "for column in rating_columns:\n",
    "    plt.figure(figsize=(3, 2))\n",
    "    beer_df[column].value_counts().sort_index().plot(kind='bar', color='skyblue')\n",
    "    plt.title(f'Distribution of {column}')\n",
    "    plt.xlabel(column)\n",
    "    plt.ylabel('Count')\n",
    "    plt.show()"
   ]
  },
  {
   "cell_type": "markdown",
   "metadata": {},
   "source": [
    "Double check for uncoherent/inconsistent values."
   ]
  },
  {
   "cell_type": "code",
   "execution_count": 26,
   "metadata": {},
   "outputs": [
    {
     "data": {
      "image/png": "[encoded data removed]",
      "text/plain": [
       "<Figure size 900x500 with 1 Axes>"
      ]
     },
     "metadata": {},
     "output_type": "display_data"
    }
   ],
   "source": [
    "plt.figure(figsize=(9, 5))\n",
    "sns.boxplot(data=beer_df[['review_overall', 'review_aroma', 'review_appearance', 'review_palate', 'review_taste']])\n",
    "plt.show()"
   ]
  },
  {
   "cell_type": "markdown",
   "metadata": {},
   "source": [
    "Return the 20 most commont beer styles."
   ]
  },
  {
   "cell_type": "code",
   "execution_count": 27,
   "metadata": {},
   "outputs": [
    {
     "data": {
      "text/plain": [
       "American IPA                        113144\n",
       "American Double / Imperial IPA       85105\n",
       "American Pale Ale (APA)              58072\n",
       "Russian Imperial Stout               53424\n",
       "American Double / Imperial Stout     50137\n",
       "American Porter                      46647\n",
       "American Amber / Red Ale             41731\n",
       "Belgian Strong Dark Ale              37498\n",
       "Fruit / Vegetable Beer               31983\n",
       "American Strong Ale                  31350\n",
       "Belgian Strong Pale Ale              31323\n",
       "Saison / Farmhouse Ale               30621\n",
       "Tripel                               29971\n",
       "American Adjunct Lager               28964\n",
       "Witbier                              28654\n",
       "American Barleywine                  26267\n",
       "Hefeweizen                           25922\n",
       "American Brown Ale                   24131\n",
       "American Pale Wheat Ale              22888\n",
       "English Pale Ale                     22817\n",
       "Name: beer_style, dtype: int64"
      ]
     },
     "execution_count": 27,
     "metadata": {},
     "output_type": "execute_result"
    }
   ],
   "source": [
    "beer_df['beer_style'].value_counts().head(20)"
   ]
  },
  {
   "cell_type": "markdown",
   "metadata": {},
   "source": [
    "Return the 20 most commont brewery names."
   ]
  },
  {
   "cell_type": "code",
   "execution_count": 28,
   "metadata": {},
   "outputs": [
    {
     "data": {
      "text/plain": [
       "Boston Beer Company (Samuel Adams)      38806\n",
       "Dogfish Head Brewery                    33790\n",
       "Stone Brewing Co.                       33009\n",
       "Sierra Nevada Brewing Co.               28632\n",
       "Bell's Brewery, Inc.                    24973\n",
       "Rogue Ales                              23446\n",
       "Founders Brewing Company                19951\n",
       "Victory Brewing Company                 19401\n",
       "Lagunitas Brewing Company               16766\n",
       "Avery Brewing Company                   16042\n",
       "Southern Tier Brewing Company           15856\n",
       "Anheuser-Busch                          15439\n",
       "Great Divide Brewing Company            14902\n",
       "Goose Island Beer Co.                   14208\n",
       "Three Floyds Brewing Co. & Brewpub      14026\n",
       "Unibroue                                13915\n",
       "Brooklyn Brewery                        13719\n",
       "New Belgium Brewing                     13349\n",
       "Weyerbacher Brewing Co.                 12185\n",
       "Flying Dog Brewery                      11690\n",
       "Tröegs Brewing Company                  11613\n",
       "Russian River Brewing Company           11295\n",
       "North Coast Brewing Co.                 11154\n",
       "Great Lakes Brewing Company             10939\n",
       "Deschutes Brewery                       10862\n",
       "Smuttynose Brewing Company              10800\n",
       "New Glarus Brewing Company              10381\n",
       "Samuel Smith Old Brewery (Tadcaster)    10291\n",
       "Anchor Brewing Company                   9910\n",
       "Brewery Ommegang                         9898\n",
       "Name: brewery_name, dtype: int64"
      ]
     },
     "execution_count": 28,
     "metadata": {},
     "output_type": "execute_result"
    }
   ],
   "source": [
    "beer_df['brewery_name'].value_counts().head(30)"
   ]
  },
  {
   "cell_type": "code",
   "execution_count": 29,
   "metadata": {},
   "outputs": [
    {
     "data": {
      "text/plain": [
       "90 Minute IPA                          3289\n",
       "Old Rasputin Russian Imperial Stout    3110\n",
       "Sierra Nevada Celebration Ale          2999\n",
       "India Pale Ale                         2960\n",
       "Two Hearted Ale                        2727\n",
       "                                       ... \n",
       "Yeti Imperial Stout                    1429\n",
       "Oak Aged Yeti Imperial Stout           1422\n",
       "Delirium Tremens                       1420\n",
       "Anchor Liberty Ale                     1417\n",
       "The Abyss                              1412\n",
       "Name: beer_name, Length: 100, dtype: int64"
      ]
     },
     "execution_count": 29,
     "metadata": {},
     "output_type": "execute_result"
    }
   ],
   "source": [
    "beer_df['beer_name'].value_counts().head(100)"
   ]
  },
  {
   "cell_type": "markdown",
   "metadata": {},
   "source": [
    "Return the 20 most common beer_abv."
   ]
  },
  {
   "cell_type": "code",
   "execution_count": 30,
   "metadata": {},
   "outputs": [
    {
     "data": {
      "text/plain": [
       "5.0     109116\n",
       "8.0      67730\n",
       "6.0      65375\n",
       "7.0      59446\n",
       "9.0      59171\n",
       "5.5      59001\n",
       "10.0     54772\n",
       "6.5      48362\n",
       "5.2      43254\n",
       "7.5      39973\n",
       "8.5      38465\n",
       "5.4      33113\n",
       "4.9      30894\n",
       "9.5      29992\n",
       "4.5      29343\n",
       "5.3      29075\n",
       "5.6      28907\n",
       "5.8      28568\n",
       "4.8      27092\n",
       "5.1      25117\n",
       "Name: beer_abv, dtype: int64"
      ]
     },
     "execution_count": 30,
     "metadata": {},
     "output_type": "execute_result"
    }
   ],
   "source": [
    "beer_df['beer_abv'].value_counts().head(20)"
   ]
  },
  {
   "cell_type": "code",
   "execution_count": 31,
   "metadata": {},
   "outputs": [
    {
     "data": {
      "text/plain": [
       "northyorksammy    5346\n",
       "mikesgroove       4283\n",
       "BuckeyeNation     4246\n",
       "Thorpe429         3273\n",
       "brentk56          3186\n",
       "                  ... \n",
       "avalon07          1510\n",
       "Deuane            1504\n",
       "JoeyBeerBelly     1492\n",
       "tgbljb            1492\n",
       "BeerFMAndy        1483\n",
       "Name: review_profilename, Length: 100, dtype: int64"
      ]
     },
     "execution_count": 31,
     "metadata": {},
     "output_type": "execute_result"
    }
   ],
   "source": [
    "beer_df['review_profilename'].value_counts().head(100)"
   ]
  },
  {
   "cell_type": "code",
   "execution_count": 32,
   "metadata": {},
   "outputs": [
    {
     "data": {
      "text/plain": [
       "2011    322556\n",
       "2010    268577\n",
       "2009    235275\n",
       "2008    201580\n",
       "2007    135695\n",
       "2006    122199\n",
       "2005     83551\n",
       "2004     64836\n",
       "2003     52114\n",
       "2002     20775\n",
       "2012      9343\n",
       "2001      1773\n",
       "2000        98\n",
       "1998        72\n",
       "1999        33\n",
       "1996         1\n",
       "Name: review_time, dtype: int64"
      ]
     },
     "execution_count": 32,
     "metadata": {},
     "output_type": "execute_result"
    }
   ],
   "source": [
    "beer_df['review_time'].dt.year.value_counts().head(20)"
   ]
  },
  {
   "cell_type": "markdown",
   "metadata": {},
   "source": [
    "#### 1.4 - Downsampling - Option A - keep one year only"
   ]
  },
  {
   "cell_type": "code",
   "execution_count": 33,
   "metadata": {},
   "outputs": [
    {
     "data": {
      "text/plain": [
       "(9343, 13)"
      ]
     },
     "execution_count": 33,
     "metadata": {},
     "output_type": "execute_result"
    }
   ],
   "source": [
    "sub_beer_df = beer_df[beer_df['review_time'].dt.year == 2012].copy()\n",
    "sub_beer_df.shape"
   ]
  },
  {
   "cell_type": "code",
   "execution_count": 34,
   "metadata": {},
   "outputs": [],
   "source": [
    "users_reviews_count = sub_beer_df['review_profilename'].value_counts()\n",
    "kept_profiles_only = users_reviews_count[users_reviews_count>1].index"
   ]
  },
  {
   "cell_type": "code",
   "execution_count": 35,
   "metadata": {},
   "outputs": [
    {
     "data": {
      "text/plain": [
       "brewery_id            1103\n",
       "brewery_name          1099\n",
       "review_time           8600\n",
       "review_overall           9\n",
       "review_aroma             9\n",
       "review_appearance        9\n",
       "review_profilename    1366\n",
       "beer_style             102\n",
       "review_palate            9\n",
       "review_taste             9\n",
       "beer_name             3888\n",
       "beer_abv               216\n",
       "beer_id               3945\n",
       "dtype: int64"
      ]
     },
     "execution_count": 35,
     "metadata": {},
     "output_type": "execute_result"
    }
   ],
   "source": [
    "sub_beer_df = sub_beer_df[sub_beer_df['review_profilename'].isin(kept_profiles_only)].copy()\n",
    "sub_beer_df.nunique()"
   ]
  },
  {
   "cell_type": "markdown",
   "metadata": {},
   "source": [
    "# 2 - Graph Construction"
   ]
  },
  {
   "cell_type": "markdown",
   "metadata": {},
   "source": [
    "#### 2.1 - Create the user-beer bipartite graph"
   ]
  },
  {
   "cell_type": "code",
   "execution_count": 36,
   "metadata": {},
   "outputs": [
    {
     "data": {
      "text/plain": [
       "True"
      ]
     },
     "execution_count": 36,
     "metadata": {},
     "output_type": "execute_result"
    }
   ],
   "source": [
    "G = nx.Graph()\n",
    "\n",
    "# Add nodes and edges to the graph\n",
    "for _, row in sub_beer_df.iterrows():\n",
    "    G.add_node(row['review_profilename'], bipartite='user')\n",
    "    G.add_node(row['beer_name'], bipartite='beer')\n",
    "    G.add_edge(row['review_profilename'], row['beer_name'])\n",
    "\n",
    "nx.bipartite.is_bipartite(G)"
   ]
  },
  {
   "cell_type": "code",
   "execution_count": 37,
   "metadata": {},
   "outputs": [
    {
     "name": "stdout",
     "output_type": "stream",
     "text": [
      "Graph with 5254 nodes and 8641 edges\n"
     ]
    }
   ],
   "source": [
    "print(G)"
   ]
  },
  {
   "cell_type": "code",
   "execution_count": 38,
   "metadata": {},
   "outputs": [
    {
     "data": {
      "image/png": "[encoded data removed]",
      "text/plain": [
       "<Figure size 640x480 with 1 Axes>"
      ]
     },
     "metadata": {},
     "output_type": "display_data"
    }
   ],
   "source": [
    "user_nodes = {n for n, d in G.nodes(data=True) if d['bipartite'] == 'user'}\n",
    "beer_nodes = set(G) - user_nodes\n",
    "\n",
    "node_colors = ['green' if d['bipartite'] == 'user' else 'red' for n, d in G.nodes(data=True)]\n",
    "\n",
    "nx.draw(G, pos=nx.bipartite_layout(G, user_nodes), node_color = node_colors, node_size=10)"
   ]
  },
  {
   "cell_type": "markdown",
   "metadata": {},
   "source": [
    "#### 2.2 - Projections"
   ]
  },
  {
   "cell_type": "code",
   "execution_count": 39,
   "metadata": {},
   "outputs": [],
   "source": [
    "user_projection = nx.Graph()\n",
    "user_projection = nx.bipartite.projected_graph(G, user_nodes)\n",
    "\n",
    "beer_projection = nx.Graph()\n",
    "beer_projection = nx.bipartite.projected_graph(G, beer_nodes)"
   ]
  },
  {
   "cell_type": "markdown",
   "metadata": {},
   "source": [
    "Visualize the user projection"
   ]
  },
  {
   "cell_type": "code",
   "execution_count": 40,
   "metadata": {},
   "outputs": [
    {
     "data": {
      "image/png": "[encoded data removed]",
      "text/plain": [
       "<Figure size 600x400 with 1 Axes>"
      ]
     },
     "metadata": {},
     "output_type": "display_data"
    }
   ],
   "source": [
    "plt.figure(figsize=(6, 4))\n",
    "pos_user = nx.spring_layout(user_projection)\n",
    "nx.draw(user_projection, pos=pos_user, node_color='lightgreen', edge_color='black', node_size=1)\n",
    "plt.title('User Projection')\n",
    "plt.show()"
   ]
  },
  {
   "cell_type": "code",
   "execution_count": 41,
   "metadata": {},
   "outputs": [
    {
     "name": "stdout",
     "output_type": "stream",
     "text": [
      "Graph with 1366 nodes and 19237 edges\n"
     ]
    }
   ],
   "source": [
    "print(user_projection)"
   ]
  },
  {
   "cell_type": "markdown",
   "metadata": {},
   "source": [
    "Visualize the beer projection"
   ]
  },
  {
   "cell_type": "code",
   "execution_count": 42,
   "metadata": {},
   "outputs": [
    {
     "data": {
      "image/png": "[encoded data removed]",
      "text/plain": [
       "<Figure size 600x400 with 1 Axes>"
      ]
     },
     "metadata": {},
     "output_type": "display_data"
    }
   ],
   "source": [
    "plt.figure(figsize=(6, 4))\n",
    "pos_beer = nx.spring_layout(beer_projection)\n",
    "nx.draw(beer_projection, pos=pos_beer, node_color='red', edge_color='black', node_size=1)\n",
    "plt.title('Beer Projection')\n",
    "plt.show()"
   ]
  },
  {
   "cell_type": "code",
   "execution_count": 43,
   "metadata": {},
   "outputs": [
    {
     "name": "stdout",
     "output_type": "stream",
     "text": [
      "Graph with 3888 nodes and 54238 edges\n"
     ]
    }
   ],
   "source": [
    "print(beer_projection)"
   ]
  },
  {
   "cell_type": "markdown",
   "metadata": {},
   "source": [
    "# 3 - Basic Graph Properties"
   ]
  },
  {
   "cell_type": "markdown",
   "metadata": {},
   "source": [
    "#### 3.1 - Density"
   ]
  },
  {
   "cell_type": "markdown",
   "metadata": {},
   "source": [
    "Density for the user graph."
   ]
  },
  {
   "cell_type": "code",
   "execution_count": 44,
   "metadata": {},
   "outputs": [
    {
     "data": {
      "text/plain": [
       "0.020634026783367926"
      ]
     },
     "execution_count": 44,
     "metadata": {},
     "output_type": "execute_result"
    }
   ],
   "source": [
    "user_density = nx.density(user_projection)\n",
    "user_density"
   ]
  },
  {
   "cell_type": "markdown",
   "metadata": {},
   "source": [
    "Density for the beer graph."
   ]
  },
  {
   "cell_type": "code",
   "execution_count": 45,
   "metadata": {},
   "outputs": [
    {
     "data": {
      "text/plain": [
       "0.007177824996479771"
      ]
     },
     "execution_count": 45,
     "metadata": {},
     "output_type": "execute_result"
    }
   ],
   "source": [
    "beer_density = nx.density(beer_projection)\n",
    "beer_density"
   ]
  },
  {
   "cell_type": "markdown",
   "metadata": {},
   "source": [
    "#### 3.2 - Degree Statistics"
   ]
  },
  {
   "cell_type": "markdown",
   "metadata": {},
   "source": [
    "Degree statistics for the user graph."
   ]
  },
  {
   "cell_type": "code",
   "execution_count": 46,
   "metadata": {},
   "outputs": [
    {
     "name": "stdout",
     "output_type": "stream",
     "text": [
      "Avg User Degree: 28.16544655929722\n",
      "Min User Degree: 0\n",
      "Max User Degree: 186\n",
      "Median User Degree: 19.0\n",
      "Std User Degree: 26.874206843518703\n"
     ]
    }
   ],
   "source": [
    "user_degree = np.array([d for _, d in user_projection.degree()])\n",
    "\n",
    "print(f\"Avg User Degree: {np.mean(user_degree)}\")\n",
    "print(f\"Min User Degree: {np.min(user_degree)}\")\n",
    "print(f\"Max User Degree: {np.max(user_degree)}\")\n",
    "print(f\"Median User Degree: {np.median(user_degree)}\")\n",
    "print(f\"Std User Degree: {np.std(user_degree)}\")"
   ]
  },
  {
   "cell_type": "markdown",
   "metadata": {},
   "source": [
    "Degree statistics for the beer graph."
   ]
  },
  {
   "cell_type": "code",
   "execution_count": 47,
   "metadata": {},
   "outputs": [
    {
     "name": "stdout",
     "output_type": "stream",
     "text": [
      "Avg Beer Degree: 27.900205761316872\n",
      "Min Beer Degree: 1\n",
      "Max Beer Degree: 356\n",
      "Median Beer Degree: 15.0\n",
      "Std Beer Degree: 32.77587596426908\n"
     ]
    }
   ],
   "source": [
    "beer_degree = np.array([d for _, d in beer_projection.degree()])\n",
    "\n",
    "print(f\"Avg Beer Degree: {np.mean(beer_degree)}\")\n",
    "print(f\"Min Beer Degree: {np.min(beer_degree)}\")\n",
    "print(f\"Max Beer Degree: {np.max(beer_degree)}\")\n",
    "print(f\"Median Beer Degree: {np.median(beer_degree)}\")\n",
    "print(f\"Std Beer Degree: {np.std(beer_degree)}\")"
   ]
  },
  {
   "cell_type": "markdown",
   "metadata": {},
   "source": [
    "#### 3.3 - Degree Distribution"
   ]
  },
  {
   "cell_type": "code",
   "execution_count": 48,
   "metadata": {},
   "outputs": [],
   "source": [
    "def plot_degree_dist(G, bins):\n",
    "    degrees = [G.degree(n) for n in G.nodes()]\n",
    "    plt.hist(degrees, bins=bins)\n",
    "    plt.show()"
   ]
  },
  {
   "cell_type": "markdown",
   "metadata": {},
   "source": [
    "Degree distribution of the user graph."
   ]
  },
  {
   "cell_type": "code",
   "execution_count": 49,
   "metadata": {},
   "outputs": [
    {
     "data": {
      "image/png": "[encoded data removed]",
      "text/plain": [
       "<Figure size 600x400 with 1 Axes>"
      ]
     },
     "metadata": {},
     "output_type": "display_data"
    }
   ],
   "source": [
    "plt.figure(figsize=(6,4))\n",
    "plt.ylabel('Number of nodes (users)')\n",
    "plt.xlabel('Node Degree')\n",
    "plot_degree_dist(user_projection, bins=len(np.unique(user_degree)))"
   ]
  },
  {
   "cell_type": "markdown",
   "metadata": {},
   "source": [
    "Degree distribution of the beer graph."
   ]
  },
  {
   "cell_type": "code",
   "execution_count": 50,
   "metadata": {},
   "outputs": [
    {
     "data": {
      "image/png": "[encoded data removed]",
      "text/plain": [
       "<Figure size 700x400 with 1 Axes>"
      ]
     },
     "metadata": {},
     "output_type": "display_data"
    }
   ],
   "source": [
    "plt.figure(figsize=(7,4))\n",
    "plt.ylabel('Number of nodes (beers)')\n",
    "plt.xlabel('Node Degree')\n",
    "plot_degree_dist(beer_projection, bins=len(np.unique(beer_degree)))"
   ]
  },
  {
   "cell_type": "markdown",
   "metadata": {},
   "source": [
    "#### 3.4 - Comparison real network (users) vs. random network"
   ]
  },
  {
   "cell_type": "markdown",
   "metadata": {},
   "source": [
    "From page 25 my notes: start by obtaining $N_{k}$, i.e., the number of nodes with degree $k$. This variable is called `user_degree_count`."
   ]
  },
  {
   "cell_type": "markdown",
   "metadata": {},
   "source": [
    "If `user_degree_count` is printed, we can see that there are 171 nodes (users) having degree=0, 145 nodes (users) having degree=1, and so on..."
   ]
  },
  {
   "cell_type": "code",
   "execution_count": 51,
   "metadata": {},
   "outputs": [],
   "source": [
    "# create a list of degrees associated with each user\n",
    "user_degree_sequence = list(dict(user_projection.degree()).values())\n",
    "\n",
    "# initialize a dictionary\n",
    "user_degree_count = defaultdict(int)\n",
    "\n",
    "# for each distinct degree, count the number of nodes with that degree\n",
    "for d in user_degree_sequence:\n",
    "    user_degree_count[d]+=1\n",
    "\n",
    "# sort by the keys(items) in ascending order\n",
    "user_degree_count = dict(sorted(user_degree_count.items()))"
   ]
  },
  {
   "cell_type": "markdown",
   "metadata": {},
   "source": [
    "The second step consists of computing: $p_k = \\frac{N_{k}}{N}$, i.e. the degree distribution - in this case - of the users' nodes."
   ]
  },
  {
   "cell_type": "code",
   "execution_count": 52,
   "metadata": {},
   "outputs": [],
   "source": [
    "degree_distribution_users = []\n",
    "\n",
    "for i in user_degree_count.values():        # i represents N_k\n",
    "    degree_distribution_users.append(i/user_projection.order())     # N = user_projection.order()"
   ]
  },
  {
   "cell_type": "markdown",
   "metadata": {},
   "source": [
    "Now that we have everything to plot the degree distribution of the real network, we need an equivalent random network and use it to make comparison."
   ]
  },
  {
   "cell_type": "code",
   "execution_count": 53,
   "metadata": {},
   "outputs": [
    {
     "name": "stdout",
     "output_type": "stream",
     "text": [
      "Graph with 1366 nodes and 19140 edges\n"
     ]
    }
   ],
   "source": [
    "# generate a RN(N=N, p=density)\n",
    "random_network_user = nx.gnp_random_graph(n=user_projection.order(), p=user_density)\n",
    "print(random_network_user)"
   ]
  },
  {
   "cell_type": "markdown",
   "metadata": {},
   "source": [
    "Repeat the same steps done for the random network."
   ]
  },
  {
   "cell_type": "code",
   "execution_count": 54,
   "metadata": {},
   "outputs": [],
   "source": [
    "# create a list of degrees associated with each user\n",
    "random_network_user_degree_sequence = list(dict(random_network_user.degree()).values())\n",
    "\n",
    "# initialize a dictionary\n",
    "random_network_user_degree_count = defaultdict(int)\n",
    "\n",
    "# for each distinct degree, count the number of nodes with that degree\n",
    "for d in random_network_user_degree_sequence:\n",
    "    random_network_user_degree_count[d]+=1\n",
    "\n",
    "# sort by the keys(items) in ascending order\n",
    "random_network_user_degree_count = dict(sorted(random_network_user_degree_count.items()))"
   ]
  },
  {
   "cell_type": "code",
   "execution_count": 55,
   "metadata": {},
   "outputs": [],
   "source": [
    "degree_distribution_random_network_users = []\n",
    "\n",
    "for i in random_network_user_degree_count.values():        # i represents N_k\n",
    "    degree_distribution_random_network_users.append(i/random_network_user.order())     # N = user_projection.order()"
   ]
  },
  {
   "cell_type": "markdown",
   "metadata": {},
   "source": [
    "Finally visualize the two distributions."
   ]
  },
  {
   "cell_type": "code",
   "execution_count": 56,
   "metadata": {},
   "outputs": [
    {
     "data": {
      "image/png": "[encoded data removed]",
      "text/plain": [
       "<Figure size 640x480 with 1 Axes>"
      ]
     },
     "metadata": {},
     "output_type": "display_data"
    }
   ],
   "source": [
    "plt.loglog(user_degree_count.keys(), degree_distribution_users, \n",
    "           'o', label='Real Network', color='green', markersize=3)\n",
    "plt.loglog(random_network_user_degree_count.keys(), degree_distribution_random_network_users,\n",
    "           'o', label='Random Network', color='skyblue', markersize=3)\n",
    "plt.ylabel('log (p_k)')\n",
    "plt.xlabel('log(k)')\n",
    "plt.legend()\n",
    "plt.title('Users degree distribution')\n",
    "plt.xlim(0.9,1500)\n",
    "plt.show()"
   ]
  },
  {
   "cell_type": "markdown",
   "metadata": {},
   "source": [
    "#### 3.5 - Comparison ECCDF real vs. random network (users)"
   ]
  },
  {
   "cell_type": "markdown",
   "metadata": {},
   "source": [
    "Compute the ECCDF for the users distribution."
   ]
  },
  {
   "cell_type": "code",
   "execution_count": 177,
   "metadata": {},
   "outputs": [],
   "source": [
    "cp_k_user = np.cumsum(degree_distribution_users)\n",
    "eccdf_users = [1-c for c in cp_k_user]"
   ]
  },
  {
   "cell_type": "code",
   "execution_count": 176,
   "metadata": {},
   "outputs": [],
   "source": [
    "plot_degree_users = list(user_degree_count.keys())\n",
    "rn_user_plot_degree = list(random_network_user_degree_count.keys())"
   ]
  },
  {
   "cell_type": "markdown",
   "metadata": {},
   "source": [
    "Compute the ECCDF for the random users distribution."
   ]
  },
  {
   "cell_type": "code",
   "execution_count": 180,
   "metadata": {},
   "outputs": [],
   "source": [
    "cp_k_random_user = np.cumsum(degree_distribution_random_network_users)\n",
    "eccdf_users_random = [1-c for c in cp_k_random_user]"
   ]
  },
  {
   "cell_type": "code",
   "execution_count": 189,
   "metadata": {},
   "outputs": [
    {
     "data": {
      "image/png": "[encoded data removed]",
      "text/plain": [
       "<Figure size 640x480 with 1 Axes>"
      ]
     },
     "metadata": {},
     "output_type": "display_data"
    }
   ],
   "source": [
    "plt.loglog(plot_degree_users[:len(plot_degree_users)-1], eccdf_users[:len(eccdf_users)-1],\n",
    "            'o', markersize=2, color = 'green', label='Real Network')\n",
    "plt.loglog(rn_user_plot_degree[:len(rn_user_plot_degree)-1], eccdf_users_random[:len(eccdf_users_random)-1],\n",
    "           'o', markersize=2, color='skyblue', label='Random Network')\n",
    "plt.ylabel('log(p_k)')\n",
    "plt.xlabel('log_k')\n",
    "plt.legend()\n",
    "plt.title('ECCDF Real Network vs Random Network')\n",
    "plt.show()"
   ]
  },
  {
   "cell_type": "markdown",
   "metadata": {},
   "source": [
    "#### 3.6 - Comparison real network (beers) vs. random network"
   ]
  },
  {
   "cell_type": "markdown",
   "metadata": {},
   "source": [
    "From page 25 my notes: start by obtaining $N_{k}$, i.e., the number of nodes with degree $k$. This variable is called `beer_degree_count`."
   ]
  },
  {
   "cell_type": "markdown",
   "metadata": {},
   "source": [
    "If `beer_degree_count` is printed, we can see that there are 171 nodes (users) having degree=0, 145 nodes (users) having degree=1, and so on..."
   ]
  },
  {
   "cell_type": "code",
   "execution_count": 57,
   "metadata": {},
   "outputs": [],
   "source": [
    "# create a list of degrees associated with each beer\n",
    "beer_degree_sequence = list(dict(beer_projection.degree()).values())\n",
    "\n",
    "# initialize a dictionary\n",
    "beer_degree_count = defaultdict(int)\n",
    "\n",
    "# for each distinct degree, count the number of nodes with that degree\n",
    "for d in beer_degree_sequence:\n",
    "    beer_degree_count[d]+=1\n",
    "\n",
    "# sort by the keys(items) in ascending order\n",
    "beer_degree_count = dict(sorted(beer_degree_count.items()))"
   ]
  },
  {
   "cell_type": "markdown",
   "metadata": {},
   "source": [
    "The second step consists of computing: $p_k = \\frac{N_{k}}{N}$, i.e. the degree distribution - in this case - of the beers' nodes."
   ]
  },
  {
   "cell_type": "code",
   "execution_count": 58,
   "metadata": {},
   "outputs": [],
   "source": [
    "degree_distribution_beers = []\n",
    "\n",
    "for i in beer_degree_count.values():        # i represents N_k\n",
    "    degree_distribution_beers.append(i/beer_projection.order())     # N = beer_projection.order()"
   ]
  },
  {
   "cell_type": "markdown",
   "metadata": {},
   "source": [
    "Now that we have everything to plot the degree distribution of the real network, we need an equivalent random network and use it to make comparison."
   ]
  },
  {
   "cell_type": "code",
   "execution_count": 59,
   "metadata": {},
   "outputs": [
    {
     "name": "stdout",
     "output_type": "stream",
     "text": [
      "Graph with 3888 nodes and 54189 edges\n"
     ]
    }
   ],
   "source": [
    "# generate a RN(N=N, p=density)\n",
    "random_network_beer = nx.gnp_random_graph(n=beer_projection.order(), p=beer_density)\n",
    "print(random_network_beer)"
   ]
  },
  {
   "cell_type": "markdown",
   "metadata": {},
   "source": [
    "Repeat the same steps done for the random network."
   ]
  },
  {
   "cell_type": "code",
   "execution_count": 60,
   "metadata": {},
   "outputs": [],
   "source": [
    "# create a list of degrees associated with each beer\n",
    "random_network_beer_degree_sequence = list(dict(random_network_beer.degree()).values())\n",
    "\n",
    "# initialize a dictionary\n",
    "random_network_beer_degree_count = defaultdict(int)\n",
    "\n",
    "# for each distinct degree, count the number of nodes with that degree\n",
    "for d in random_network_beer_degree_sequence:\n",
    "    random_network_beer_degree_count[d]+=1\n",
    "\n",
    "# sort by the keys(items) in ascending order\n",
    "random_network_beer_degree_count = dict(sorted(random_network_beer_degree_count.items()))"
   ]
  },
  {
   "cell_type": "code",
   "execution_count": 61,
   "metadata": {},
   "outputs": [],
   "source": [
    "degree_distribution_random_network_beers = []\n",
    "\n",
    "for i in random_network_beer_degree_count.values():        # i represents N_k\n",
    "    degree_distribution_random_network_beers.append(i/random_network_beer.order())     # N = user_projection.order()"
   ]
  },
  {
   "cell_type": "markdown",
   "metadata": {},
   "source": [
    "Finally visualize the two distributions."
   ]
  },
  {
   "cell_type": "code",
   "execution_count": 62,
   "metadata": {},
   "outputs": [
    {
     "data": {
      "image/png": "[encoded data removed]",
      "text/plain": [
       "<Figure size 640x480 with 1 Axes>"
      ]
     },
     "metadata": {},
     "output_type": "display_data"
    }
   ],
   "source": [
    "plt.loglog(beer_degree_count.keys(), degree_distribution_beers, \n",
    "           'o', label='Real Network', color='green', markersize=3)\n",
    "plt.loglog(random_network_beer_degree_count.keys(), degree_distribution_random_network_beers,\n",
    "           'o', label='Random Network', color='skyblue', markersize=3)\n",
    "plt.ylabel('log (p_k)')\n",
    "plt.xlabel('log(k)')\n",
    "plt.legend()\n",
    "plt.title('Beers degree distribution')\n",
    "plt.xlim(0.9,1500)\n",
    "plt.show()"
   ]
  },
  {
   "cell_type": "markdown",
   "metadata": {},
   "source": [
    "#### 3.7 - Comparison ECCDF real network vs. random (beers)"
   ]
  },
  {
   "cell_type": "markdown",
   "metadata": {},
   "source": [
    "Compute the ECCDF for the beers distribution."
   ]
  },
  {
   "cell_type": "code",
   "execution_count": 190,
   "metadata": {},
   "outputs": [],
   "source": [
    "cp_k_beer = np.cumsum(degree_distribution_beers)\n",
    "eccdf_beers = [1-c for c in cp_k_beer]"
   ]
  },
  {
   "cell_type": "code",
   "execution_count": 191,
   "metadata": {},
   "outputs": [],
   "source": [
    "plot_degree_beers = list(beer_degree_count.keys())\n",
    "rn_beer_plot_degree = list(random_network_beer_degree_count.keys())"
   ]
  },
  {
   "cell_type": "markdown",
   "metadata": {},
   "source": [
    "Compute the ECCDF for the random users distribution."
   ]
  },
  {
   "cell_type": "code",
   "execution_count": 192,
   "metadata": {},
   "outputs": [],
   "source": [
    "cp_k_random_beer = np.cumsum(degree_distribution_random_network_beers)\n",
    "eccdf_beers_random = [1-c for c in cp_k_random_beer]"
   ]
  },
  {
   "cell_type": "code",
   "execution_count": 193,
   "metadata": {},
   "outputs": [
    {
     "data": {
      "image/png": "[encoded data removed]",
      "text/plain": [
       "<Figure size 640x480 with 1 Axes>"
      ]
     },
     "metadata": {},
     "output_type": "display_data"
    }
   ],
   "source": [
    "plt.loglog(plot_degree_beers[:len(plot_degree_beers)-1], eccdf_beers[:len(eccdf_beers)-1],\n",
    "            'o', markersize=2, color = 'green', label='Real Network')\n",
    "plt.loglog(rn_beer_plot_degree[:len(rn_beer_plot_degree)-1], eccdf_beers_random[:len(eccdf_beers_random)-1],\n",
    "           'o', markersize=2, color='skyblue', label='Random Network')\n",
    "plt.ylabel('log(p_k)')\n",
    "plt.xlabel('log_k')\n",
    "plt.legend()\n",
    "plt.title('ECCDF Real Network vs Random Network')\n",
    "plt.show()"
   ]
  },
  {
   "cell_type": "markdown",
   "metadata": {},
   "source": [
    "# 4 - Centrality"
   ]
  },
  {
   "cell_type": "markdown",
   "metadata": {},
   "source": [
    "- degree centrality\n",
    "- closeness centrality\n",
    "- betweenness centrality\n",
    "- eigenvector centrality"
   ]
  },
  {
   "cell_type": "code",
   "execution_count": 63,
   "metadata": {},
   "outputs": [],
   "source": [
    "def centrality_revealer(centrality_measure, n=5):\n",
    "    centrality_measure=list(centrality_measure.items())\n",
    "    centrality_measure.sort(key=lambda x:x[1], reverse=True)\n",
    "    centrality_measure = [(node,round(value, 2)) for node, value in centrality_measure]\n",
    "    print(centrality_measure[:n])"
   ]
  },
  {
   "cell_type": "markdown",
   "metadata": {},
   "source": [
    "#### 4.1 - Centrality measures on the `users` graph."
   ]
  },
  {
   "cell_type": "code",
   "execution_count": 64,
   "metadata": {},
   "outputs": [],
   "source": [
    "deg_cent_users = nx.degree_centrality(user_projection)\n",
    "clo_cent_users = nx.closeness_centrality(user_projection)\n",
    "bet_cent_users = nx.betweenness_centrality(user_projection)\n",
    "eig_cent_users = nx.eigenvector_centrality(user_projection)"
   ]
  },
  {
   "cell_type": "code",
   "execution_count": 65,
   "metadata": {},
   "outputs": [
    {
     "data": {
      "image/png": "[encoded data removed]",
      "text/plain": [
       "<Figure size 700x400 with 2 Axes>"
      ]
     },
     "metadata": {},
     "output_type": "display_data"
    }
   ],
   "source": [
    "centrality_data_user = {\n",
    "    'Degree Centrality': list(deg_cent_users.values()),\n",
    "    'Closeness Centrality': list(clo_cent_users.values()),\n",
    "    'Betweenness Centrality': list(bet_cent_users.values()),\n",
    "    'Eigenvector Centrality': list(eig_cent_users.values())\n",
    "}\n",
    "\n",
    "# Convert the data to a DataFrame\n",
    "centrality_user_df = pd.DataFrame(centrality_data_user)\n",
    "\n",
    "# Compute the Pearson correlation matrix\n",
    "cm_user = centrality_user_df.corr()\n",
    "\n",
    "# Set up a seaborn heatmap for visualization\n",
    "plt.figure(figsize=(7, 4))\n",
    "sns.heatmap(cm_user, annot=True, cmap='coolwarm', linewidths=0.5)\n",
    "plt.title('Pearson Correlation of Users Centrality')\n",
    "plt.show()"
   ]
  },
  {
   "cell_type": "markdown",
   "metadata": {},
   "source": [
    "Who are the most central users according to the corresponding centrality measures?"
   ]
  },
  {
   "cell_type": "code",
   "execution_count": 66,
   "metadata": {},
   "outputs": [
    {
     "name": "stdout",
     "output_type": "stream",
     "text": [
      "Degree Centrality: \n",
      "[('Knapp85', 0.14), ('gtermi', 0.11), ('kojevergas', 0.1), ('tsauce2', 0.1), ('StoneBrewFanatic', 0.1)]\n",
      " \n",
      "Closeness Centrality:\n",
      "[('Knapp85', 0.49), ('kojevergas', 0.48), ('mdaschaf', 0.48), ('gtermi', 0.48), ('dogfishandi', 0.47)]\n",
      " \n",
      "Betweenness Centrality:\n",
      "[('Knapp85', 0.04), ('kojevergas', 0.02), ('DrinkSlurm', 0.02), ('gtermi', 0.02), ('jmarsh123', 0.02)]\n",
      " \n",
      "Eigenvector Centrality:\n",
      "[('StoneBrewFanatic', 0.14), ('Tucquan', 0.13), ('marlinsfan4', 0.12), ('dogfishandi', 0.11), ('socon67', 0.11)]\n"
     ]
    }
   ],
   "source": [
    "print('Degree Centrality: ')\n",
    "centrality_revealer(deg_cent_users)\n",
    "print(' ')\n",
    "print('Closeness Centrality:')\n",
    "centrality_revealer(clo_cent_users)\n",
    "print(' ')\n",
    "print('Betweenness Centrality:')\n",
    "centrality_revealer(bet_cent_users)\n",
    "print(' ')\n",
    "print('Eigenvector Centrality:')\n",
    "centrality_revealer(eig_cent_users)"
   ]
  },
  {
   "cell_type": "markdown",
   "metadata": {},
   "source": [
    "#### 4.2 - Centrality measures on the `beers` graph."
   ]
  },
  {
   "cell_type": "code",
   "execution_count": null,
   "metadata": {},
   "outputs": [],
   "source": [
    "deg_cent_beers = nx.degree_centrality(beer_projection)\n",
    "clo_cent_beers = nx.closeness_centrality(beer_projection)\n",
    "bet_cent_beers = nx.betweenness_centrality(beer_projection)\n",
    "eig_cent_beers = nx.eigenvector_centrality(beer_projection)"
   ]
  },
  {
   "cell_type": "code",
   "execution_count": null,
   "metadata": {},
   "outputs": [
    {
     "data": {
      "image/png": "[encoded data removed]",
      "text/plain": [
       "<Figure size 700x400 with 2 Axes>"
      ]
     },
     "metadata": {},
     "output_type": "display_data"
    }
   ],
   "source": [
    "centrality_data_beers = {\n",
    "    'Degree Centrality': list(deg_cent_beers.values()),\n",
    "    'Closeness Centrality': list(clo_cent_beers.values()),\n",
    "    'Betweenness Centrality': list(bet_cent_beers.values()),\n",
    "    'Eigenvector Centrality': list(eig_cent_beers.values())\n",
    "}\n",
    "\n",
    "# Convert the data to a DataFrame\n",
    "centrality_beer_df = pd.DataFrame(centrality_data_beers)\n",
    "\n",
    "# Compute the Pearson correlation matrix\n",
    "cm_beers = centrality_beer_df.corr()\n",
    "\n",
    "# Set up a seaborn heatmap for visualization\n",
    "plt.figure(figsize=(7, 4))\n",
    "sns.heatmap(cm_beers, annot=True, cmap='coolwarm', linewidths=0.5)\n",
    "plt.title('Pearson Correlation of Beers Centrality')\n",
    "plt.show()"
   ]
  },
  {
   "cell_type": "markdown",
   "metadata": {},
   "source": [
    "Who are the most central users according to the corresponding centrality measures?"
   ]
  },
  {
   "cell_type": "code",
   "execution_count": null,
   "metadata": {},
   "outputs": [
    {
     "name": "stdout",
     "output_type": "stream",
     "text": [
      "Degree Centrality: \n",
      "[('The Alchemist / Ninkasi / Stone - More Brown Than Black IPA', 0.09), ('Sierra Nevada Ruthless Rye IPA', 0.07), ('Lagunitas Sucks Holiday Ale', 0.07), ('Stone 11.11.11 Vertical Epic Ale', 0.07), ('Our Special Ale 2011 (Anchor Christmas Ale)', 0.06)]\n",
      " \n",
      "Closeness Centrality:\n",
      "[('Lagunitas Sucks Holiday Ale', 0.45), ('The Alchemist / Ninkasi / Stone - More Brown Than Black IPA', 0.45), ('Sierra Nevada Ruthless Rye IPA', 0.44), ('Stone 11.11.11 Vertical Epic Ale', 0.44), ('Dark Intrigue', 0.44)]\n",
      " \n",
      "Betweenness Centrality:\n",
      "[('The Alchemist / Ninkasi / Stone - More Brown Than Black IPA', 0.04), ('Lagunitas Sucks Holiday Ale', 0.04), ('Sierra Nevada Ruthless Rye IPA', 0.03), ('Stone 11.11.11 Vertical Epic Ale', 0.03), ('Our Special Ale 2011 (Anchor Christmas Ale)', 0.02)]\n",
      " \n",
      "Eigenvector Centrality:\n",
      "[('Mocha Porter', 0.1), ('Black Butte Porter', 0.1), ('Inversion IPA', 0.1), ('Jubelale', 0.1), ('Chocolate Stout', 0.1)]\n"
     ]
    }
   ],
   "source": [
    "print('Degree Centrality: ')\n",
    "centrality_revealer(deg_cent_beers)\n",
    "print(' ')\n",
    "print('Closeness Centrality:')\n",
    "centrality_revealer(clo_cent_beers)\n",
    "print(' ')\n",
    "print('Betweenness Centrality:')\n",
    "centrality_revealer(bet_cent_beers)\n",
    "print(' ')\n",
    "print('Eigenvector Centrality:')\n",
    "centrality_revealer(eig_cent_beers)"
   ]
  },
  {
   "cell_type": "markdown",
   "metadata": {},
   "source": [
    "# 5 - Connectivity"
   ]
  },
  {
   "cell_type": "markdown",
   "metadata": {},
   "source": [
    "_\"A graph is `connected` if there exists a path between any two nodes in it.\"_"
   ]
  },
  {
   "cell_type": "markdown",
   "metadata": {},
   "source": [
    "_\"A `connected component` is a subgraph of a network such that there exists at least one path from each member of that subgraph to each other member\"_"
   ]
  },
  {
   "cell_type": "markdown",
   "metadata": {},
   "source": [
    "#### 5.1 - User Network"
   ]
  },
  {
   "cell_type": "code",
   "execution_count": 126,
   "metadata": {},
   "outputs": [
    {
     "name": "stdout",
     "output_type": "stream",
     "text": [
      "False\n",
      "29\n"
     ]
    }
   ],
   "source": [
    "print(nx.is_connected(user_projection))\n",
    "print(nx.number_connected_components(user_projection))"
   ]
  },
  {
   "cell_type": "markdown",
   "metadata": {},
   "source": [
    "Retrieve the connected components and their corresponding size."
   ]
  },
  {
   "cell_type": "code",
   "execution_count": 112,
   "metadata": {},
   "outputs": [],
   "source": [
    "# Retrieve the members of each component\n",
    "components_user = [cc for cc in nx.connected_components(user_projection)]\n",
    "\n",
    "# Compute the number of users in each connected component\n",
    "len_cc_user = [len(cc) for cc in nx.connected_components(user_projection)]\n",
    "len_cc_user[:6]"
   ]
  },
  {
   "cell_type": "markdown",
   "metadata": {},
   "source": [
    "Retrieve the dimensions of the largest cc, and compute ASPL and diameter."
   ]
  },
  {
   "cell_type": "code",
   "execution_count": 101,
   "metadata": {},
   "outputs": [
    {
     "name": "stdout",
     "output_type": "stream",
     "text": [
      "Graph with 1338 nodes and 19237 edges\n"
     ]
    }
   ],
   "source": [
    "# Compute the largest connected component\n",
    "lcc_user = user_projection.subgraph(components_user[0])\n",
    "print(lcc_user)\n",
    "\n",
    "# Compute average shortest path length for the lcc_user\n",
    "print(nx.average_shortest_path_length(lcc_user))\n",
    "\n",
    "# obtain the diameter\n",
    "print(nx.diameter(lcc_user))"
   ]
  },
  {
   "cell_type": "markdown",
   "metadata": {},
   "source": [
    "_This means that, on average, it takes approximately 2.65 connections to travel from one user to another within the largest connected component. A lower ASPL indicates a more tightly connected network, where users are, on average, closer to each other in terms of connectivity._"
   ]
  },
  {
   "cell_type": "markdown",
   "metadata": {},
   "source": [
    "_The relatively low average shortest path length (2.65) suggests that, on average, users within the largest connected component are closely connected. The network allows for efficient communication or traversal between users._"
   ]
  },
  {
   "cell_type": "markdown",
   "metadata": {},
   "source": [
    "_The diameter of a connected component is the length of the longest shortest path between any pair of nodes in that component. Diameter=6 means that the longest chain of connections between any two users within the largest connected component consists of 6 steps.The diameter provides a sense of the \"maximum distance\" between any two users in the largest connected component._"
   ]
  },
  {
   "cell_type": "code",
   "execution_count": 127,
   "metadata": {},
   "outputs": [
    {
     "data": {
      "text/plain": [
       "0.9795021961932651"
      ]
     },
     "execution_count": 127,
     "metadata": {},
     "output_type": "execute_result"
    }
   ],
   "source": [
    "len(lcc_user)/sum(len_cc_user)"
   ]
  },
  {
   "cell_type": "markdown",
   "metadata": {},
   "source": [
    "_The largest cc for users covers more than 97% of the whole user_projection!_"
   ]
  },
  {
   "cell_type": "markdown",
   "metadata": {},
   "source": [
    "Reproduce the plot in slide 8/14 'connectivity'."
   ]
  },
  {
   "cell_type": "code",
   "execution_count": 133,
   "metadata": {},
   "outputs": [
    {
     "data": {
      "text/plain": [
       "Text(0.5, 1.0, 'Components Size distribution for User Projection')"
      ]
     },
     "execution_count": 133,
     "metadata": {},
     "output_type": "execute_result"
    },
    {
     "data": {
      "image/png": "[encoded data removed]",
      "text/plain": [
       "<Figure size 640x480 with 1 Axes>"
      ]
     },
     "metadata": {},
     "output_type": "display_data"
    }
   ],
   "source": [
    "components_user_dict = defaultdict(int)\n",
    "\n",
    "for cc in len_cc_user:\n",
    "    components_user_dict[cc] +=1\n",
    "\n",
    "plt.loglog(components_user_dict.keys(), components_user_dict.values(), 'o')\n",
    "plt.ylabel('Number of Components')\n",
    "plt.xlabel('Component Size')\n",
    "plt.title('Components Size distribution for User Projection')"
   ]
  },
  {
   "cell_type": "markdown",
   "metadata": {},
   "source": [
    "#### 5.2 - Beer Network"
   ]
  },
  {
   "cell_type": "code",
   "execution_count": 72,
   "metadata": {},
   "outputs": [
    {
     "data": {
      "text/plain": [
       "False"
      ]
     },
     "execution_count": 72,
     "metadata": {},
     "output_type": "execute_result"
    }
   ],
   "source": [
    "print(nx.is_connected(beer_projection))\n",
    "print(nx.number_connected_components(beer_projection))"
   ]
  },
  {
   "cell_type": "markdown",
   "metadata": {},
   "source": [
    "Retrieve the connected components and their corresponding size."
   ]
  },
  {
   "cell_type": "code",
   "execution_count": 115,
   "metadata": {},
   "outputs": [],
   "source": [
    "# Retrieve the members of each component\n",
    "components_beer = [cc for cc in nx.connected_components(beer_projection)]\n",
    "\n",
    "# compute the number of beers in each component\n",
    "len_cc_beers = [len(cc) for cc in nx.connected_components(beer_projection)]\n",
    "len_cc_beers[:4]"
   ]
  },
  {
   "cell_type": "markdown",
   "metadata": {},
   "source": [
    "Retrieve the dimenstions of the largest cc, and compute ASPL and diameter."
   ]
  },
  {
   "cell_type": "code",
   "execution_count": 123,
   "metadata": {},
   "outputs": [
    {
     "name": "stdout",
     "output_type": "stream",
     "text": [
      "Graph with 3802 nodes and 54119 edges\n"
     ]
    }
   ],
   "source": [
    "lcc_beer = beer_projection.subgraph(components_beer[0])\n",
    "print(lcc_beer)\n",
    "\n",
    "# retrieve the ASPL\n",
    "print(nx.average_shortest_path_length(lcc_beer))\n",
    "\n",
    "# retrieve the diameter\n",
    "print(nx.diameter(lcc_beer))"
   ]
  },
  {
   "cell_type": "code",
   "execution_count": 131,
   "metadata": {},
   "outputs": [
    {
     "data": {
      "text/plain": [
       "0.977880658436214"
      ]
     },
     "execution_count": 131,
     "metadata": {},
     "output_type": "execute_result"
    }
   ],
   "source": [
    "len(lcc_beer)/sum(len_cc_beers)"
   ]
  },
  {
   "cell_type": "markdown",
   "metadata": {},
   "source": [
    "Reproduce the plot in slide 8/14 'connectivity'."
   ]
  },
  {
   "cell_type": "code",
   "execution_count": 134,
   "metadata": {},
   "outputs": [
    {
     "data": {
      "text/plain": [
       "Text(0.5, 1.0, 'Components Size distribution for Beer Projection')"
      ]
     },
     "execution_count": 134,
     "metadata": {},
     "output_type": "execute_result"
    },
    {
     "data": {
      "image/png": "[encoded data removed]",
      "text/plain": [
       "<Figure size 640x480 with 1 Axes>"
      ]
     },
     "metadata": {},
     "output_type": "display_data"
    }
   ],
   "source": [
    "components_beer_dict = defaultdict(int)\n",
    "\n",
    "for cc in len_cc_beers:\n",
    "    components_beer_dict[cc] +=1\n",
    "\n",
    "plt.loglog(components_beer_dict.keys(), components_beer_dict.values(), 'o')\n",
    "plt.ylabel('Number of Components')\n",
    "plt.xlabel('Component Size')\n",
    "plt.title('Components Size distribution for Beer Projection')"
   ]
  },
  {
   "cell_type": "markdown",
   "metadata": {},
   "source": [
    "# 6 - Bridges"
   ]
  },
  {
   "cell_type": "markdown",
   "metadata": {},
   "source": [
    "_\"A `bridge` in a graph is an edge whose removal causes the number of connected components of the graph to increase. Equivalently, a bridge is an edge that does not belong to any cycle.\"_"
   ]
  },
  {
   "cell_type": "markdown",
   "metadata": {},
   "source": [
    "_\"A `local bridge` is an edge whose endpoints have no common neighbors. That is, the edge is not part of a triangle in the graph.\"_"
   ]
  },
  {
   "cell_type": "markdown",
   "metadata": {},
   "source": [
    "#### 6.1 - Beers"
   ]
  },
  {
   "cell_type": "code",
   "execution_count": 165,
   "metadata": {},
   "outputs": [
    {
     "data": {
      "text/plain": [
       "True"
      ]
     },
     "execution_count": 165,
     "metadata": {},
     "output_type": "execute_result"
    }
   ],
   "source": [
    "nx.has_bridges(user_projection)"
   ]
  },
  {
   "cell_type": "code",
   "execution_count": 171,
   "metadata": {},
   "outputs": [
    {
     "name": "stdout",
     "output_type": "stream",
     "text": [
      "42\n",
      "0.0021832926131933254\n"
     ]
    }
   ],
   "source": [
    "bridges_user = len(list(nx.bridges(user_projection)))\n",
    "print(bridges_user)\n",
    "print(bridges_user/nx.number_of_edges(user_projection))"
   ]
  },
  {
   "cell_type": "code",
   "execution_count": 172,
   "metadata": {},
   "outputs": [
    {
     "name": "stdout",
     "output_type": "stream",
     "text": [
      "293\n",
      "0.015231065134896294\n"
     ]
    }
   ],
   "source": [
    "local_bridges_user = len(list(nx.local_bridges(user_projection)))\n",
    "print(local_bridges_user)\n",
    "print(local_bridges_user/nx.number_of_edges(user_projection))"
   ]
  },
  {
   "cell_type": "markdown",
   "metadata": {},
   "source": [
    "#### 6.2 - Beers"
   ]
  },
  {
   "cell_type": "code",
   "execution_count": 173,
   "metadata": {},
   "outputs": [
    {
     "data": {
      "text/plain": [
       "True"
      ]
     },
     "execution_count": 173,
     "metadata": {},
     "output_type": "execute_result"
    }
   ],
   "source": [
    "nx.has_bridges(beer_projection)"
   ]
  },
  {
   "cell_type": "code",
   "execution_count": 174,
   "metadata": {},
   "outputs": [
    {
     "name": "stdout",
     "output_type": "stream",
     "text": [
      "114\n",
      "0.002101847413252701\n"
     ]
    }
   ],
   "source": [
    "bridges_beer = len(list(nx.bridges(beer_projection)))\n",
    "print(bridges_beer)\n",
    "print(bridges_beer/nx.number_of_edges(beer_projection))"
   ]
  },
  {
   "cell_type": "code",
   "execution_count": 175,
   "metadata": {},
   "outputs": [
    {
     "name": "stdout",
     "output_type": "stream",
     "text": [
      "205\n",
      "0.0037796378922526643\n"
     ]
    }
   ],
   "source": [
    "local_bridges_beer = len(list(nx.local_bridges(beer_projection)))\n",
    "print(local_bridges_beer)\n",
    "print(local_bridges_beer/nx.number_of_edges(beer_projection))"
   ]
  },
  {
   "cell_type": "markdown",
   "metadata": {},
   "source": [
    "_\"Analyzing bridges and local bridges can provide insights into the critical edges that, if removed, could impact the overall connectivity or local structure of your network. It's a valuable analysis for understanding the resilience and vulnerability of the network.\"_"
   ]
  },
  {
   "cell_type": "markdown",
   "metadata": {},
   "source": [
    "# 7 - Assortativity"
   ]
  },
  {
   "cell_type": "markdown",
   "metadata": {},
   "source": [
    "#### 7.1 - Users"
   ]
  },
  {
   "cell_type": "markdown",
   "metadata": {},
   "source": [
    "Assortativity coefficient."
   ]
  },
  {
   "cell_type": "code",
   "execution_count": 194,
   "metadata": {},
   "outputs": [
    {
     "data": {
      "text/plain": [
       "0.060453799433484286"
      ]
     },
     "execution_count": 194,
     "metadata": {},
     "output_type": "execute_result"
    }
   ],
   "source": [
    "nx.degree_assortativity_coefficient(user_projection)"
   ]
  },
  {
   "cell_type": "markdown",
   "metadata": {},
   "source": [
    "Average neighbor degree. _Returns the average degree of the neighborhood of each node._"
   ]
  },
  {
   "cell_type": "code",
   "execution_count": 201,
   "metadata": {},
   "outputs": [],
   "source": [
    "# nx.average_neighbor_degree(user_projection)"
   ]
  },
  {
   "cell_type": "markdown",
   "metadata": {},
   "source": [
    "Average degree connectivity. _Compute the average degree connectivity of graph_"
   ]
  },
  {
   "cell_type": "code",
   "execution_count": 204,
   "metadata": {},
   "outputs": [],
   "source": [
    "# nx.average_degree_connectivity(user_projection)"
   ]
  },
  {
   "cell_type": "markdown",
   "metadata": {},
   "source": [
    "#### 7.2 - Beers"
   ]
  },
  {
   "cell_type": "markdown",
   "metadata": {},
   "source": [
    "Assortativity coefficient."
   ]
  },
  {
   "cell_type": "code",
   "execution_count": 195,
   "metadata": {},
   "outputs": [
    {
     "data": {
      "text/plain": [
       "0.14359429730055787"
      ]
     },
     "execution_count": 195,
     "metadata": {},
     "output_type": "execute_result"
    }
   ],
   "source": [
    "nx.degree_assortativity_coefficient(beer_projection)"
   ]
  },
  {
   "cell_type": "markdown",
   "metadata": {},
   "source": [
    "Average neighbor degree."
   ]
  },
  {
   "cell_type": "code",
   "execution_count": 202,
   "metadata": {},
   "outputs": [],
   "source": [
    "# nx.average_neighbor_degree(beer_projection)"
   ]
  },
  {
   "cell_type": "markdown",
   "metadata": {},
   "source": [
    "Average degree connectivity. _Compute the average degree connectivity of graph_"
   ]
  },
  {
   "cell_type": "code",
   "execution_count": 205,
   "metadata": {},
   "outputs": [],
   "source": [
    "# nx.average_degree_connectivity(beer_projection)"
   ]
  },
  {
   "cell_type": "markdown",
   "metadata": {},
   "source": [
    "# 8 - Transitivity"
   ]
  },
  {
   "cell_type": "markdown",
   "metadata": {},
   "source": [
    "#### 8.1 - Users"
   ]
  },
  {
   "cell_type": "code",
   "execution_count": 208,
   "metadata": {},
   "outputs": [
    {
     "name": "stdout",
     "output_type": "stream",
     "text": [
      "0.31710176599137674\n",
      "0.44769878514688516\n"
     ]
    }
   ],
   "source": [
    "# Global Clustering Coefficient\n",
    "print(nx.transitivity(user_projection))\n",
    "\n",
    "# Local Clustering Coefficient\n",
    "print(nx.average_clustering(user_projection))"
   ]
  },
  {
   "cell_type": "markdown",
   "metadata": {},
   "source": [
    "#### 8.2 - Beers"
   ]
  },
  {
   "cell_type": "code",
   "execution_count": 209,
   "metadata": {},
   "outputs": [
    {
     "name": "stdout",
     "output_type": "stream",
     "text": [
      "0.5057849883758987\n",
      "0.7573615923432416\n"
     ]
    }
   ],
   "source": [
    "# Local Clustering Coefficient\n",
    "print(nx.transitivity(beer_projection))\n",
    "\n",
    "# Global Clustering Coefficient\n",
    "print(nx.average_clustering(beer_projection))"
   ]
  },
  {
   "cell_type": "markdown",
   "metadata": {},
   "source": [
    "# X - **Separator**"
   ]
  },
  {
   "cell_type": "markdown",
   "metadata": {},
   "source": [
    "### **Option B - keep a certain number only**"
   ]
  },
  {
   "cell_type": "markdown",
   "metadata": {},
   "source": [
    "Start from keeping 1% of the observations only. It's a huge downsampling, may re-evaluate this."
   ]
  },
  {
   "cell_type": "code",
   "execution_count": null,
   "metadata": {},
   "outputs": [
    {
     "data": {
      "text/plain": [
       "brewery_id             516\n",
       "brewery_name           516\n",
       "review_time           1500\n",
       "review_overall           9\n",
       "review_aroma             9\n",
       "review_appearance        9\n",
       "review_profilename    1160\n",
       "beer_style              99\n",
       "review_palate            9\n",
       "review_taste             9\n",
       "beer_name             1187\n",
       "beer_abv               144\n",
       "beer_id               1198\n",
       "dtype: int64"
      ]
     },
     "metadata": {},
     "output_type": "display_data"
    }
   ],
   "source": [
    "sub_beer_df = beer_df.sample(n=1500, replace=False, random_state=40)\n",
    "sub_beer_df.nunique()"
   ]
  },
  {
   "cell_type": "code",
   "execution_count": null,
   "metadata": {},
   "outputs": [
    {
     "data": {
      "text/plain": [
       "(1500, 13)"
      ]
     },
     "metadata": {},
     "output_type": "display_data"
    }
   ],
   "source": [
    "sub_beer_df.shape"
   ]
  },
  {
   "cell_type": "markdown",
   "metadata": {},
   "source": [
    "### **Option C - Stratified Sampling**"
   ]
  },
  {
   "cell_type": "code",
   "execution_count": null,
   "metadata": {},
   "outputs": [
    {
     "name": "stdout",
     "output_type": "stream",
     "text": [
      "(20264, 13)\n"
     ]
    }
   ],
   "source": [
    "# Calculate the number of reviews per user and per beer\n",
    "user_review_counts = beer_df['review_profilename'].value_counts()\n",
    "beer_review_counts = beer_df['beer_name'].value_counts()\n",
    "\n",
    "# Define a threshold for the minimum number of reviews (adjust as needed)\n",
    "user_threshold = 1200\n",
    "beer_threshold = 1200\n",
    "\n",
    "# Identify users and beers that meet the threshold\n",
    "selected_users = user_review_counts[user_review_counts >= user_threshold].index\n",
    "selected_beers = beer_review_counts[beer_review_counts >= beer_threshold].index\n",
    "\n",
    "# Subset the data based on selected users and beers\n",
    "sub_beer_df = beer_df[(beer_df['review_profilename'].isin(selected_users)) & (beer_df['beer_name'].isin(selected_beers))]\n",
    "\n",
    "# Check the size of the filtered dataframe\n",
    "print(sub_beer_df.shape)"
   ]
  },
  {
   "cell_type": "code",
   "execution_count": null,
   "metadata": {},
   "outputs": [
    {
     "data": {
      "text/plain": [
       "brewery_id              341\n",
       "brewery_name            337\n",
       "review_time           20262\n",
       "review_overall            9\n",
       "review_aroma              9\n",
       "review_appearance         9\n",
       "review_profilename      156\n",
       "beer_style               58\n",
       "review_palate             9\n",
       "review_taste              9\n",
       "beer_name               143\n",
       "beer_abv                 84\n",
       "beer_id                 505\n",
       "dtype: int64"
      ]
     },
     "metadata": {},
     "output_type": "display_data"
    }
   ],
   "source": [
    "sub_beer_df.nunique()"
   ]
  }
 ],
 "metadata": {
  "kernelspec": {
   "display_name": "Python 3",
   "language": "python",
   "name": "python3"
  },
  "language_info": {
   "codemirror_mode": {
    "name": "ipython",
    "version": 3
   },
   "file_extension": ".py",
   "mimetype": "text/x-python",
   "name": "python",
   "nbconvert_exporter": "python",
   "pygments_lexer": "ipython3",
   "version": "3.11.2"
  }
 },
 "nbformat": 4,
 "nbformat_minor": 2
}
