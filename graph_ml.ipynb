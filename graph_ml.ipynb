{
 "cells": [
  {
   "cell_type": "code",
   "execution_count": 4,
   "metadata": {},
   "outputs": [],
   "source": [
    "from datetime import datetime\n",
    "from collections import Counter\n",
    "\n",
    "# Data management\n",
    "import pandas as pd\n",
    "\n",
    "# Data preprocessing and trasformation (ETL)\n",
    "from sklearn.experimental import enable_iterative_imputer\n",
    "from sklearn.impute import SimpleImputer, IterativeImputer\n",
    "from sklearn.base import BaseEstimator, TransformerMixin\n",
    "from sklearn.preprocessing import StandardScaler, MinMaxScaler, RobustScaler, MaxAbsScaler, \\\n",
    "    FunctionTransformer, Binarizer, OneHotEncoder, OrdinalEncoder\n",
    "from sklearn.pipeline import Pipeline\n",
    "from sklearn.compose import ColumnTransformer\n",
    "from sklearn.datasets import fetch_openml, load_iris, make_moons, make_classification\n",
    "\n",
    "\n",
    "# Math and Stat modules\n",
    "import numpy as np\n",
    "from scipy.stats import sem\n",
    "from random import choice\n",
    "\n",
    "# Supervised Learning\n",
    "from sklearn.model_selection import train_test_split, cross_val_score, cross_val_predict, \\\n",
    "    KFold, StratifiedKFold, RepeatedKFold, ShuffleSplit, StratifiedShuffleSplit, learning_curve, validation_curve\n",
    "from sklearn.linear_model import Perceptron, LogisticRegression\n",
    "from sklearn.base import BaseEstimator\n",
    "from sklearn.metrics import confusion_matrix, precision_score, recall_score, f1_score, \\\n",
    "    precision_recall_curve, roc_curve, accuracy_score\n",
    "from sklearn.dummy import DummyClassifier\n",
    "from sklearn.multiclass import OneVsOneClassifier, OneVsRestClassifier\n",
    "from sklearn.ensemble import RandomForestClassifier\n",
    "\n",
    "# Unsupervised Learning\n",
    "\n",
    "# Visualization\n",
    "import matplotlib.pyplot as plt\n",
    "import matplotlib as mpl\n",
    "%matplotlib inline\n",
    "\n",
    "# Network\n",
    "import networkx as nx"
   ]
  },
  {
   "cell_type": "markdown",
   "metadata": {},
   "source": [
    "# 1 - Link Prediction"
   ]
  },
  {
   "cell_type": "markdown",
   "metadata": {},
   "source": [
    "**Definition**\n",
    "\n",
    "Given a social network denoted as $G=(V,E)$, where a timestamp is associated with each edge $e$, the subgraph $G[t,t']$ is defined as the set of edges whose timestamps fall between $t$ and $t'$. \n",
    "\n",
    "Given $G[t_{0}, t'_{0}]$, the task of link prediction involves returning a set of edges not present in $G[t_{0}, t'_{0}]$ but that could be present in $G[t_{1}, t'_{1}]$, where $t'_{0}<t_{1}$"
   ]
  },
  {
   "cell_type": "code",
   "execution_count": null,
   "metadata": {},
   "outputs": [],
   "source": [
    "beers_temporal = nx.Graph()"
   ]
  },
  {
   "cell_type": "markdown",
   "metadata": {},
   "source": [
    "# 2 - Recommendation System"
   ]
  },
  {
   "cell_type": "code",
   "execution_count": 5,
   "metadata": {},
   "outputs": [],
   "source": [
    "from node2vec import Node2Vec"
   ]
  },
  {
   "cell_type": "code",
   "execution_count": 6,
   "metadata": {},
   "outputs": [
    {
     "data": {
      "text/plain": [
       "(9343, 13)"
      ]
     },
     "execution_count": 6,
     "metadata": {},
     "output_type": "execute_result"
    }
   ],
   "source": [
    "beer_df = pd.read_csv(\"beer_reviews.csv\")\n",
    "\n",
    "# change the dtype to datetime\n",
    "beer_df['review_time'] = pd.to_datetime(beer_df['review_time'], unit=\"s\")\n",
    "\n",
    "# rename some columns in a more handy way\n",
    "beer_df = beer_df.rename(columns={'beer_beerid': 'beer_id', 'review_profilename':'user'})\n",
    "\n",
    "# remove the null values\n",
    "beer_df = beer_df.dropna()\n",
    "\n",
    "# sub-sample keeping 2012 only\n",
    "sub_beer_df = beer_df[beer_df['review_time'].dt.year == 2012].copy()\n",
    "sub_beer_df.shape"
   ]
  },
  {
   "cell_type": "code",
   "execution_count": 7,
   "metadata": {},
   "outputs": [
    {
     "data": {
      "text/plain": [
       "(8646, 13)"
      ]
     },
     "execution_count": 7,
     "metadata": {},
     "output_type": "execute_result"
    }
   ],
   "source": [
    "# keep only profiles that reviewed more than one beer\n",
    "users_reviews_count = sub_beer_df['user'].value_counts()\n",
    "kept_profiles_only = users_reviews_count[users_reviews_count>1].index\n",
    "\n",
    "sub_beer_df = sub_beer_df[sub_beer_df['user'].isin(kept_profiles_only)].copy()\n",
    "sub_beer_df.shape"
   ]
  },
  {
   "cell_type": "code",
   "execution_count": 8,
   "metadata": {},
   "outputs": [
    {
     "data": {
      "text/plain": [
       "True"
      ]
     },
     "execution_count": 8,
     "metadata": {},
     "output_type": "execute_result"
    }
   ],
   "source": [
    "# Create an empty graph\n",
    "user_beer_graph = nx.Graph()\n",
    "\n",
    "# Add nodes for users and beers\n",
    "user_beer_graph.add_nodes_from(sub_beer_df['user'], bipartite='user')\n",
    "user_beer_graph.add_nodes_from(sub_beer_df['beer_name'], bipartite='beer')\n",
    "\n",
    "# Add edges representing user-beer interactions\n",
    "for _, row in sub_beer_df.iterrows():\n",
    "    user_beer_graph.add_edge(row['user'], row['beer_name']) #, rating=row['beer_style'])  # Assuming 'rating' is an attribute in your dataset\n",
    "\n",
    "nx.bipartite.is_bipartite(user_beer_graph)"
   ]
  },
  {
   "cell_type": "code",
   "execution_count": 17,
   "metadata": {},
   "outputs": [
    {
     "name": "stderr",
     "output_type": "stream",
     "text": [
      "Computing transition probabilities: 100%|██████████| 5254/5254 [00:00<00:00, 10063.16it/s]\n"
     ]
    },
    {
     "name": "stdout",
     "output_type": "stream",
     "text": [
      "[('Hitachino Nest Red Rice Ale', 0.9970855712890625), ('La Rullés Estivale (Bière De Gaume)', 0.9961832165718079), ('Belgian White', 0.9945496320724487), ('Heineken Dark Lager', 0.9943629503250122), ('John Labatt Classic', 0.994253933429718), ('Sinebrychoff Porter', 0.9938508868217468), ('Julius Echter Hefe-Weissbier Hell', 0.9937678575515747), (\"He'Brew Rejewvenator (Year Of The Date) 2009\", 0.9934571981430054), ('Coffee Stout (Brewmaster Series)', 0.9933536052703857), (\"D' Inn'Staade\", 0.9932727217674255)]\n"
     ]
    }
   ],
   "source": [
    "# generate random walks\n",
    "node2vec = Node2Vec(user_beer_graph, dimensions=16, \n",
    "                    walk_length=12, num_walks=50,\n",
    "                    p=2, q=1, workers=2)\n",
    "\n",
    "model = node2vec.fit(window=10, min_count=2)\n",
    "\n",
    "def recommend(user, num_recommendations=10):\n",
    "    # Get the embeddings of the input user\n",
    "    user_embedding = model.wv[str(user)]\n",
    "\n",
    "    # Find beers that are most similar to the input user\n",
    "    similar_beers = model.wv.most_similar([user_embedding], topn=num_recommendations+1)\n",
    "\n",
    "    # Filter out the input user from the recommended list\n",
    "    similar_beers = [(beer, similarity) for beer, similarity in similar_beers if beer != user]    \n",
    "\n",
    "    # ensure that the suitable recommended beers haven't been reviewed yet\n",
    "    # already_reviewed = set(sub_beer_df[sub_beer_df['user']==user]['beer_name'])\n",
    "    # similar_beers = [(beer, similarity) for beer, similarity in similar_beers if beer not in already_reviewed]\n",
    "\n",
    "    return similar_beers[:num_recommendations]\n",
    "\n",
    "recommended_beers = recommend('Knapp85', num_recommendations=10)\n",
    "print(recommended_beers)"
   ]
  },
  {
   "cell_type": "code",
   "execution_count": null,
   "metadata": {},
   "outputs": [],
   "source": []
  }
 ],
 "metadata": {
  "kernelspec": {
   "display_name": "Python 3",
   "language": "python",
   "name": "python3"
  },
  "language_info": {
   "codemirror_mode": {
    "name": "ipython",
    "version": 3
   },
   "file_extension": ".py",
   "mimetype": "text/x-python",
   "name": "python",
   "nbconvert_exporter": "python",
   "pygments_lexer": "ipython3",
   "version": "3.11.2"
  }
 },
 "nbformat": 4,
 "nbformat_minor": 2
}
